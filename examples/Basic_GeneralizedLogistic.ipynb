{
 "cells": [
  {
   "cell_type": "code",
   "execution_count": 1,
   "metadata": {},
   "outputs": [],
   "source": [
    "import numpy\n",
    "from matplotlib import pyplot\n",
    "import ipywidgets\n",
    "\n",
    "import calibr8"
   ]
  },
  {
   "cell_type": "markdown",
   "metadata": {},
   "source": [
    "### The Generalized Logistic Function\n",
    "Real-world calibration curves rarely follow linear dose/response relationships, but often exhibit lower & upper saturations.\n",
    "These relationships can be described with S-shaped functions.\n",
    "The logistic function (the _sigmoid curve_ is a special case of it) is often well suited for real-world calibration curves.\n",
    "\n",
    "Several different flavors of S-shaped curves are available:\n",
    "+ [sigmoid](https://en.wikipedia.org/wiki/Sigmoid_function) (1 parameter: variable slope)\n",
    "+ [logistic](https://en.wikipedia.org/wiki/Logistic_function) (3 parameters: variable upper limit, variable x-value of the inflection point, variable slope)\n",
    "+ [generalized logistic](https://en.wikipedia.org/wiki/Generalised_logistic_function) (5 parameters: variable limits, variable inflection point, variable slope, variable symmetry)\n",
    "\n",
    "Here, we're going to use the generalized logistic, because it is most useful. However, we use a different parametrization that is derived in the notebook `Background_AsymmetricLogistic`.\n",
    "\n",
    "$$f(x)= L_L \\cdot (L_U - L_L) \\cdot (e^{(\\frac{S}{L_U - L_L} (I_{x} - x) + c (e^{c} + 1)^{-(e^{c} + 1) e^{- c}}) (e^{c} + 1)^{(e^{c} + 1) e^{- c}}} + 1)^{- e^{- c}} $$\n",
    "\n",
    "The following table shows the bounds & interpretation of its 5 paramters:\n",
    "\n",
    "| parameter     | interpretation\n",
    "| ----- | -- |\n",
    "| $L_L \\in \\mathcal{R} $ | lower asymptote |\n",
    "| $L_U \\in \\mathcal{R} $ | upper asymptote |\n",
    "| $I_x \\in \\mathcal{R} $ | x-value of the inflection point |\n",
    "| $S \\in \\mathcal{R} $ | slope at the inflection point $I_x$ |\n",
    "| $c \\in \\mathcal{R} $ | moves the inflection point between $L_L$ ($c < 0$) and $L_U$ ($0 < c$) limit |"
   ]
  },
  {
   "cell_type": "markdown",
   "metadata": {},
   "source": [
    "### Example\n",
    "Let's say we have an assay with noticeable lower- and upper satuation limits, as well as some asymmetry.\n",
    "\n",
    "To visualize the meaning of the parameters, we can draw an interactive plot of the `calibr8.asymmetric_logistic` function:"
   ]
  },
  {
   "cell_type": "code",
   "execution_count": 2,
   "metadata": {},
   "outputs": [
    {
     "name": "stdout",
     "output_type": "stream",
     "text": [
      "Help on function asymmetric_logistic in module calibr8.core:\n",
      "\n",
      "asymmetric_logistic(x, theta)\n",
      "    5-parameter asymmetric logistic model.\n",
      "    \n",
      "    Args:\n",
      "        x (array): independent variable\n",
      "        theta (array): parameters of the logistic model\n",
      "            L_L: lower asymptote\n",
      "            L_U: upper asymptote\n",
      "            I_x: x-value at inflection point\n",
      "            S: slope at the inflection point\n",
      "            c: symmetry parameter (0 is symmetric)\n",
      "    \n",
      "    Returns:\n",
      "        y (array): dependent variable\n",
      "\n"
     ]
    }
   ],
   "source": [
    "help(calibr8.asymmetric_logistic)"
   ]
  },
  {
   "cell_type": "code",
   "execution_count": 3,
   "metadata": {},
   "outputs": [
    {
     "data": {
      "application/vnd.jupyter.widget-view+json": {
       "model_id": "f333bd55624e4851a478cd09a6ea2d61",
       "version_major": 2,
       "version_minor": 0
      },
      "text/plain": [
       "interactive(children=(FloatSlider(value=0.0, description='L_L', max=0.0, min=-5.0), FloatSlider(value=1.0, des…"
      ]
     },
     "metadata": {},
     "output_type": "display_data"
    }
   ],
   "source": [
    "def tangent(I_x, I_y, S):\n",
    "    \"\"\"Get x,y to plot a line with slope S around the coordinate <I_x,I_y>.\"\"\"\n",
    "    x = numpy.linspace(I_x-1,I_x+1,2)\n",
    "    y = -S*I_x + I_y + S*x\n",
    "    return x, y\n",
    "\n",
    "def plot_logistic(L_L=0, L_U=1, I_x=0.0, S=0.5, c=1.0):\n",
    "    theta = (L_L, L_U, I_x, S, c)\n",
    "    X_MIN, X_MAX = -5, 5\n",
    "    X = numpy.linspace(-5, 5, 100)\n",
    "    \n",
    "    # get key properties to visualize\n",
    "    I_y = calibr8.asymmetric_logistic(I_x, theta)\n",
    "    \n",
    "    fig, ax = pyplot.subplots(figsize=(16,6))\n",
    "    ax.plot(X, calibr8.asymmetric_logistic(X, theta))\n",
    "    ax.plot(*tangent(I_x, I_y, S), label='$tangent$')\n",
    "    \n",
    "    ax.axvline(I_x, linestyle=':', color='red', label='$I_x$')\n",
    "    ax.axhline(I_y, linestyle=':', color='red', label='$I_y$')\n",
    "    ax.axhline(L_U, linestyle=':', label='$L_U$')\n",
    "    ax.axhline(L_L, linestyle='--', label='$L_L$')\n",
    "    \n",
    "    ax.set_xlim(X_MIN, X_MAX)\n",
    "    ax.set_ylim(L_L-0.5, L_U+0.5)\n",
    "    ax.legend(loc='center left')\n",
    "    pyplot.show()\n",
    "    \n",
    "ipywidgets.interact(\n",
    "    plot_logistic,\n",
    "    L_L=(-5.0,0),\n",
    "    L_U=(0.0,5),\n",
    "    I_x=(-5.0, 5),\n",
    "    S=(-2.0, 3),\n",
    "    c=(-2.0, 2)\n",
    ");"
   ]
  },
  {
   "cell_type": "markdown",
   "metadata": {},
   "source": [
    "### Summary\n",
    "+ The generalized logistic function can describe relationships with lower & upper satuation\n",
    "+ Even in cases of \"good linear relationships\", the GLF is applicable\n",
    "+ The original parameterization is not very intuitive, but was reparameterized such that 4 of 5 parameters are interpretable"
   ]
  },
  {
   "cell_type": "code",
   "execution_count": null,
   "metadata": {},
   "outputs": [],
   "source": []
  }
 ],
 "metadata": {
  "kernelspec": {
   "display_name": "Python 3",
   "language": "python",
   "name": "python3"
  },
  "language_info": {
   "codemirror_mode": {
    "name": "ipython",
    "version": 3
   },
   "file_extension": ".py",
   "mimetype": "text/x-python",
   "name": "python",
   "nbconvert_exporter": "python",
   "pygments_lexer": "ipython3",
   "version": "3.6.9"
  },
  "widgets": {
   "application/vnd.jupyter.widget-state+json": {
    "state": {
     "00216450da264e2187a91104f2391d67": {
      "model_module": "@jupyter-widgets/base",
      "model_module_version": "1.2.0",
      "model_name": "LayoutModel",
      "state": {}
     },
     "00766dfa75e7468ab5362038ffb12ce4": {
      "model_module": "@jupyter-widgets/base",
      "model_module_version": "1.2.0",
      "model_name": "LayoutModel",
      "state": {}
     },
     "00f0dd0f205e4d4b9cb43b684477089b": {
      "model_module": "@jupyter-widgets/base",
      "model_module_version": "1.2.0",
      "model_name": "LayoutModel",
      "state": {}
     },
     "0b0f35b8f7d14d249f74084898b3cbc2": {
      "model_module": "@jupyter-widgets/controls",
      "model_module_version": "1.5.0",
      "model_name": "FloatSliderModel",
      "state": {
       "description": "L_U",
       "layout": "IPY_MODEL_9a32c0acde334e95aa894c458ad28e96",
       "max": 5,
       "step": 0.1,
       "style": "IPY_MODEL_a9f1216b2fa641fab1ea0a95d45bbc44",
       "value": 1
      }
     },
     "0df1a1e8bba44bc48c7a3a87acc96b8a": {
      "model_module": "@jupyter-widgets/base",
      "model_module_version": "1.2.0",
      "model_name": "LayoutModel",
      "state": {}
     },
     "0f18c4d8b2de4b669018d7d7a2b40a64": {
      "model_module": "@jupyter-widgets/controls",
      "model_module_version": "1.5.0",
      "model_name": "FloatSliderModel",
      "state": {
       "description": "L_L",
       "layout": "IPY_MODEL_43ec8072cd4644e9ae94f01d4891a5a4",
       "max": 0,
       "min": -5,
       "step": 0.1,
       "style": "IPY_MODEL_b1626998f89d4cbb9e528f6aab5289e3"
      }
     },
     "0f56434c9314403b8beaaa39fd6ba4f8": {
      "model_module": "@jupyter-widgets/output",
      "model_module_version": "1.0.0",
      "model_name": "OutputModel",
      "state": {
       "layout": "IPY_MODEL_2deea9d9b3bb4468885c514b520c313b",
       "outputs": [
        {
         "data": {
          "image/png": "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\n",
          "text/plain": "<Figure size 1152x432 with 1 Axes>"
         },
         "metadata": {
          "needs_background": "light"
         },
         "output_type": "display_data"
        }
       ]
      }
     },
     "109ddf2a99b14c4baeddc4bdb107b354": {
      "model_module": "@jupyter-widgets/controls",
      "model_module_version": "1.5.0",
      "model_name": "FloatSliderModel",
      "state": {
       "description": "L_U",
       "layout": "IPY_MODEL_8ba81d8dc62c4ef89154542507ee668b",
       "max": 5,
       "step": 0.1,
       "style": "IPY_MODEL_490c38c0a68a49a78b2e9f52fd9d181c",
       "value": 1
      }
     },
     "10e1c651c4ca4debada582734ad1209e": {
      "model_module": "@jupyter-widgets/controls",
      "model_module_version": "1.5.0",
      "model_name": "FloatSliderModel",
      "state": {
       "description": "L_L",
       "layout": "IPY_MODEL_b2b93ac11cec48369d020a6405231d8e",
       "max": 0,
       "min": -5,
       "step": 0.1,
       "style": "IPY_MODEL_d7b2108dca76404287a6cfcec1729842"
      }
     },
     "141436e285814569a8025ff2ffbabb5e": {
      "model_module": "@jupyter-widgets/controls",
      "model_module_version": "1.5.0",
      "model_name": "FloatSliderModel",
      "state": {
       "description": "c",
       "layout": "IPY_MODEL_c64c5dd0deaa4fea9b9deff09ccc6582",
       "max": 2,
       "min": -2,
       "step": 0.1,
       "style": "IPY_MODEL_4bbf209788e04b97b27be11f246f5eec",
       "value": 1
      }
     },
     "1fa529a6331640359707d4f627406612": {
      "model_module": "@jupyter-widgets/controls",
      "model_module_version": "1.5.0",
      "model_name": "FloatSliderModel",
      "state": {
       "description": "S",
       "layout": "IPY_MODEL_d3748f06bf484df3b8bc6b57b2c9eb0f",
       "max": 3,
       "min": -2,
       "step": 0.1,
       "style": "IPY_MODEL_c54690c3a9ec49a297aea87d3676f9ff",
       "value": 1.1
      }
     },
     "241e5492188348ab9ea1931752653dbb": {
      "model_module": "@jupyter-widgets/base",
      "model_module_version": "1.2.0",
      "model_name": "LayoutModel",
      "state": {}
     },
     "298ea6ccf59e4129b1d49e84f6fd0bf3": {
      "model_module": "@jupyter-widgets/controls",
      "model_module_version": "1.5.0",
      "model_name": "FloatSliderModel",
      "state": {
       "description": "L_L",
       "layout": "IPY_MODEL_b75ddfd216b141b7bdf23b71ce97be9c",
       "max": 0,
       "min": -5,
       "step": 0.1,
       "style": "IPY_MODEL_907461938616468ea15f4a49de893bd9"
      }
     },
     "29a6ee0cf29144a49fbbc00c51e844f0": {
      "model_module": "@jupyter-widgets/controls",
      "model_module_version": "1.5.0",
      "model_name": "FloatSliderModel",
      "state": {
       "description": "c",
       "layout": "IPY_MODEL_732b3bb575fa42ffba6060b19b1f8c2d",
       "max": 2,
       "min": -2,
       "step": 0.1,
       "style": "IPY_MODEL_dab1c31cfd484f53a4dc2655fc099c6d",
       "value": 1
      }
     },
     "2deea9d9b3bb4468885c514b520c313b": {
      "model_module": "@jupyter-widgets/base",
      "model_module_version": "1.2.0",
      "model_name": "LayoutModel",
      "state": {}
     },
     "2eaaf58c1da6439aa82150b45e0de023": {
      "model_module": "@jupyter-widgets/controls",
      "model_module_version": "1.5.0",
      "model_name": "FloatSliderModel",
      "state": {
       "description": "L_U",
       "layout": "IPY_MODEL_b190b9dcae7141548c69ae95776e7d99",
       "max": 5,
       "step": 0.1,
       "style": "IPY_MODEL_f126b9517af6476b8da448d2cb8aa35d",
       "value": 1
      }
     },
     "2f71eed750654913af3e65a36ffc0e1f": {
      "model_module": "@jupyter-widgets/controls",
      "model_module_version": "1.5.0",
      "model_name": "VBoxModel",
      "state": {
       "_dom_classes": [
        "widget-interact"
       ],
       "children": [
        "IPY_MODEL_298ea6ccf59e4129b1d49e84f6fd0bf3",
        "IPY_MODEL_2eaaf58c1da6439aa82150b45e0de023",
        "IPY_MODEL_ebb800db294d4db78877513bb35d9da7",
        "IPY_MODEL_5cf6336f5c1a4b7db3fecb0109022b8e",
        "IPY_MODEL_d690e198955d4353aea63df4daceb024",
        "IPY_MODEL_edc9fbf0d3d0414dbb3cc44bc1aa6e89"
       ],
       "layout": "IPY_MODEL_4c6108a595794aba9b88f2e3820322ea"
      }
     },
     "35337c2e01e148868f5e9e66b95f8de8": {
      "model_module": "@jupyter-widgets/base",
      "model_module_version": "1.2.0",
      "model_name": "LayoutModel",
      "state": {}
     },
     "39386552edf34b989f6b78a588d7ad53": {
      "model_module": "@jupyter-widgets/controls",
      "model_module_version": "1.5.0",
      "model_name": "VBoxModel",
      "state": {
       "_dom_classes": [
        "widget-interact"
       ],
       "children": [
        "IPY_MODEL_10e1c651c4ca4debada582734ad1209e",
        "IPY_MODEL_109ddf2a99b14c4baeddc4bdb107b354",
        "IPY_MODEL_b895acc7b1694f0f95d9e5f6edf514b1",
        "IPY_MODEL_1fa529a6331640359707d4f627406612",
        "IPY_MODEL_a7745f18c1b040c8993eea5fcde4c29f",
        "IPY_MODEL_3c926ac10dcf40d59fae947cbdd114a2"
       ],
       "layout": "IPY_MODEL_00216450da264e2187a91104f2391d67"
      }
     },
     "3ad4c9962b344f999147f417f6b61239": {
      "model_module": "@jupyter-widgets/base",
      "model_module_version": "1.2.0",
      "model_name": "LayoutModel",
      "state": {}
     },
     "3c926ac10dcf40d59fae947cbdd114a2": {
      "model_module": "@jupyter-widgets/output",
      "model_module_version": "1.0.0",
      "model_name": "OutputModel",
      "state": {
       "layout": "IPY_MODEL_44b9d217730d431b89e5ea0fd8a7ede4",
       "outputs": [
        {
         "data": {
          "image/png": "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\n",
          "text/plain": "<Figure size 1152x432 with 1 Axes>"
         },
         "metadata": {
          "needs_background": "light"
         },
         "output_type": "display_data"
        }
       ]
      }
     },
     "3ccd26e1b71142d7a0be2fda7ba28100": {
      "model_module": "@jupyter-widgets/controls",
      "model_module_version": "1.5.0",
      "model_name": "SliderStyleModel",
      "state": {
       "description_width": ""
      }
     },
     "3cd31fbcf32e4f21aaff30e8d2abc0e9": {
      "model_module": "@jupyter-widgets/controls",
      "model_module_version": "1.5.0",
      "model_name": "FloatSliderModel",
      "state": {
       "description": "L_U",
       "layout": "IPY_MODEL_d5597c241d6d495baf5a7dffd11c81bf",
       "max": 5,
       "step": 0.1,
       "style": "IPY_MODEL_53e1af85ed584b40a3344664adfad741",
       "value": 1
      }
     },
     "4082686f438143219b3284a5b5822db5": {
      "model_module": "@jupyter-widgets/controls",
      "model_module_version": "1.5.0",
      "model_name": "SliderStyleModel",
      "state": {
       "description_width": ""
      }
     },
     "43ec8072cd4644e9ae94f01d4891a5a4": {
      "model_module": "@jupyter-widgets/base",
      "model_module_version": "1.2.0",
      "model_name": "LayoutModel",
      "state": {}
     },
     "44b9d217730d431b89e5ea0fd8a7ede4": {
      "model_module": "@jupyter-widgets/base",
      "model_module_version": "1.2.0",
      "model_name": "LayoutModel",
      "state": {}
     },
     "490c38c0a68a49a78b2e9f52fd9d181c": {
      "model_module": "@jupyter-widgets/controls",
      "model_module_version": "1.5.0",
      "model_name": "SliderStyleModel",
      "state": {
       "description_width": ""
      }
     },
     "4a44ee7fc4a54af0963b69e993e48df2": {
      "model_module": "@jupyter-widgets/controls",
      "model_module_version": "1.5.0",
      "model_name": "SliderStyleModel",
      "state": {
       "description_width": ""
      }
     },
     "4bbf209788e04b97b27be11f246f5eec": {
      "model_module": "@jupyter-widgets/controls",
      "model_module_version": "1.5.0",
      "model_name": "SliderStyleModel",
      "state": {
       "description_width": ""
      }
     },
     "4c6108a595794aba9b88f2e3820322ea": {
      "model_module": "@jupyter-widgets/base",
      "model_module_version": "1.2.0",
      "model_name": "LayoutModel",
      "state": {}
     },
     "53e1af85ed584b40a3344664adfad741": {
      "model_module": "@jupyter-widgets/controls",
      "model_module_version": "1.5.0",
      "model_name": "SliderStyleModel",
      "state": {
       "description_width": ""
      }
     },
     "5671f9b565a04250bcbe7ca2581ee906": {
      "model_module": "@jupyter-widgets/controls",
      "model_module_version": "1.5.0",
      "model_name": "FloatSliderModel",
      "state": {
       "description": "L_U",
       "layout": "IPY_MODEL_00766dfa75e7468ab5362038ffb12ce4",
       "max": 5,
       "step": 0.1,
       "style": "IPY_MODEL_bda6670e0ffb463783b5300c6ccca281",
       "value": 1
      }
     },
     "599cc7f561424335b4118fb195494f14": {
      "model_module": "@jupyter-widgets/base",
      "model_module_version": "1.2.0",
      "model_name": "LayoutModel",
      "state": {}
     },
     "5cf6336f5c1a4b7db3fecb0109022b8e": {
      "model_module": "@jupyter-widgets/controls",
      "model_module_version": "1.5.0",
      "model_name": "FloatSliderModel",
      "state": {
       "description": "S",
       "layout": "IPY_MODEL_d817c26487c840eeb15ab7885627c28e",
       "max": 3,
       "min": -2,
       "step": 0.1,
       "style": "IPY_MODEL_bdd3c365bb9441a58331f4bcd6b5c342",
       "value": 0.5
      }
     },
     "5dbc012e56e74961bce74300894d8bcd": {
      "model_module": "@jupyter-widgets/controls",
      "model_module_version": "1.5.0",
      "model_name": "SliderStyleModel",
      "state": {
       "description_width": ""
      }
     },
     "5e1bf45dbe2b4d41be5cd22cb37c53ce": {
      "model_module": "@jupyter-widgets/base",
      "model_module_version": "1.2.0",
      "model_name": "LayoutModel",
      "state": {}
     },
     "66b80b954ae94e3c97d36d508be4c581": {
      "model_module": "@jupyter-widgets/controls",
      "model_module_version": "1.5.0",
      "model_name": "FloatSliderModel",
      "state": {
       "description": "I_x",
       "layout": "IPY_MODEL_88f25dba720c43d6b6e37abca59c0e10",
       "max": 5,
       "min": -5,
       "step": 0.1,
       "style": "IPY_MODEL_f23fb9a9bd5d4dad8a9eb4b9e0ff16cf"
      }
     },
     "70fa72c17794476d8e0d9ebcb10362bc": {
      "model_module": "@jupyter-widgets/base",
      "model_module_version": "1.2.0",
      "model_name": "LayoutModel",
      "state": {}
     },
     "732b3bb575fa42ffba6060b19b1f8c2d": {
      "model_module": "@jupyter-widgets/base",
      "model_module_version": "1.2.0",
      "model_name": "LayoutModel",
      "state": {}
     },
     "7480d17e07c548cea08cdb642150c1ba": {
      "model_module": "@jupyter-widgets/controls",
      "model_module_version": "1.5.0",
      "model_name": "FloatSliderModel",
      "state": {
       "description": "L_L",
       "layout": "IPY_MODEL_8606c17ff3ef4689971e978d294de19b",
       "max": 0,
       "min": -5,
       "step": 0.1,
       "style": "IPY_MODEL_ff77751fd4a64cc4a2e927bee5ba968c"
      }
     },
     "750e64c74d6c42769023488bf9c20548": {
      "model_module": "@jupyter-widgets/controls",
      "model_module_version": "1.5.0",
      "model_name": "SliderStyleModel",
      "state": {
       "description_width": ""
      }
     },
     "76ad4dda3fd748498c7553a7351b8d3f": {
      "model_module": "@jupyter-widgets/base",
      "model_module_version": "1.2.0",
      "model_name": "LayoutModel",
      "state": {}
     },
     "77b7a06032764d15a1b8c7bfc8712c85": {
      "model_module": "@jupyter-widgets/base",
      "model_module_version": "1.2.0",
      "model_name": "LayoutModel",
      "state": {}
     },
     "7d5e19da4e934d79819dca8836bac3c0": {
      "model_module": "@jupyter-widgets/controls",
      "model_module_version": "1.5.0",
      "model_name": "SliderStyleModel",
      "state": {
       "description_width": ""
      }
     },
     "8067e82519e64e4888cb771ae0abaa97": {
      "model_module": "@jupyter-widgets/controls",
      "model_module_version": "1.5.0",
      "model_name": "FloatSliderModel",
      "state": {
       "description": "I_x",
       "layout": "IPY_MODEL_c3a61bb5d11f4b19adb2d4e021b43fb2",
       "max": 5,
       "min": -5,
       "step": 0.1,
       "style": "IPY_MODEL_d4a25415903443c9a3e17cf140340a94"
      }
     },
     "8069bbe2b6ae4b50b60042d4f1d67d24": {
      "model_module": "@jupyter-widgets/controls",
      "model_module_version": "1.5.0",
      "model_name": "SliderStyleModel",
      "state": {
       "description_width": ""
      }
     },
     "8318c6f61d2248e8b01b7ffe9867ca3e": {
      "model_module": "@jupyter-widgets/controls",
      "model_module_version": "1.5.0",
      "model_name": "VBoxModel",
      "state": {
       "_dom_classes": [
        "widget-interact"
       ],
       "children": [
        "IPY_MODEL_0f18c4d8b2de4b669018d7d7a2b40a64",
        "IPY_MODEL_3cd31fbcf32e4f21aaff30e8d2abc0e9",
        "IPY_MODEL_66b80b954ae94e3c97d36d508be4c581",
        "IPY_MODEL_af98cee3d8e349848a0a6585dd7c2f18",
        "IPY_MODEL_29a6ee0cf29144a49fbbc00c51e844f0",
        "IPY_MODEL_adc9e7d43fdd4cadb1f888c3c3f10089"
       ],
       "layout": "IPY_MODEL_241e5492188348ab9ea1931752653dbb"
      }
     },
     "84c7f509ea9b4cefb3a5799dd96b5c97": {
      "model_module": "@jupyter-widgets/controls",
      "model_module_version": "1.5.0",
      "model_name": "SliderStyleModel",
      "state": {
       "description_width": ""
      }
     },
     "8606c17ff3ef4689971e978d294de19b": {
      "model_module": "@jupyter-widgets/base",
      "model_module_version": "1.2.0",
      "model_name": "LayoutModel",
      "state": {}
     },
     "88f25dba720c43d6b6e37abca59c0e10": {
      "model_module": "@jupyter-widgets/base",
      "model_module_version": "1.2.0",
      "model_name": "LayoutModel",
      "state": {}
     },
     "8ba81d8dc62c4ef89154542507ee668b": {
      "model_module": "@jupyter-widgets/base",
      "model_module_version": "1.2.0",
      "model_name": "LayoutModel",
      "state": {}
     },
     "907461938616468ea15f4a49de893bd9": {
      "model_module": "@jupyter-widgets/controls",
      "model_module_version": "1.5.0",
      "model_name": "SliderStyleModel",
      "state": {
       "description_width": ""
      }
     },
     "9649f27a3d8147a69a2907091041d7dd": {
      "model_module": "@jupyter-widgets/base",
      "model_module_version": "1.2.0",
      "model_name": "LayoutModel",
      "state": {}
     },
     "96509e8ebba742759086cfc44dcd40b0": {
      "model_module": "@jupyter-widgets/controls",
      "model_module_version": "1.5.0",
      "model_name": "VBoxModel",
      "state": {
       "_dom_classes": [
        "widget-interact"
       ],
       "children": [
        "IPY_MODEL_d2bfe5059d26470f86c3ca7e595e0f2b",
        "IPY_MODEL_0b0f35b8f7d14d249f74084898b3cbc2",
        "IPY_MODEL_8067e82519e64e4888cb771ae0abaa97",
        "IPY_MODEL_ce7ce5fe53e04039ba91658956eeefa3",
        "IPY_MODEL_141436e285814569a8025ff2ffbabb5e",
        "IPY_MODEL_0f56434c9314403b8beaaa39fd6ba4f8"
       ],
       "layout": "IPY_MODEL_35337c2e01e148868f5e9e66b95f8de8"
      }
     },
     "9a32c0acde334e95aa894c458ad28e96": {
      "model_module": "@jupyter-widgets/base",
      "model_module_version": "1.2.0",
      "model_name": "LayoutModel",
      "state": {}
     },
     "9bb44ccc0a604dffbcc792cd97e33dec": {
      "model_module": "@jupyter-widgets/output",
      "model_module_version": "1.0.0",
      "model_name": "OutputModel",
      "state": {
       "layout": "IPY_MODEL_3ad4c9962b344f999147f417f6b61239",
       "outputs": [
        {
         "data": {
          "image/png": "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\n",
          "text/plain": "<Figure size 1152x432 with 1 Axes>"
         },
         "metadata": {
          "needs_background": "light"
         },
         "output_type": "display_data"
        }
       ]
      }
     },
     "a309bdef4af84d5cbb687be103918795": {
      "model_module": "@jupyter-widgets/base",
      "model_module_version": "1.2.0",
      "model_name": "LayoutModel",
      "state": {}
     },
     "a7745f18c1b040c8993eea5fcde4c29f": {
      "model_module": "@jupyter-widgets/controls",
      "model_module_version": "1.5.0",
      "model_name": "FloatSliderModel",
      "state": {
       "description": "c",
       "layout": "IPY_MODEL_e6bd68c59dff47e9b971815f06efd3db",
       "max": 2,
       "min": -2,
       "step": 0.1,
       "style": "IPY_MODEL_8069bbe2b6ae4b50b60042d4f1d67d24",
       "value": 1.5
      }
     },
     "a8bda0f5c2044c188ac0daed2af02efb": {
      "model_module": "@jupyter-widgets/base",
      "model_module_version": "1.2.0",
      "model_name": "LayoutModel",
      "state": {}
     },
     "a9f1216b2fa641fab1ea0a95d45bbc44": {
      "model_module": "@jupyter-widgets/controls",
      "model_module_version": "1.5.0",
      "model_name": "SliderStyleModel",
      "state": {
       "description_width": ""
      }
     },
     "aaed0ba483554d4a9d40a9b187ee18d3": {
      "model_module": "@jupyter-widgets/controls",
      "model_module_version": "1.5.0",
      "model_name": "FloatSliderModel",
      "state": {
       "description": "c",
       "layout": "IPY_MODEL_70fa72c17794476d8e0d9ebcb10362bc",
       "max": 2,
       "min": -2,
       "step": 0.1,
       "style": "IPY_MODEL_3ccd26e1b71142d7a0be2fda7ba28100",
       "value": 1
      }
     },
     "ab1b74fed6514fcd85ac5d73026a5045": {
      "model_module": "@jupyter-widgets/controls",
      "model_module_version": "1.5.0",
      "model_name": "SliderStyleModel",
      "state": {
       "description_width": ""
      }
     },
     "ab1f134d17574b52b2e2d293876b2d24": {
      "model_module": "@jupyter-widgets/controls",
      "model_module_version": "1.5.0",
      "model_name": "SliderStyleModel",
      "state": {
       "description_width": ""
      }
     },
     "adc9e7d43fdd4cadb1f888c3c3f10089": {
      "model_module": "@jupyter-widgets/output",
      "model_module_version": "1.0.0",
      "model_name": "OutputModel",
      "state": {
       "layout": "IPY_MODEL_00f0dd0f205e4d4b9cb43b684477089b",
       "outputs": [
        {
         "data": {
          "image/png": "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\n",
          "text/plain": "<Figure size 1152x432 with 1 Axes>"
         },
         "metadata": {
          "needs_background": "light"
         },
         "output_type": "display_data"
        }
       ]
      }
     },
     "af98cee3d8e349848a0a6585dd7c2f18": {
      "model_module": "@jupyter-widgets/controls",
      "model_module_version": "1.5.0",
      "model_name": "FloatSliderModel",
      "state": {
       "description": "S",
       "layout": "IPY_MODEL_9649f27a3d8147a69a2907091041d7dd",
       "max": 3,
       "min": -2,
       "step": 0.1,
       "style": "IPY_MODEL_7d5e19da4e934d79819dca8836bac3c0",
       "value": 0.5
      }
     },
     "b1626998f89d4cbb9e528f6aab5289e3": {
      "model_module": "@jupyter-widgets/controls",
      "model_module_version": "1.5.0",
      "model_name": "SliderStyleModel",
      "state": {
       "description_width": ""
      }
     },
     "b190b9dcae7141548c69ae95776e7d99": {
      "model_module": "@jupyter-widgets/base",
      "model_module_version": "1.2.0",
      "model_name": "LayoutModel",
      "state": {}
     },
     "b2b93ac11cec48369d020a6405231d8e": {
      "model_module": "@jupyter-widgets/base",
      "model_module_version": "1.2.0",
      "model_name": "LayoutModel",
      "state": {}
     },
     "b59544868979425da3d036e8c966f3cb": {
      "model_module": "@jupyter-widgets/controls",
      "model_module_version": "1.5.0",
      "model_name": "FloatSliderModel",
      "state": {
       "description": "I_x",
       "layout": "IPY_MODEL_a8bda0f5c2044c188ac0daed2af02efb",
       "max": 5,
       "min": -5,
       "step": 0.1,
       "style": "IPY_MODEL_84c7f509ea9b4cefb3a5799dd96b5c97"
      }
     },
     "b75ddfd216b141b7bdf23b71ce97be9c": {
      "model_module": "@jupyter-widgets/base",
      "model_module_version": "1.2.0",
      "model_name": "LayoutModel",
      "state": {}
     },
     "b895acc7b1694f0f95d9e5f6edf514b1": {
      "model_module": "@jupyter-widgets/controls",
      "model_module_version": "1.5.0",
      "model_name": "FloatSliderModel",
      "state": {
       "description": "I_x",
       "layout": "IPY_MODEL_d61c83d57fa848d5993e4906f5c17f92",
       "max": 5,
       "min": -5,
       "step": 0.1,
       "style": "IPY_MODEL_5dbc012e56e74961bce74300894d8bcd",
       "value": 2.1
      }
     },
     "bda6670e0ffb463783b5300c6ccca281": {
      "model_module": "@jupyter-widgets/controls",
      "model_module_version": "1.5.0",
      "model_name": "SliderStyleModel",
      "state": {
       "description_width": ""
      }
     },
     "bdd3c365bb9441a58331f4bcd6b5c342": {
      "model_module": "@jupyter-widgets/controls",
      "model_module_version": "1.5.0",
      "model_name": "SliderStyleModel",
      "state": {
       "description_width": ""
      }
     },
     "c3a61bb5d11f4b19adb2d4e021b43fb2": {
      "model_module": "@jupyter-widgets/base",
      "model_module_version": "1.2.0",
      "model_name": "LayoutModel",
      "state": {}
     },
     "c54690c3a9ec49a297aea87d3676f9ff": {
      "model_module": "@jupyter-widgets/controls",
      "model_module_version": "1.5.0",
      "model_name": "SliderStyleModel",
      "state": {
       "description_width": ""
      }
     },
     "c64c5dd0deaa4fea9b9deff09ccc6582": {
      "model_module": "@jupyter-widgets/base",
      "model_module_version": "1.2.0",
      "model_name": "LayoutModel",
      "state": {}
     },
     "ce7ce5fe53e04039ba91658956eeefa3": {
      "model_module": "@jupyter-widgets/controls",
      "model_module_version": "1.5.0",
      "model_name": "FloatSliderModel",
      "state": {
       "description": "S",
       "layout": "IPY_MODEL_599cc7f561424335b4118fb195494f14",
       "max": 3,
       "min": -2,
       "step": 0.1,
       "style": "IPY_MODEL_4082686f438143219b3284a5b5822db5",
       "value": 2
      }
     },
     "d2bfe5059d26470f86c3ca7e595e0f2b": {
      "model_module": "@jupyter-widgets/controls",
      "model_module_version": "1.5.0",
      "model_name": "FloatSliderModel",
      "state": {
       "description": "L_L",
       "layout": "IPY_MODEL_5e1bf45dbe2b4d41be5cd22cb37c53ce",
       "max": 0,
       "min": -5,
       "step": 0.1,
       "style": "IPY_MODEL_750e64c74d6c42769023488bf9c20548"
      }
     },
     "d3748f06bf484df3b8bc6b57b2c9eb0f": {
      "model_module": "@jupyter-widgets/base",
      "model_module_version": "1.2.0",
      "model_name": "LayoutModel",
      "state": {}
     },
     "d4a25415903443c9a3e17cf140340a94": {
      "model_module": "@jupyter-widgets/controls",
      "model_module_version": "1.5.0",
      "model_name": "SliderStyleModel",
      "state": {
       "description_width": ""
      }
     },
     "d5597c241d6d495baf5a7dffd11c81bf": {
      "model_module": "@jupyter-widgets/base",
      "model_module_version": "1.2.0",
      "model_name": "LayoutModel",
      "state": {}
     },
     "d61c83d57fa848d5993e4906f5c17f92": {
      "model_module": "@jupyter-widgets/base",
      "model_module_version": "1.2.0",
      "model_name": "LayoutModel",
      "state": {}
     },
     "d690e198955d4353aea63df4daceb024": {
      "model_module": "@jupyter-widgets/controls",
      "model_module_version": "1.5.0",
      "model_name": "FloatSliderModel",
      "state": {
       "description": "c",
       "layout": "IPY_MODEL_db015cc20d0443e984d11d6ecab25809",
       "max": 2,
       "min": -2,
       "step": 0.1,
       "style": "IPY_MODEL_ab1b74fed6514fcd85ac5d73026a5045",
       "value": 1
      }
     },
     "d7b2108dca76404287a6cfcec1729842": {
      "model_module": "@jupyter-widgets/controls",
      "model_module_version": "1.5.0",
      "model_name": "SliderStyleModel",
      "state": {
       "description_width": ""
      }
     },
     "d817c26487c840eeb15ab7885627c28e": {
      "model_module": "@jupyter-widgets/base",
      "model_module_version": "1.2.0",
      "model_name": "LayoutModel",
      "state": {}
     },
     "dab1c31cfd484f53a4dc2655fc099c6d": {
      "model_module": "@jupyter-widgets/controls",
      "model_module_version": "1.5.0",
      "model_name": "SliderStyleModel",
      "state": {
       "description_width": ""
      }
     },
     "db015cc20d0443e984d11d6ecab25809": {
      "model_module": "@jupyter-widgets/base",
      "model_module_version": "1.2.0",
      "model_name": "LayoutModel",
      "state": {}
     },
     "e6bd68c59dff47e9b971815f06efd3db": {
      "model_module": "@jupyter-widgets/base",
      "model_module_version": "1.2.0",
      "model_name": "LayoutModel",
      "state": {}
     },
     "ebb800db294d4db78877513bb35d9da7": {
      "model_module": "@jupyter-widgets/controls",
      "model_module_version": "1.5.0",
      "model_name": "FloatSliderModel",
      "state": {
       "description": "I_x",
       "layout": "IPY_MODEL_0df1a1e8bba44bc48c7a3a87acc96b8a",
       "max": 5,
       "min": -5,
       "step": 0.1,
       "style": "IPY_MODEL_ab1f134d17574b52b2e2d293876b2d24"
      }
     },
     "edc9fbf0d3d0414dbb3cc44bc1aa6e89": {
      "model_module": "@jupyter-widgets/output",
      "model_module_version": "1.0.0",
      "model_name": "OutputModel",
      "state": {
       "layout": "IPY_MODEL_76ad4dda3fd748498c7553a7351b8d3f",
       "outputs": [
        {
         "data": {
          "image/png": "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\n",
          "text/plain": "<Figure size 1152x432 with 1 Axes>"
         },
         "metadata": {
          "needs_background": "light"
         },
         "output_type": "display_data"
        }
       ]
      }
     },
     "f126b9517af6476b8da448d2cb8aa35d": {
      "model_module": "@jupyter-widgets/controls",
      "model_module_version": "1.5.0",
      "model_name": "SliderStyleModel",
      "state": {
       "description_width": ""
      }
     },
     "f23fb9a9bd5d4dad8a9eb4b9e0ff16cf": {
      "model_module": "@jupyter-widgets/controls",
      "model_module_version": "1.5.0",
      "model_name": "SliderStyleModel",
      "state": {
       "description_width": ""
      }
     },
     "f333bd55624e4851a478cd09a6ea2d61": {
      "model_module": "@jupyter-widgets/controls",
      "model_module_version": "1.5.0",
      "model_name": "VBoxModel",
      "state": {
       "_dom_classes": [
        "widget-interact"
       ],
       "children": [
        "IPY_MODEL_7480d17e07c548cea08cdb642150c1ba",
        "IPY_MODEL_5671f9b565a04250bcbe7ca2581ee906",
        "IPY_MODEL_b59544868979425da3d036e8c966f3cb",
        "IPY_MODEL_fb7cd98bb02a4971b7cc16c71940ec51",
        "IPY_MODEL_aaed0ba483554d4a9d40a9b187ee18d3",
        "IPY_MODEL_9bb44ccc0a604dffbcc792cd97e33dec"
       ],
       "layout": "IPY_MODEL_77b7a06032764d15a1b8c7bfc8712c85"
      }
     },
     "fb7cd98bb02a4971b7cc16c71940ec51": {
      "model_module": "@jupyter-widgets/controls",
      "model_module_version": "1.5.0",
      "model_name": "FloatSliderModel",
      "state": {
       "description": "S",
       "layout": "IPY_MODEL_a309bdef4af84d5cbb687be103918795",
       "max": 3,
       "min": -2,
       "step": 0.1,
       "style": "IPY_MODEL_4a44ee7fc4a54af0963b69e993e48df2",
       "value": 0.5
      }
     },
     "ff77751fd4a64cc4a2e927bee5ba968c": {
      "model_module": "@jupyter-widgets/controls",
      "model_module_version": "1.5.0",
      "model_name": "SliderStyleModel",
      "state": {
       "description_width": ""
      }
     }
    },
    "version_major": 2,
    "version_minor": 0
   }
  }
 },
 "nbformat": 4,
 "nbformat_minor": 2
}
