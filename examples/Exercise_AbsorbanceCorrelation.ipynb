{
 "cells": [
  {
   "cell_type": "code",
   "execution_count": null,
   "metadata": {},
   "outputs": [],
   "source": [
    "%load_ext autoreload\n",
    "%autoreload 2"
   ]
  },
  {
   "cell_type": "code",
   "execution_count": null,
   "metadata": {},
   "outputs": [],
   "source": [
    "import numpy\n",
    "from matplotlib import pyplot\n",
    "import pandas\n",
    "import scipy.stats\n",
    "\n",
    "import calibr8"
   ]
  },
  {
   "cell_type": "markdown",
   "metadata": {},
   "source": [
    "### Load data\n",
    "For the calibration curve, we need pairs of independent (x) and dependent (y) variables."
   ]
  },
  {
   "cell_type": "code",
   "execution_count": null,
   "metadata": {},
   "outputs": [],
   "source": [
    "data = pandas.DataFrame()\n",
    "data['x'] = [2.9988000e+01, 1.2600000e+01, 5.2920000e+00, 2.2320000e+00, 9.5961600e-01,\n",
    " 4.0320000e-01, 1.6934400e-01, 6.9192000e-02, 2.9748096e-02, 1.2499200e-02,\n",
    " 5.2496640e-03, 2.1449520e-03, 2.6928000e+01, 1.1304000e+01, 4.7520000e+00,\n",
    " 1.9800000e+00, 8.6169600e-01, 3.6172800e-01, 1.4731200e-01, 6.3360000e-02,\n",
    " 2.6712576e-02, 1.1213568e-02, 4.7139840e-03, 1.9641600e-03, 2.4156000e+01,\n",
    " 1.0152000e+01, 4.2480000e+00, 1.8000000e+00, 7.7299200e-01, 3.1471200e-01,\n",
    " 1.3593600e-01, 5.5800000e-02, 2.3962752e-02, 1.0070784e-02, 4.2140160e-03,\n",
    " 1.7298000e-03, 2.1672000e+01, 9.1080000e+00, 3.8160000e+00, 1.6200000e+00,\n",
    " 6.9350400e-01, 2.8234800e-01, 1.2211200e-01, 5.0220000e-02, 2.1498624e-02,\n",
    " 9.0351360e-03, 3.7854720e-03, 1.5568200e-03, 1.9440000e+01, 8.1720000e+00,\n",
    " 3.4200000e+00, 1.4400000e+00, 6.2208000e-01, 2.5333200e-01, 1.0944000e-01,\n",
    " 4.4640000e-02, 1.9284480e-02, 8.1066240e-03, 3.3926400e-03, 1.4284800e-03,\n",
    " 1.7424000e+01, 7.3080000e+00, 3.0600000e+00, 1.2960000e+00, 5.5756800e-01,\n",
    " 2.3385600e-01, 9.7920000e-02, 4.0176000e-02, 1.7284608e-02, 7.2495360e-03,\n",
    " 3.0355200e-03, 1.2454560e-03, 1.5660000e+01, 6.5520000e+00, 2.7720000e+00,\n",
    " 1.1520000e+00, 5.0112000e-01, 2.0966400e-01, 8.5932000e-02, 3.6864000e-02,\n",
    " 1.5534720e-02, 6.4995840e-03, 2.6638920e-03, 1.1427840e-03, 1.4040000e+01,\n",
    " 5.9040000e+00, 2.4840000e+00, 1.0440000e+00, 4.4928000e-01, 1.8302400e-01,\n",
    " 7.7004000e-02, 3.2364000e-02, 1.3927680e-02, 5.8567680e-03, 2.3871240e-03,\n",
    " 1.0032840e-03]\n",
    "data['y'] = [1.3962,0.877,0.449,0.2139,0.1061,0.0663,0.0475,0.0399,0.0362,0.0357\n",
    ",0.034,0.0348,1.3176,0.8405,0.419,0.2021,0.1007,0.0648,0.0478,0.041\n",
    ",0.0381,0.0365,0.0354,0.0352,1.2545,0.7548,0.3778,0.1842,0.0941,0.061\n",
    ",0.0462,0.0392,0.0362,0.0364,0.0351,0.035,1.1884,0.7045,0.3485,0.166\n",
    ",0.0882,0.0589,0.0462,0.0395,0.0366,0.0358,0.0354,0.0351,1.1134,0.6379\n",
    ",0.3151,0.1543,0.0825,0.0545,0.043,0.0382,0.0362,0.034,0.0341,0.0351\n",
    ",1.0717,0.6035,0.2959,0.1446,0.0802,0.0531,0.0432,0.0388,0.0366,0.0345\n",
    ",0.0349,0.0346,1.0106,0.5491,0.2682,0.1352,0.0757,0.0509,0.0416,0.0377\n",
    ",0.0356,0.0352,0.0346,0.035,0.9215,0.5007,0.2442,0.1211,0.0685,0.0492\n",
    ",0.0406,0.036,0.0352,0.0346,0.0339,0.0339]\n",
    "data = data.sort_values('x')\n",
    "data.head()"
   ]
  },
  {
   "cell_type": "markdown",
   "metadata": {},
   "source": [
    "### Plot the data\n",
    "To get a first insight, we'll scatter-plot the data points."
   ]
  },
  {
   "cell_type": "code",
   "execution_count": null,
   "metadata": {},
   "outputs": [],
   "source": [
    "fig, ax = pyplot.subplots()\n",
    "\n",
    "ax.scatter(data.x, data.y)\n",
    "ax.set_xscale('log')\n",
    "ax.set_xlim(0.0005, 35)\n",
    "pyplot.show()"
   ]
  },
  {
   "cell_type": "markdown",
   "metadata": {},
   "source": [
    "### Build error model\n",
    "Next, we'll define an error model to describe the relationship between x and y."
   ]
  },
  {
   "cell_type": "code",
   "execution_count": null,
   "metadata": {},
   "outputs": [],
   "source": [
    "class ODAbsorbanceErrorModel(calibr8.ErrorModel):\n",
    "    def __init__(self):\n",
    "        # set name of the independent variable to 'OD600'\n",
    "        # set name of the dependent variable to 'A600'\n",
    "        super().__init__('OD600', 'A600')\n",
    "        \n",
    "    def predict_dependent(self, x, *, theta=None):\n",
    "        \"\"\"Predicts the parameters mu and sigma of a distribution which characterises the dependent variable\n",
    "           given values of the independent variable.\n",
    "\n",
    "        Args:\n",
    "            x (array): values of the independent variable\n",
    "            theta: parameters describing the functions of mu, sigma and df\n",
    "\n",
    "        Returns:\n",
    "            mu, sigma, df (array): values for parameters of the distribution that describes the dependent variable\n",
    "        \"\"\"\n",
    "        if theta is None:\n",
    "            theta = self.theta_fitted\n",
    "        # TODO: Implement models (functions) to predict the parameter of the probability distribution\n",
    "        #       For example, mu, sigma and df.\n",
    "        #       Note that these functions can also be very simple: mu = theta[2]\n",
    "        #    !! To learn which functions are available already, run `help(calibr8.core)`\n",
    "        \n",
    "        return mu, sigma, df\n",
    "    \n",
    "    def predict_independent(self, y):\n",
    "        \"\"\"Predict the most likely value of the independent variable\n",
    "        \n",
    "        This method uses the inverse of the predict_dependent function.\n",
    "\n",
    "        Args:\n",
    "            y (array): measurements of the dependent variable\n",
    "            theta (array): parameters of the model used for the `mu` parameter in `predict_dependent`\n",
    "                \n",
    "        Returns:\n",
    "            mu (array): predicted independent variables given the observations\n",
    "        \"\"\"\n",
    "        # TODO: Implement inverse function.\n",
    "        #    !! For several standard functions, calibr8 already provides the inverse.\n",
    "        return # TODO: your code goes here\n",
    "\n",
    "    def loglikelihood(self, *, y,  x, theta=None):\n",
    "        \"\"\"Loglikelihood of observation (dependent variable) given the independent variable\n",
    "\n",
    "        Args:\n",
    "            y (array): measurements of the dependent variable\n",
    "            x (array): predicted independent variables\n",
    "            theta: parameter vector passed to `predict_dependent`\n",
    "                   (defaults to theta=self.theta_fitted)\n",
    "        \n",
    "        Return:\n",
    "            Sum of loglikelihoods (float)\n",
    "        \"\"\"\n",
    "        if theta is None:\n",
    "            if self.theta_fitted is None:\n",
    "                raise Exception('No parameter vector was provided and the model is not fitted with data yet.')\n",
    "            theta = self.theta_fitted\n",
    "        # TODO: Call the `predict_dependent` method to predict parameters of the distribution\n",
    "        #       Then use the appropriate scipy.stats.?.logpdf to compute loglikelihoods\n",
    "        \n",
    "        return numpy.sum(loglikelihoods)"
   ]
  },
  {
   "cell_type": "markdown",
   "metadata": {},
   "source": [
    "### Fitting the model\n",
    "To fit the error model, we need:\n",
    "1. x and y\n",
    "2. initial guess of the model parameters\n",
    "3. bounds of the model parameters"
   ]
  },
  {
   "cell_type": "code",
   "execution_count": null,
   "metadata": {},
   "outputs": [],
   "source": [
    "em = ODAbsorbanceErrorModel()\n",
    "\n",
    "em.fit(independent=data.x, dependent=data.y,\n",
    "      theta_guessed=[\n",
    "          # TODO: make parameter guesses (just comma-separated)\n",
    "          #       Hint: your guesses should be within their respective bounds (see below)\n",
    "      ],\n",
    "      bounds=[\n",
    "          # set some reasonable (lower, upper) bounds\n",
    "          (None, None),       # L_L   lower asymptote\n",
    "          (None, None),       # L_U   upper asymptote\n",
    "          (None, None),       # I_x   x-value at inflection point (v=1)\n",
    "          (None, None),       # k     growth rate\n",
    "          (None, None),       # v     symmetry parameter\n",
    "          (None, None),       # scale (t-distribution)\n",
    "          (None, None),       # df    (t-distribution)\n",
    "      ]\n",
    ")"
   ]
  },
  {
   "cell_type": "markdown",
   "metadata": {},
   "source": [
    "### Visualizing"
   ]
  },
  {
   "cell_type": "code",
   "execution_count": null,
   "metadata": {},
   "outputs": [],
   "source": [
    "theta = em.theta_fitted\n",
    "L_L, L_U, I_x, k, v, sigma, df = theta\n",
    "\n",
    "fig, (left, right) = pyplot.subplots(ncols=2, dpi=150, figsize=(10,5))\n",
    "\n",
    "x_dense = numpy.linspace(0.001, 30, 1000)\n",
    "mu, sigma, df = em.predict_dependent(x_dense)\n",
    "\n",
    "# Left diagramm\n",
    "calibr8.utils.plot_t_band(left, x_dense, mu, sigma, df)\n",
    "left.scatter(data.x, data.y, marker='o')\n",
    "\n",
    "left.set_ylabel('$A_{600}$   [-]')\n",
    "left.set_xlabel('$OD_{600}$   [-]')\n",
    "left.set_xlim(-1, data.x.max()*1.05)\n",
    "left.set_ylim(-0.05,2)\n",
    "left.axhline(L_U, linestyle=':', label='$L_U$')\n",
    "left.axhline(L_L, linestyle='--', label='$L_L$')\n",
    "left.legend(loc='lower right')\n",
    "\n",
    "# Right diagramm\n",
    "mu, sigma, df = em.predict_dependent(data.x)\n",
    "calibr8.utils.plot_t_band(right, data.x, numpy.zeros_like(data.x), sigma, df)\n",
    "right.scatter(data.x, data.y-mu, marker='o')\n",
    "\n",
    "right.set_ylabel('$A_{600}$-residual   [-]')\n",
    "right.set_xlabel('$OD_{600}$   [-]')\n",
    "right.set_xscale('log')\n",
    "right.set_xlim(data.x.min()/2, data.x.max()*2)\n",
    "right.set_ylim(-0.1, 0.1)\n",
    "right.legend()\n",
    "\n",
    "pyplot.tight_layout()\n",
    "pyplot.show()"
   ]
  },
  {
   "cell_type": "code",
   "execution_count": null,
   "metadata": {},
   "outputs": [],
   "source": [
    "em.predict_independent(0.8)"
   ]
  },
  {
   "cell_type": "code",
   "execution_count": null,
   "metadata": {},
   "outputs": [],
   "source": [
    "em.predict_independent([0.5, 0.8, 1.2])"
   ]
  },
  {
   "cell_type": "code",
   "execution_count": null,
   "metadata": {},
   "outputs": [],
   "source": []
  }
 ],
 "metadata": {
  "kernelspec": {
   "display_name": "Python 3",
   "language": "python",
   "name": "python3"
  },
  "language_info": {
   "codemirror_mode": {
    "name": "ipython",
    "version": 3
   },
   "file_extension": ".py",
   "mimetype": "text/x-python",
   "name": "python",
   "nbconvert_exporter": "python",
   "pygments_lexer": "ipython3",
   "version": "3.6.9"
  }
 },
 "nbformat": 4,
 "nbformat_minor": 2
}
