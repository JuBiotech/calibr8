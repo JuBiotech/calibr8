{
 "cells": [
  {
   "cell_type": "code",
   "execution_count": 1,
   "metadata": {},
   "outputs": [],
   "source": [
    "%load_ext autoreload\n",
    "%autoreload 2"
   ]
  },
  {
   "cell_type": "code",
   "execution_count": 2,
   "metadata": {},
   "outputs": [],
   "source": [
    "import numpy\n",
    "import pandas\n",
    "import scipy.stats\n",
    "from matplotlib import pyplot\n",
    "\n",
    "import calibr8"
   ]
  },
  {
   "cell_type": "markdown",
   "metadata": {},
   "source": [
    "### Generating fake data\n",
    "For this demonstration, we'll assume that we have prepared a calibration curve of 24 data points.\n",
    "\n",
    "Furthermore, we'll assume that the dependency between the independent variable (OD600) and the dependent variable (A600) is linear, with the following formula:\n",
    "\n",
    "$$y = \\theta_0 + \\theta_1 \\cdot x$$"
   ]
  },
  {
   "cell_type": "code",
   "execution_count": 3,
   "metadata": {},
   "outputs": [
    {
     "data": {
      "image/png": "[encoded data removed]",
      "text/plain": [
       "<Figure size 432x288 with 1 Axes>"
      ]
     },
     "metadata": {
      "needs_background": "light"
     },
     "output_type": "display_data"
    }
   ],
   "source": [
    "cal_x = numpy.linspace(0.001, 20, 24)\n",
    "cal_y = numpy.random.normal(0.04 + 0.48 * cal_x, scale=0.3)\n",
    "\n",
    "fig, ax = pyplot.subplots()\n",
    "ax.scatter(cal_x, cal_y)\n",
    "ax.set_ylabel('A600')\n",
    "ax.set_xlabel('OD600')\n",
    "pyplot.show()"
   ]
  },
  {
   "cell_type": "markdown",
   "metadata": {},
   "source": [
    "### Implementation of the error model\n",
    "`calibr8` has an abstract class `ErrorModel` that is designed to generalize over a wide range of applications.\n",
    "\n",
    "The error model has several methods that need to be implemented by the user. Most importantly:\n",
    "+ `predict_dependent`, which predicts the parameters of the probability distribution describing the measurement noise (noise of A600) at for a given independent variable (OD600)\n",
    "+ `predict_independent`, which is the inverse of the method above (calculating OD600 from A600)\n",
    "+ `loglikelihood` computes $\\sum{ln{\\mathcal{L}(\\theta \\mid A_{600}, OD_{600})}}$, which is required for the maximum-likelihood estimation\n",
    "\n",
    "In reality, the error models are almost never linear. To make it easier to build non-linear error models, `calibr8` implements several model functions, such as `logstic` or `asymmetric_logistic`."
   ]
  },
  {
   "cell_type": "code",
   "execution_count": 4,
   "metadata": {},
   "outputs": [],
   "source": [
    "class LinearErrorModel(calibr8.ErrorModel):\n",
    "    def __init__(self):\n",
    "        # set name of the independent variable to 'OD600'\n",
    "        # set name of the dependent variable to 'A600'\n",
    "        super().__init__('OD600', 'A600')\n",
    "        \n",
    "    def predict_dependent(self, y_hat, *, theta=None):\n",
    "        \"\"\"Predicts the parameters mu and sigma of a student-t-distribution which characterises the dependent variable\n",
    "           given values of the independent variable.\n",
    "\n",
    "        Args:\n",
    "            y_hat (array): values of the independent variable\n",
    "            theta: parameters describing the linear function of mu and the constant function of sigma (default to self.theta_fitted)\n",
    "\n",
    "        Returns:\n",
    "            mu, sigma (array): values for mu and sigma characterising the Normal distributions describing the dependent variable\n",
    "        \"\"\"\n",
    "        if theta is None:\n",
    "            theta = self.theta_fitted\n",
    "        mu = theta[0] + theta[1] * numpy.array(y_hat)\n",
    "        sigma = theta[2]\n",
    "        return mu, sigma\n",
    "    \n",
    "    def predict_independent(self, y_obs):\n",
    "        \"\"\"Predict the most likely value of the independent variable using the calibrated error model in inverse direction.\n",
    "\n",
    "        Args:\n",
    "            y_obs (array): measurements of the dependent variable\n",
    "\n",
    "        Returns:\n",
    "            mu (array): predicted independent variables given the observations\n",
    "        \"\"\"\n",
    "        a, b, sigma = self.theta_fitted\n",
    "        mu = (y_obs - a) / b\n",
    "        return mu\n",
    "\n",
    "    def loglikelihood(self, *, y_obs,  y_hat, theta=None):\n",
    "        \"\"\"Loglikelihood of observation (dependent variable) given the independent variable\n",
    "\n",
    "        Args:\n",
    "            y_obs (array): measurements of the dependent variable\n",
    "            y_hat (array): predicted independent variables\n",
    "            theta: parameters describing the logistic function of mu and the polynomial function of sigma \n",
    "                   (to be fitted with data, otherwise theta=self.theta_fitted)\n",
    "        \n",
    "        Return:\n",
    "            Sum of loglikelihoods\n",
    "        \"\"\"\n",
    "        if theta is None:\n",
    "            if self.theta_fitted is None:\n",
    "                raise Exception('No parameter vector was provided and the model is not fitted with data yet.')\n",
    "            theta = self.theta_fitted\n",
    "\n",
    "        mu, sigma = self.predict_dependent(y_hat, theta=theta)\n",
    "        # using t-distributed error in the non-transformed space\n",
    "        likelihoods = scipy.stats.norm.pdf(x=y_obs, loc=mu, scale=sigma)\n",
    "        loglikelihoods = numpy.log(likelihoods)\n",
    "        ll = numpy.sum(loglikelihoods)\n",
    "        return ll"
   ]
  },
  {
   "cell_type": "markdown",
   "metadata": {},
   "source": [
    "### Create and fit the error model\n",
    "Now the error model can be instantiated and fitted.\n",
    "For fitting, we'll need to supply our calibration data (`cal_x` and `cal_y`), as well as initial guesses & bounds for the model parameters.\n",
    "\n",
    "The result of the fit indices if the fitting procedure was successful:\n",
    "\n",
    "```\n",
    " status: 0\n",
    "success: True\n",
    "      x: array([0.1739296 , 0.46682245, 0.12950334])\n",
    "```"
   ]
  },
  {
   "cell_type": "code",
   "execution_count": 5,
   "metadata": {},
   "outputs": [
    {
     "data": {
      "text/plain": [
       "      fun: 4.624261266411995\n",
       " hess_inv: <3x3 LbfgsInvHessProduct with dtype=float64>\n",
       "      jac: array([ 1.24344979e-05,  1.31361588e-04, -1.32338585e-05])\n",
       "  message: b'CONVERGENCE: REL_REDUCTION_OF_F_<=_FACTR*EPSMCH'\n",
       "     nfev: 88\n",
       "      nit: 17\n",
       "   status: 0\n",
       "  success: True\n",
       "        x: array([0.08153545, 0.47812697, 0.29338748])"
      ]
     },
     "execution_count": 5,
     "metadata": {},
     "output_type": "execute_result"
    }
   ],
   "source": [
    "em = LinearErrorModel()\n",
    "\n",
    "em.fit(cal_x, cal_y,\n",
    "      theta_guessed=[0.1, 0.5, 0.2],\n",
    "      bounds=[\n",
    "          (-0.5, 0.5),  # lower/upper bound of y-intercept\n",
    "          (0.1, 3),     # lower/upper bound of slope\n",
    "          (0.01, 0.5),  # lower/upper bound of measurement noise\n",
    "      ])"
   ]
  },
  {
   "cell_type": "markdown",
   "metadata": {},
   "source": [
    "### Visualize the fitted error model\n",
    "Now, the fitted model can be visualized in terms of the most-likely measurement outcomes (solid line) and intervals where 68, 90 and 95 % of measurements will fall."
   ]
  },
  {
   "cell_type": "code",
   "execution_count": 6,
   "metadata": {},
   "outputs": [],
   "source": [
    " def plot_norm_band(ax, d, mu, scale):\n",
    "    \"\"\"Helper function for plotting the likeihood-bands of a Normal distribution.\"\"\"\n",
    "    ax.plot(d, mu, color='green')\n",
    "    for q in reversed([97.5, 95, 84]):\n",
    "        percent = q - (100 - q)\n",
    "        ax.fill_between(d,\n",
    "            # by using the Percent Point Function (PPF), which is the inverse of the CDF,\n",
    "            # the visualization will show symmetric intervals of <percent> probability\n",
    "            scipy.stats.norm.ppf(1-q/100, loc=mu, scale=scale),\n",
    "            scipy.stats.norm.ppf(q/100, loc=mu, scale=scale),\n",
    "            alpha=.15, color='green', label=f'{percent:.1f} % likelihood band'\n",
    "        )\n",
    "    return"
   ]
  },
  {
   "cell_type": "code",
   "execution_count": 7,
   "metadata": {},
   "outputs": [
    {
     "data": {
      "image/png": "[encoded data removed]",
      "text/plain": [
       "<Figure size 432x288 with 1 Axes>"
      ]
     },
     "metadata": {
      "needs_background": "light"
     },
     "output_type": "display_data"
    }
   ],
   "source": [
    "fig, ax = pyplot.subplots()\n",
    "# plot fitted model\n",
    "x_dense = numpy.linspace(0, 20, 100)\n",
    "mu, scale = em.predict_dependent(x_dense)\n",
    "ax.plot(x_dense, mu, label='most likely')\n",
    "\n",
    "plot_norm_band(ax, x_dense, mu, scale)\n",
    "\n",
    "# plot data\n",
    "ax.scatter(cal_x, cal_y)\n",
    "ax.set_ylabel('A600\\n(dependent)')\n",
    "ax.set_xlabel('OD600\\n(independent)')\n",
    "ax.legend()\n",
    "pyplot.show()"
   ]
  },
  {
   "cell_type": "markdown",
   "metadata": {},
   "source": [
    "### Using the model\n",
    "The model can be used in two directions:\n",
    "1. predicting where measurements will fall, given a certain value of the independent variable\n",
    "2. predicting the most likely independent variable, given a certain observation of the dependent variable\n",
    "\n",
    "More advanced methods are available too, but now shown in this example."
   ]
  },
  {
   "cell_type": "code",
   "execution_count": 8,
   "metadata": {},
   "outputs": [
    {
     "name": "stdout",
     "output_type": "stream",
     "text": [
      "For OD600=10.5, we expect to observe A600 = 5.10 ± 0.29\n"
     ]
    }
   ],
   "source": [
    "OD600 = 10.5\n",
    "mu, sigma = em.predict_dependent(OD600)\n",
    "\n",
    "print(f'For OD600={OD600}, we expect to observe A600 = {mu:.2f} ± {sigma:.2f}')"
   ]
  },
  {
   "cell_type": "code",
   "execution_count": 9,
   "metadata": {},
   "outputs": [
    {
     "name": "stdout",
     "output_type": "stream",
     "text": [
      "An absorbance measurement of A600=4.0 is most likely when OD600=8.20\n"
     ]
    }
   ],
   "source": [
    "A600 = 4.0\n",
    "od = em.predict_independent(A600)\n",
    "\n",
    "print(f'An absorbance measurement of A600={A600} is most likely when OD600={od:.2f}')"
   ]
  },
  {
   "cell_type": "code",
   "execution_count": null,
   "metadata": {},
   "outputs": [],
   "source": []
  }
 ],
 "metadata": {
  "kernelspec": {
   "display_name": "Python 3",
   "language": "python",
   "name": "python3"
  },
  "language_info": {
   "codemirror_mode": {
    "name": "ipython",
    "version": 3
   },
   "file_extension": ".py",
   "mimetype": "text/x-python",
   "name": "python",
   "nbconvert_exporter": "python",
   "pygments_lexer": "ipython3",
   "version": "3.6.8"
  }
 },
 "nbformat": 4,
 "nbformat_minor": 2
}
