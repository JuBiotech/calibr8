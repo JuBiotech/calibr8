{
 "cells": [
  {
   "cell_type": "code",
   "execution_count": 1,
   "metadata": {},
   "outputs": [],
   "source": [
    "import numpy\n",
    "from matplotlib import pyplot\n",
    "import ipywidgets\n",
    "import sympy\n",
    "from IPython.display import display"
   ]
  },
  {
   "cell_type": "code",
   "execution_count": 2,
   "metadata": {},
   "outputs": [],
   "source": [
    "def tangent(I_x, I_y, S):\n",
    "    \"\"\"Get x,y to plot a line with slope S around the coordinate <I_x,I_y>.\"\"\"\n",
    "    x = numpy.linspace(I_x-1,I_x+1,2)\n",
    "    y = -S*I_x + I_y + S*x\n",
    "    return x, y"
   ]
  },
  {
   "cell_type": "markdown",
   "metadata": {},
   "source": [
    "### Parametrization\n",
    "\n",
    "Various parameterizations of the 5-parameter logistic function, also known as the generalized logistic function can be found in the literature:\n",
    "\n",
    "[Gottschalk & Dunn, 2005](https://www.sciencedirect.com/science/article/pii/S0003269705003313), with $c>0$ and $g>0$:"
   ]
  },
  {
   "cell_type": "code",
   "execution_count": 3,
   "metadata": {},
   "outputs": [
    {
     "output_type": "execute_result",
     "data": {
      "text/plain": "Eq(y, d + (a - d)*((x/c)**b + 1)**(-g))",
      "text/latex": "$\\displaystyle y = d + \\left(a - d\\right) \\left(\\left(\\frac{x}{c}\\right)^{b} + 1\\right)^{- g}$"
     },
     "metadata": {},
     "execution_count": 3
    }
   ],
   "source": [
    "x, y, a, b, d = sympy.symbols('x y a b d')\n",
    "c, g = sympy.symbols('c g', real=True, positive=True)\n",
    "sympy.Eq(lhs=y, rhs=d+(a-d)/(1+(x/c)**b)**g)"
   ]
  },
  {
   "cell_type": "markdown",
   "metadata": {},
   "source": [
    "[Richards, 1959](https://academic.oup.com/jxb/article/10/2/290/528209) / [Fekedulegn, 1999](https://doi.org/10.14214/sf.653) / [Wikipedia](https://en.wikipedia.org/wiki/Generalised_logistic_function), with $v>0$:"
   ]
  },
  {
   "cell_type": "code",
   "execution_count": 4,
   "metadata": {},
   "outputs": [
    {
     "output_type": "execute_result",
     "data": {
      "text/plain": "Eq(y, a + (1 + exp(-b*(-m + x)))**(-1/v)*(-a + k))",
      "text/latex": "$\\displaystyle y = a + \\left(1 + e^{- b \\left(- m + x\\right)}\\right)^{- \\frac{1}{v}} \\left(- a + k\\right)$"
     },
     "metadata": {},
     "execution_count": 4
    }
   ],
   "source": [
    "x, y, a, b, k, m = sympy.symbols('x y a b k m')\n",
    "v = sympy.symbols('v', real=True, positive=True)\n",
    "sympy.Eq(lhs=y, rhs=a+(k-a)/(1 + sympy.exp(-b*(x-m)))**(1/v))"
   ]
  },
  {
   "cell_type": "markdown",
   "metadata": {},
   "source": [
    "Starting with the second form, we derive a parameterization were $b$, $m$ and $v$ are replaced by parameters that can be graphically interpreted, e.g. the inflection point.\n",
    "We first take away $a$ and $k$, because re-scaling into those asymptotes is trivial:"
   ]
  },
  {
   "cell_type": "code",
   "execution_count": 5,
   "metadata": {},
   "outputs": [
    {
     "output_type": "execute_result",
     "data": {
      "text/plain": "Eq(y, (1 + exp(-b*(-m + x)))**(-1/v))",
      "text/latex": "$\\displaystyle y = \\left(1 + e^{- b \\left(- m + x\\right)}\\right)^{- \\frac{1}{v}}$"
     },
     "metadata": {},
     "execution_count": 5
    }
   ],
   "source": [
    "x, y, b, m = sympy.symbols('x y b m')\n",
    "v = sympy.symbols('v', real=True, positive=True)\n",
    "sympy.Eq(lhs=y, rhs=1/(1 + sympy.exp(-b*(x-m)))**(1/v))"
   ]
  },
  {
   "cell_type": "markdown",
   "metadata": {},
   "source": [
    "Then we replace $1/v,\\ v \\in \\mathcal{R}_{>0}$ with $e^{-c},\\ c\\in\\mathcal{R}$:"
   ]
  },
  {
   "cell_type": "code",
   "execution_count": 6,
   "metadata": {},
   "outputs": [
    {
     "output_type": "execute_result",
     "data": {
      "text/plain": "Eq(y, (1 + exp(-b*(-m + x)))**(-exp(-c)))",
      "text/latex": "$\\displaystyle y = \\left(1 + e^{- b \\left(- m + x\\right)}\\right)^{- e^{- c}}$"
     },
     "metadata": {},
     "execution_count": 6
    }
   ],
   "source": [
    "x, y, b, m, c = sympy.symbols('x y b m c')\n",
    "sympy.Eq(lhs=y, rhs=1/(1 + sympy.exp(-b*(x-m)))**sympy.exp(-c))"
   ]
  },
  {
   "cell_type": "markdown",
   "metadata": {},
   "source": [
    "Finally, we rename $m$ to $a$ and flip the sign on $b$:"
   ]
  },
  {
   "cell_type": "code",
   "execution_count": 7,
   "metadata": {},
   "outputs": [
    {
     "output_type": "display_data",
     "data": {
      "text/plain": "Eq(y, (exp(b*(a - x)) + 1)**(-exp(-c)))",
      "text/latex": "$\\displaystyle y = \\left(e^{b \\left(a - x\\right)} + 1\\right)^{- e^{- c}}$"
     },
     "metadata": {}
    },
    {
     "output_type": "display_data",
     "data": {
      "text/plain": "Eq(x, a + log(1/((1/y)**exp(c) - 1))/b)",
      "text/latex": "$\\displaystyle x = a + \\frac{\\log{\\left(\\frac{1}{\\left(\\frac{1}{y}\\right)^{e^{c}} - 1} \\right)}}{b}$"
     },
     "metadata": {}
    }
   ],
   "source": [
    "x, y, a, b, c = sympy.symbols('x y a b c', real=True)\n",
    "f_abc = (sympy.exp(b*(a-x)) + 1)**-sympy.exp(-c)\n",
    "f_inverse_abc = sympy.simplify(sympy.solve(f_abc-y, x)[0])\n",
    "display(sympy.Eq(lhs=y, rhs=f_abc))\n",
    "display(sympy.Eq(lhs=x, rhs=f_inverse_abc))"
   ]
  },
  {
   "cell_type": "markdown",
   "metadata": {},
   "source": [
    "### Analytically finding the inflection point & tangent"
   ]
  },
  {
   "cell_type": "code",
   "execution_count": 8,
   "metadata": {},
   "outputs": [
    {
     "output_type": "stream",
     "name": "stdout",
     "text": "f'(x) = \n"
    },
    {
     "output_type": "display_data",
     "data": {
      "text/plain": "b*(exp(b*(a - x)) + 1)**(-1 - exp(-c))*exp(b*(a - x) - c)",
      "text/latex": "$\\displaystyle b \\left(e^{b \\left(a - x\\right)} + 1\\right)^{-1 - e^{- c}} e^{b \\left(a - x\\right) - c}$"
     },
     "metadata": {}
    }
   ],
   "source": [
    "slope = sympy.simplify(sympy.diff(f_abc, x))\n",
    "print(\"f'(x) = \")\n",
    "display(slope)"
   ]
  },
  {
   "cell_type": "code",
   "execution_count": 9,
   "metadata": {},
   "outputs": [
    {
     "output_type": "display_data",
     "data": {
      "text/plain": "Eq(I_x, a - c/b)",
      "text/latex": "$\\displaystyle I_{x} = a - \\frac{c}{b}$"
     },
     "metadata": {}
    }
   ],
   "source": [
    "I_x = sympy.symbols('I_x', real=True)\n",
    "analytic_I_x = sympy.simplify(sympy.solve(sympy.diff(slope, x), x)[0])\n",
    "eq_I_x = sympy.Eq(lhs=I_x, rhs=analytic_I_x)\n",
    "display(eq_I_x)"
   ]
  },
  {
   "cell_type": "code",
   "execution_count": 10,
   "metadata": {},
   "outputs": [
    {
     "output_type": "execute_result",
     "data": {
      "text/plain": "Eq(I_y, (exp(c) + 1)**(-exp(-c)))",
      "text/latex": "$\\displaystyle I_{y} = \\left(e^{c} + 1\\right)^{- e^{- c}}$"
     },
     "metadata": {},
     "execution_count": 10
    }
   ],
   "source": [
    "I_y = sympy.symbols('I_y', real=True)\n",
    "analytic_I_y = sympy.simplify(f_abc.replace(x, analytic_I_x))\n",
    "eq_I_y = sympy.Eq(lhs=I_y, rhs=analytic_I_y)\n",
    "eq_I_y"
   ]
  },
  {
   "cell_type": "markdown",
   "metadata": {},
   "source": [
    "$S=f'(I_x)$ is obtained by substituting $x$ in the first derivative with the analytical solution for $I_x$:"
   ]
  },
  {
   "cell_type": "code",
   "execution_count": 11,
   "metadata": {},
   "outputs": [
    {
     "output_type": "execute_result",
     "data": {
      "text/plain": "Eq(S, b*(exp(c) + 1)**(-1 - exp(-c)))",
      "text/latex": "$\\displaystyle S = b \\left(e^{c} + 1\\right)^{-1 - e^{- c}}$"
     },
     "metadata": {},
     "execution_count": 11
    }
   ],
   "source": [
    "S = sympy.symbols('S', real=True)\n",
    "analytic_S = sympy.simplify(slope.replace(x, analytic_I_x))\n",
    "eq_S = sympy.Eq(lhs=S, rhs=analytic_S)\n",
    "eq_S"
   ]
  },
  {
   "cell_type": "markdown",
   "metadata": {},
   "source": [
    "### Original Parameterization"
   ]
  },
  {
   "cell_type": "code",
   "execution_count": 12,
   "metadata": {
    "scrolled": false
   },
   "outputs": [
    {
     "output_type": "display_data",
     "data": {
      "text/plain": "interactive(children=(FloatSlider(value=0.0, description='L_L', max=0.0, min=-5.0), FloatSlider(value=1.0, des…",
      "application/vnd.jupyter.widget-view+json": {
       "version_major": 2,
       "version_minor": 0,
       "model_id": "b6febe6e9fe94378aecd50cb3c351db7"
      }
     },
     "metadata": {}
    }
   ],
   "source": [
    "def asymmetric_logistic_a_b_c(x, theta):\n",
    "    L_L, L_U, a, b, c = theta[:5]\n",
    "    x = numpy.array(x)\n",
    "    return L_L + (L_U - L_L) * (numpy.exp(b*(a-x)) + 1)**-numpy.exp(-c)\n",
    "\n",
    "def plot_logistic(L_L=0.0, L_U=1.0, a=0.0, b=3.0, c=1.0):\n",
    "    theta = (L_L, L_U, a, b, c)\n",
    "    \n",
    "    # get key properties to visualize\n",
    "    I_x = (a*b-c)/b\n",
    "    I_y = L_L + (L_U - L_L) * (numpy.exp(c)+1)**-numpy.exp(-c)\n",
    "    S = (L_U - L_L) * b*(numpy.exp(c)+1)**(-(numpy.exp(c)+1)*numpy.exp(-c))\n",
    "    \n",
    "    X_MIN, X_MAX = -5, 5\n",
    "    X = numpy.linspace(-5, 5, 100)\n",
    "    \n",
    "    fig, ax = pyplot.subplots(figsize=(16,6))\n",
    "    ax.plot(X, asymmetric_logistic_a_b_c(X, theta))\n",
    "    ax.plot(*tangent(I_x, I_y, S), label='$tangent$')\n",
    "    \n",
    "    ax.axvline(I_x, linestyle=':', color='red', label='$I_x$')\n",
    "    ax.axhline(I_y, linestyle=':', color='red', label='$I_y$')\n",
    "    ax.axhline(L_U, linestyle=':', label='$L_U$')\n",
    "    ax.axhline(L_L, linestyle='--', label='$L_L$')\n",
    "    \n",
    "    ax.set_xlim(X_MIN, X_MAX)\n",
    "    ax.set_ylim(L_L-0.5, L_U+0.5)\n",
    "    ax.legend(loc='center left')\n",
    "    pyplot.show()\n",
    "    \n",
    "ipywidgets.interact(\n",
    "    plot_logistic,\n",
    "    L_L=(-5.0, 0),\n",
    "    L_U=(0, 5.0),\n",
    "    a=(-5.0, 5),\n",
    "    b=(-1.0, 3),\n",
    "    c=(-2.0, 2)\n",
    ");"
   ]
  },
  {
   "cell_type": "markdown",
   "metadata": {},
   "source": [
    "### Reparameterization for $a \\to I_x$"
   ]
  },
  {
   "cell_type": "code",
   "execution_count": 13,
   "metadata": {},
   "outputs": [
    {
     "output_type": "display_data",
     "data": {
      "text/plain": "Eq(I_x, a - c/b)",
      "text/latex": "$\\displaystyle I_{x} = a - \\frac{c}{b}$"
     },
     "metadata": {}
    },
    {
     "output_type": "display_data",
     "data": {
      "text/plain": "Eq(a, I_x + c/b)",
      "text/latex": "$\\displaystyle a = I_{x} + \\frac{c}{b}$"
     },
     "metadata": {}
    }
   ],
   "source": [
    "display(eq_I_x)\n",
    "new_a = sympy.simplify(sympy.solve(eq_I_x, a)[0])\n",
    "display(sympy.Eq(lhs=a, rhs=new_a))"
   ]
  },
  {
   "cell_type": "code",
   "execution_count": 14,
   "metadata": {},
   "outputs": [
    {
     "output_type": "display_data",
     "data": {
      "text/plain": "Eq(y, (exp(b*(I_x - x + c/b)) + 1)**(-exp(-c)))",
      "text/latex": "$\\displaystyle y = \\left(e^{b \\left(I_{x} - x + \\frac{c}{b}\\right)} + 1\\right)^{- e^{- c}}$"
     },
     "metadata": {}
    },
    {
     "output_type": "display_data",
     "data": {
      "text/plain": "Eq(x, (I_x*b + c + log(1/((1/y)**exp(c) - 1)))/b)",
      "text/latex": "$\\displaystyle x = \\frac{I_{x} b + c + \\log{\\left(\\frac{1}{\\left(\\frac{1}{y}\\right)^{e^{c}} - 1} \\right)}}{b}$"
     },
     "metadata": {}
    }
   ],
   "source": [
    "f_I_x = f_abc.replace(a, new_a)\n",
    "f_inverse_I_x = sympy.simplify(sympy.solve(f_I_x-y, x)[0])\n",
    "display(sympy.Eq(lhs=y, rhs=f_I_x))\n",
    "display(sympy.Eq(lhs=x, rhs=f_inverse_I_x))"
   ]
  },
  {
   "cell_type": "code",
   "execution_count": 15,
   "metadata": {},
   "outputs": [
    {
     "output_type": "display_data",
     "data": {
      "text/plain": "interactive(children=(FloatSlider(value=0.0, description='L_L', max=0.0, min=-5.0), FloatSlider(value=1.0, des…",
      "application/vnd.jupyter.widget-view+json": {
       "version_major": 2,
       "version_minor": 0,
       "model_id": "6c75cfaad9024da094bd3115f636e1a6"
      }
     },
     "metadata": {}
    }
   ],
   "source": [
    "def asymmetric_logistic_I_x_b_c(x, theta):\n",
    "    L_L, L_U, I_x, b, c = theta[:5]\n",
    "    x = numpy.array(x)\n",
    "    return L_L + (L_U-L_L) * (numpy.exp(b*(I_x-x+c/b)) + 1) ** -numpy.exp(-c)\n",
    "\n",
    "def plot_logistic(L_L=0, L_U=1, I_x=0.0, b=2.0, c=0.0):\n",
    "    theta = (L_L, L_U, I_x, b, c)\n",
    "    X_MIN, X_MAX = -5, 5\n",
    "    X = numpy.linspace(-5, 5, 100)\n",
    "    \n",
    "    # get key properties to visualize\n",
    "    I_y = asymmetric_logistic_I_x_b_c(I_x, theta)\n",
    "    S = (L_U - L_L) * b*(numpy.exp(c)+1)**(-(numpy.exp(c)+1)*numpy.exp(-c))\n",
    "    \n",
    "    fig, ax = pyplot.subplots(figsize=(16,6))\n",
    "    ax.plot(X, asymmetric_logistic_I_x_b_c(X, theta))    \n",
    "    ax.plot(*tangent(I_x, I_y, S), label='$tangent$')\n",
    "    \n",
    "    ax.axvline(I_x, linestyle=':', color='red', label='$I_x$')\n",
    "    ax.axhline(I_y, linestyle=':', color='red', label='$I_y$')\n",
    "    ax.axhline(L_U, linestyle=':', label='$L_U$')\n",
    "    ax.axhline(L_L, linestyle='--', label='$L_L$')\n",
    "    \n",
    "    ax.set_xlim(X_MIN, X_MAX)\n",
    "    ax.set_ylim(L_L-0.5, L_U+0.5)\n",
    "    ax.legend(loc='center left')\n",
    "    pyplot.show()\n",
    "    \n",
    "ipywidgets.interact(\n",
    "    plot_logistic,\n",
    "    L_L=(-5.0,0),\n",
    "    L_U=(0,5.0),\n",
    "    I_x=(-5.0, 5),\n",
    "    b=(-1.0, 3),\n",
    "    c=(-2.0, 2)\n",
    ");"
   ]
  },
  {
   "cell_type": "markdown",
   "metadata": {},
   "source": [
    "### Further reparameterization for $b \\to S$"
   ]
  },
  {
   "cell_type": "code",
   "execution_count": 16,
   "metadata": {},
   "outputs": [
    {
     "output_type": "display_data",
     "data": {
      "text/plain": "Eq(a, I_x*exp(c)/(exp(c) + 1) + I_x/(exp(c) + 1) + c*(exp(c) + 1)**(-1 - exp(-c))/S)",
      "text/latex": "$\\displaystyle a = \\frac{I_{x} e^{c}}{e^{c} + 1} + \\frac{I_{x}}{e^{c} + 1} + \\frac{c \\left(e^{c} + 1\\right)^{-1 - e^{- c}}}{S}$"
     },
     "metadata": {}
    },
    {
     "output_type": "display_data",
     "data": {
      "text/plain": "Eq(b, S*(exp(c) + 1)**((exp(c) + 1)*exp(-c)))",
      "text/latex": "$\\displaystyle b = S \\left(e^{c} + 1\\right)^{\\left(e^{c} + 1\\right) e^{- c}}$"
     },
     "metadata": {}
    }
   ],
   "source": [
    "new2_a, new2_b = sympy.solve([eq_I_x, eq_S], [a, b])[0]\n",
    "display(sympy.Eq(a, new2_a))\n",
    "display(sympy.Eq(b, new2_b))"
   ]
  },
  {
   "cell_type": "code",
   "execution_count": 17,
   "metadata": {},
   "outputs": [
    {
     "output_type": "display_data",
     "data": {
      "text/plain": "Eq(y, (exp((exp(c) + 1)**((exp(c) + 1)*exp(-c))*(I_x*S - S*x + c*(exp(c) + 1)**(-(exp(c) + 1)*exp(-c)))) + 1)**(-exp(-c)))",
      "text/latex": "$\\displaystyle y = \\left(e^{\\left(e^{c} + 1\\right)^{\\left(e^{c} + 1\\right) e^{- c}} \\left(I_{x} S - S x + c \\left(e^{c} + 1\\right)^{- \\left(e^{c} + 1\\right) e^{- c}}\\right)} + 1\\right)^{- e^{- c}}$"
     },
     "metadata": {}
    },
    {
     "output_type": "display_data",
     "data": {
      "text/plain": "Eq(x, (exp(c) + 1)**(-1 - exp(-c))*(I_x*S*(exp(c) + 1)**exp(-c)*exp(c) + I_x*S*(exp(c) + 1)**exp(-c) + c - log((1/y)**exp(c) - 1))/S)",
      "text/latex": "$\\displaystyle x = \\frac{\\left(e^{c} + 1\\right)^{-1 - e^{- c}} \\left(I_{x} S \\left(e^{c} + 1\\right)^{e^{- c}} e^{c} + I_{x} S \\left(e^{c} + 1\\right)^{e^{- c}} + c - \\log{\\left(\\left(\\frac{1}{y}\\right)^{e^{c}} - 1 \\right)}\\right)}{S}$"
     },
     "metadata": {}
    }
   ],
   "source": [
    "f_I_x_S = sympy.simplify(f_abc.replace(a, new2_a).replace(b, new2_b))\n",
    "f_inverse_I_x_S = sympy.simplify(sympy.solve(sympy.Eq(lhs=y, rhs=f_I_x_S), x)[0])\n",
    "display(sympy.Eq(lhs=y, rhs=f_I_x_S))\n",
    "display(sympy.Eq(lhs=x, rhs=f_inverse_I_x_S))"
   ]
  },
  {
   "cell_type": "code",
   "execution_count": 18,
   "metadata": {},
   "outputs": [
    {
     "output_type": "display_data",
     "data": {
      "text/plain": "interactive(children=(FloatSlider(value=0.0, description='L_L', max=0.0, min=-5.0), FloatSlider(value=1.0, des…",
      "application/vnd.jupyter.widget-view+json": {
       "version_major": 2,
       "version_minor": 0,
       "model_id": "e80aa12842604f509de08557477f6d50"
      }
     },
     "metadata": {}
    }
   ],
   "source": [
    "def asymmetric_logistic_I_x_S_c(x, theta):\n",
    "    L_L, L_U, I_x, S, c = theta[:5]\n",
    "    # re-scale the inflection point slope with the interval\n",
    "    s = S / (L_U - L_L)\n",
    "    \n",
    "    # common subexpressions\n",
    "    x0 = numpy.exp(c) + 1\n",
    "    x1 = numpy.exp(-c)\n",
    "    x2 = x0 ** (x0 * x1)\n",
    "    \n",
    "    x = numpy.array(x)\n",
    "    return L_L + (L_U-L_L) * (numpy.exp(x2 * (s*(I_x-x)+c/x2)) + 1) ** -x1\n",
    "\n",
    "def plot_logistic(L_L=0, L_U=1, I_x=0.0, S=2.0, c=1.0):\n",
    "    theta = (L_L, L_U, I_x, S, c)\n",
    "    X_MIN, X_MAX = -5, 5\n",
    "    X = numpy.linspace(-5, 5, 100)\n",
    "    \n",
    "    # get key properties to visualize\n",
    "    I_y = asymmetric_logistic_I_x_S_c(I_x, theta)\n",
    "    \n",
    "    fig, ax = pyplot.subplots(figsize=(16,6))\n",
    "    ax.plot(X, asymmetric_logistic_I_x_S_c(X, theta))\n",
    "    ax.plot(*tangent(I_x, I_y, S), label='$tangent$')\n",
    "    \n",
    "    ax.axvline(I_x, linestyle=':', color='red', label='$I_x$')\n",
    "    ax.axhline(I_y, linestyle=':', color='red', label='$I_y$')\n",
    "    ax.axhline(L_U, linestyle=':', label='$L_U$')\n",
    "    ax.axhline(L_L, linestyle='--', label='$L_L$')\n",
    "    \n",
    "    ax.set_xlim(X_MIN, X_MAX)\n",
    "    ax.set_ylim(L_L-0.5, L_U+0.5)\n",
    "    ax.legend(loc='center left')\n",
    "    pyplot.show()\n",
    "    \n",
    "ipywidgets.interact(\n",
    "    plot_logistic,\n",
    "    L_L=(-5.0,0),\n",
    "    L_U=(0.0,5),\n",
    "    I_x=(-5.0, 5),\n",
    "    S=(-2.0, 3),\n",
    "    c=(-2.0, 2)\n",
    ");"
   ]
  },
  {
   "cell_type": "markdown",
   "metadata": {},
   "source": [
    "### Further reparametrization $c \\to \\gamma$\n",
    "We can't use $I_y$ to parameterize, because it's only valid if $L_L < I_y < L_U$. This is not practical for initial guesses in modeling.\n",
    "\n",
    "Therefore, we must replace $I_y$ with something that depends on $L_L, L_U$ and a new parameter $\\gamma$:\n",
    "\n",
    "$I_y=L_L + \\frac{L_U}{1+e^{\\gamma}}$\n",
    "\n",
    "Where $\\frac{1}{1+e^{\\gamma}}$ is the sigmoid function that goes from 0 to 1 and is 0.5 at $\\gamma=0$.\n",
    "\n",
    "Rewriting in terms of $\\gamma$:\n",
    "\n",
    "$\\gamma = log(\\frac{L_U}{I_y-L_L}-1)$\n",
    "\n",
    "And substituting $I_y$ with the analytical solution:"
   ]
  },
  {
   "cell_type": "code",
   "execution_count": 19,
   "metadata": {},
   "outputs": [
    {
     "output_type": "execute_result",
     "data": {
      "text/plain": "Eq(\\gamma, log((exp(c) + 1)**exp(-c) - 1))",
      "text/latex": "$\\displaystyle \\gamma = \\log{\\left(\\left(e^{c} + 1\\right)^{e^{- c}} - 1 \\right)}$"
     },
     "metadata": {},
     "execution_count": 19
    }
   ],
   "source": [
    "gamma = sympy.symbols('\\gamma', real=True)\n",
    "analytic_gamma = sympy.simplify(sympy.log(1/(f_I_x_S.replace(x, I_x))-1))\n",
    "eq_gamma = sympy.simplify(sympy.Eq(lhs=gamma, rhs=analytic_gamma))\n",
    "eq_gamma"
   ]
  },
  {
   "cell_type": "markdown",
   "metadata": {},
   "source": [
    "Solving the above for $c$ is nasty:"
   ]
  },
  {
   "cell_type": "code",
   "execution_count": 20,
   "metadata": {},
   "outputs": [
    {
     "output_type": "execute_result",
     "data": {
      "text/plain": "Eq(c, log(-1 - LambertW(-log(exp(\\gamma) + 1)/(exp(\\gamma) + 1))/log(exp(\\gamma) + 1)))",
      "text/latex": "$\\displaystyle c = \\log{\\left(-1 - \\frac{W\\left(- \\frac{\\log{\\left(e^{\\gamma} + 1 \\right)}}{e^{\\gamma} + 1}\\right)}{\\log{\\left(e^{\\gamma} + 1 \\right)}} \\right)}$"
     },
     "metadata": {},
     "execution_count": 20
    }
   ],
   "source": [
    "new3_a, new3_b, new3_c = sympy.solve([eq_I_x, eq_S, eq_gamma], [a,b,c])[0]\n",
    "sympy.Eq(c, new3_c)"
   ]
  },
  {
   "cell_type": "markdown",
   "metadata": {},
   "source": [
    "As a result, the full reparameterization is quite nasty too:"
   ]
  },
  {
   "cell_type": "code",
   "execution_count": 21,
   "metadata": {
    "scrolled": true
   },
   "outputs": [
    {
     "output_type": "execute_result",
     "data": {
      "text/plain": "Eq(y, (exp((I_x*S*(-LambertW(-log(exp(\\gamma) + 1)/(exp(\\gamma) + 1)))**(LambertW(-log(exp(\\gamma) + 1)/(exp(\\gamma) + 1))/(log(exp(\\gamma) + 1) + LambertW(-log(exp(\\gamma) + 1)/(exp(\\gamma) + 1)))) - S*x*(-LambertW(-log(exp(\\gamma) + 1)/(exp(\\gamma) + 1)))**(LambertW(-log(exp(\\gamma) + 1)/(exp(\\gamma) + 1))/(log(exp(\\gamma) + 1) + LambertW(-log(exp(\\gamma) + 1)/(exp(\\gamma) + 1)))) + (log(-log(exp(\\gamma) + 1) - LambertW(-log(exp(\\gamma) + 1)/(exp(\\gamma) + 1))) - log(log(exp(\\gamma) + 1)))*log(exp(\\gamma) + 1)**(LambertW(-log(exp(\\gamma) + 1)/(exp(\\gamma) + 1))/(log(exp(\\gamma) + 1) + LambertW(-log(exp(\\gamma) + 1)/(exp(\\gamma) + 1)))))*log(exp(\\gamma) + 1)**(-LambertW(-log(exp(\\gamma) + 1)/(exp(\\gamma) + 1))/(log(exp(\\gamma) + 1) + LambertW(-log(exp(\\gamma) + 1)/(exp(\\gamma) + 1))))) + 1)**(log(exp(\\gamma) + 1)/(log(exp(\\gamma) + 1) + LambertW(-log(exp(\\gamma) + 1)/(exp(\\gamma) + 1)))))",
      "text/latex": "$\\displaystyle y = \\left(e^{\\left(I_{x} S \\left(- W\\left(- \\frac{\\log{\\left(e^{\\gamma} + 1 \\right)}}{e^{\\gamma} + 1}\\right)\\right)^{\\frac{W\\left(- \\frac{\\log{\\left(e^{\\gamma} + 1 \\right)}}{e^{\\gamma} + 1}\\right)}{\\log{\\left(e^{\\gamma} + 1 \\right)} + W\\left(- \\frac{\\log{\\left(e^{\\gamma} + 1 \\right)}}{e^{\\gamma} + 1}\\right)}} - S x \\left(- W\\left(- \\frac{\\log{\\left(e^{\\gamma} + 1 \\right)}}{e^{\\gamma} + 1}\\right)\\right)^{\\frac{W\\left(- \\frac{\\log{\\left(e^{\\gamma} + 1 \\right)}}{e^{\\gamma} + 1}\\right)}{\\log{\\left(e^{\\gamma} + 1 \\right)} + W\\left(- \\frac{\\log{\\left(e^{\\gamma} + 1 \\right)}}{e^{\\gamma} + 1}\\right)}} + \\left(\\log{\\left(- \\log{\\left(e^{\\gamma} + 1 \\right)} - W\\left(- \\frac{\\log{\\left(e^{\\gamma} + 1 \\right)}}{e^{\\gamma} + 1}\\right) \\right)} - \\log{\\left(\\log{\\left(e^{\\gamma} + 1 \\right)} \\right)}\\right) \\log{\\left(e^{\\gamma} + 1 \\right)}^{\\frac{W\\left(- \\frac{\\log{\\left(e^{\\gamma} + 1 \\right)}}{e^{\\gamma} + 1}\\right)}{\\log{\\left(e^{\\gamma} + 1 \\right)} + W\\left(- \\frac{\\log{\\left(e^{\\gamma} + 1 \\right)}}{e^{\\gamma} + 1}\\right)}}\\right) \\log{\\left(e^{\\gamma} + 1 \\right)}^{- \\frac{W\\left(- \\frac{\\log{\\left(e^{\\gamma} + 1 \\right)}}{e^{\\gamma} + 1}\\right)}{\\log{\\left(e^{\\gamma} + 1 \\right)} + W\\left(- \\frac{\\log{\\left(e^{\\gamma} + 1 \\right)}}{e^{\\gamma} + 1}\\right)}}} + 1\\right)^{\\frac{\\log{\\left(e^{\\gamma} + 1 \\right)}}{\\log{\\left(e^{\\gamma} + 1 \\right)} + W\\left(- \\frac{\\log{\\left(e^{\\gamma} + 1 \\right)}}{e^{\\gamma} + 1}\\right)}}$"
     },
     "metadata": {},
     "execution_count": 21
    }
   ],
   "source": [
    "f_I_x_S_gamma = sympy.simplify(f_abc.replace(a, new3_a).replace(b, new3_b).replace(c, new3_c))\n",
    "sympy.Eq(lhs=y, rhs=f_I_x_S_gamma)"
   ]
  },
  {
   "cell_type": "markdown",
   "metadata": {},
   "source": [
    "### Implementation\n",
    "The full reparameterization is too involved, but the other two are good candidates.\n",
    "\n",
    "To implement them, the expressions can be optimized by common subexpression elimination (`sympy.cse`)."
   ]
  },
  {
   "cell_type": "markdown",
   "metadata": {},
   "source": [
    "#### Forward"
   ]
  },
  {
   "cell_type": "code",
   "execution_count": 22,
   "metadata": {},
   "outputs": [
    {
     "output_type": "stream",
     "name": "stdout",
     "text": "CSE for version with (...,a,b,c)\n"
    },
    {
     "output_type": "execute_result",
     "data": {
      "text/plain": "(exp(b*(a - x)) + 1)**(-exp(-c))",
      "text/latex": "$\\displaystyle \\left(e^{b \\left(a - x\\right)} + 1\\right)^{- e^{- c}}$"
     },
     "metadata": {},
     "execution_count": 22
    }
   ],
   "source": [
    "print('CSE for version with (...,a,b,c)')\n",
    "replacements, expressions = sympy.cse(f_abc)\n",
    "for r in replacements:\n",
    "    print(r)\n",
    "expressions[0] "
   ]
  },
  {
   "cell_type": "code",
   "execution_count": 23,
   "metadata": {},
   "outputs": [
    {
     "output_type": "stream",
     "name": "stdout",
     "text": "CSE for version with (...,I_x,b,c)\n"
    },
    {
     "output_type": "execute_result",
     "data": {
      "text/plain": "(exp(b*(I_x - x + c/b)) + 1)**(-exp(-c))",
      "text/latex": "$\\displaystyle \\left(e^{b \\left(I_{x} - x + \\frac{c}{b}\\right)} + 1\\right)^{- e^{- c}}$"
     },
     "metadata": {},
     "execution_count": 23
    }
   ],
   "source": [
    "print('CSE for version with (...,I_x,b,c)')\n",
    "replacements, expressions = sympy.cse(f_I_x)\n",
    "for r in replacements:\n",
    "    print(r)\n",
    "expressions[0] "
   ]
  },
  {
   "cell_type": "code",
   "execution_count": 24,
   "metadata": {},
   "outputs": [
    {
     "output_type": "stream",
     "name": "stdout",
     "text": "CSE for version with (...,I_x,S,c)\n(x0, exp(c) + 1)\n(x1, exp(-c))\n(x2, x0**(x0*x1))\n"
    },
    {
     "output_type": "execute_result",
     "data": {
      "text/plain": "(exp(x2*(I_x*S - S*x + c/x2)) + 1)**(-x1)",
      "text/latex": "$\\displaystyle \\left(e^{x_{2} \\left(I_{x} S - S x + \\frac{c}{x_{2}}\\right)} + 1\\right)^{- x_{1}}$"
     },
     "metadata": {},
     "execution_count": 24
    }
   ],
   "source": [
    "print('CSE for version with (...,I_x,S,c)')\n",
    "replacements, expressions = sympy.cse(f_I_x_S)\n",
    "for r in replacements:\n",
    "    print(r)\n",
    "expressions[0] "
   ]
  },
  {
   "cell_type": "markdown",
   "metadata": {},
   "source": [
    "#### Backward"
   ]
  },
  {
   "cell_type": "code",
   "execution_count": 25,
   "metadata": {},
   "outputs": [
    {
     "output_type": "stream",
     "name": "stdout",
     "text": "CSE for inverse version with (...,a,b,c)\n"
    },
    {
     "output_type": "execute_result",
     "data": {
      "text/plain": "a + log(1/((1/y)**exp(c) - 1))/b",
      "text/latex": "$\\displaystyle a + \\frac{\\log{\\left(\\frac{1}{\\left(\\frac{1}{y}\\right)^{e^{c}} - 1} \\right)}}{b}$"
     },
     "metadata": {},
     "execution_count": 25
    }
   ],
   "source": [
    "print('CSE for inverse version with (...,a,b,c)')\n",
    "replacements, expressions = sympy.cse(f_inverse_abc)\n",
    "for r in replacements:\n",
    "    print(r)\n",
    "expressions[0] "
   ]
  },
  {
   "cell_type": "code",
   "execution_count": 26,
   "metadata": {},
   "outputs": [
    {
     "output_type": "stream",
     "name": "stdout",
     "text": "CSE for inverse version with (...,I_x,b,c)\n"
    },
    {
     "output_type": "execute_result",
     "data": {
      "text/plain": "(I_x*b + c + log(1/((1/y)**exp(c) - 1)))/b",
      "text/latex": "$\\displaystyle \\frac{I_{x} b + c + \\log{\\left(\\frac{1}{\\left(\\frac{1}{y}\\right)^{e^{c}} - 1} \\right)}}{b}$"
     },
     "metadata": {},
     "execution_count": 26
    }
   ],
   "source": [
    "print('CSE for inverse version with (...,I_x,b,c)')\n",
    "replacements, expressions = sympy.cse(f_inverse_I_x)\n",
    "for r in replacements:\n",
    "    print(r)\n",
    "expressions[0] "
   ]
  },
  {
   "cell_type": "code",
   "execution_count": 27,
   "metadata": {},
   "outputs": [
    {
     "output_type": "stream",
     "name": "stdout",
     "text": "CSE for inverse version with (...,I_x,S,c)\n(x0, exp(c))\n(x1, x0 + 1)\n(x2, exp(-c))\n(x3, I_x*S*x1**x2)\n"
    },
    {
     "output_type": "execute_result",
     "data": {
      "text/plain": "x1**(-x2 - 1)*(c + x0*x3 + x3 - log((1/y)**x0 - 1))/S",
      "text/latex": "$\\displaystyle \\frac{x_{1}^{- x_{2} - 1} \\left(c + x_{0} x_{3} + x_{3} - \\log{\\left(\\left(\\frac{1}{y}\\right)^{x_{0}} - 1 \\right)}\\right)}{S}$"
     },
     "metadata": {},
     "execution_count": 27
    }
   ],
   "source": [
    "print('CSE for inverse version with (...,I_x,S,c)')\n",
    "replacements, expressions = sympy.cse(f_inverse_I_x_S)\n",
    "for r in replacements:\n",
    "    print(r)\n",
    "expressions[0] "
   ]
  },
  {
   "cell_type": "markdown",
   "metadata": {},
   "source": [
    "### Benchmarking"
   ]
  },
  {
   "cell_type": "code",
   "execution_count": 28,
   "metadata": {},
   "outputs": [],
   "source": [
    "X = numpy.linspace(0, 3, 100)\n",
    "L_L, L_U, a, b, c = (-1.2, 2.3, 0.7, 2.3, -1.0)\n",
    "I_x = (a*b-c)/b\n",
    "S = (L_U - L_L) * b*(numpy.exp(c)+1)**(-(numpy.exp(c)+1)*numpy.exp(-c))"
   ]
  },
  {
   "cell_type": "code",
   "execution_count": 29,
   "metadata": {
    "scrolled": true
   },
   "outputs": [],
   "source": [
    "numpy.testing.assert_allclose(\n",
    "    asymmetric_logistic_I_x_b_c(X, (L_L, L_U, I_x, b, c)),\n",
    "    asymmetric_logistic_a_b_c(X, (L_L, L_U, a, b, c)),\n",
    "    rtol=1e-7\n",
    ")\n",
    "numpy.testing.assert_allclose(\n",
    "    asymmetric_logistic_I_x_S_c(X, (L_L, L_U, I_x, S, c)),\n",
    "    asymmetric_logistic_a_b_c(X, (L_L, L_U, a, b, c)),\n",
    "    rtol=1e-7\n",
    ")"
   ]
  },
  {
   "cell_type": "code",
   "execution_count": 30,
   "metadata": {},
   "outputs": [
    {
     "output_type": "display_data",
     "data": {
      "text/plain": "<Figure size 432x288 with 1 Axes>",
      "image/svg+xml": "<?xml version=\"1.0\" encoding=\"utf-8\" standalone=\"no\"?>\r\n<!DOCTYPE svg PUBLIC \"-//W3C//DTD SVG 1.1//EN\"\r\n  \"http://www.w3.org/Graphics/SVG/1.1/DTD/svg11.dtd\">\r\n<!-- Created with matplotlib (https://matplotlib.org/) -->\r\n<svg height=\"248.518125pt\" version=\"1.1\" viewBox=\"0 0 380.482813 248.518125\" width=\"380.482813pt\" xmlns=\"http://www.w3.org/2000/svg\" xmlns:xlink=\"http://www.w3.org/1999/xlink\">\r\n <defs>\r\n  <style type=\"text/css\">\r\n*{stroke-linecap:butt;stroke-linejoin:round;}\r\n  </style>\r\n </defs>\r\n <g id=\"figure_1\">\r\n  <g id=\"patch_1\">\r\n   <path d=\"M -0 248.518125 \r\nL 380.482813 248.518125 \r\nL 380.482813 0 \r\nL -0 0 \r\nz\r\n\" style=\"fill:none;\"/>\r\n  </g>\r\n  <g id=\"axes_1\">\r\n   <g id=\"patch_2\">\r\n    <path d=\"M 38.482813 224.64 \r\nL 373.282813 224.64 \r\nL 373.282813 7.2 \r\nL 38.482813 7.2 \r\nz\r\n\" style=\"fill:#ffffff;\"/>\r\n   </g>\r\n   <g id=\"matplotlib.axis_1\">\r\n    <g id=\"xtick_1\">\r\n     <g id=\"line2d_1\">\r\n      <defs>\r\n       <path d=\"M 0 0 \r\nL 0 3.5 \r\n\" id=\"m4d006952be\" style=\"stroke:#000000;stroke-width:0.8;\"/>\r\n      </defs>\r\n      <g>\r\n       <use style=\"stroke:#000000;stroke-width:0.8;\" x=\"53.700994\" xlink:href=\"#m4d006952be\" y=\"224.64\"/>\r\n      </g>\r\n     </g>\r\n     <g id=\"text_1\">\r\n      <!-- 0.0 -->\r\n      <defs>\r\n       <path d=\"M 31.78125 66.40625 \r\nQ 24.171875 66.40625 20.328125 58.90625 \r\nQ 16.5 51.421875 16.5 36.375 \r\nQ 16.5 21.390625 20.328125 13.890625 \r\nQ 24.171875 6.390625 31.78125 6.390625 \r\nQ 39.453125 6.390625 43.28125 13.890625 \r\nQ 47.125 21.390625 47.125 36.375 \r\nQ 47.125 51.421875 43.28125 58.90625 \r\nQ 39.453125 66.40625 31.78125 66.40625 \r\nz\r\nM 31.78125 74.21875 \r\nQ 44.046875 74.21875 50.515625 64.515625 \r\nQ 56.984375 54.828125 56.984375 36.375 \r\nQ 56.984375 17.96875 50.515625 8.265625 \r\nQ 44.046875 -1.421875 31.78125 -1.421875 \r\nQ 19.53125 -1.421875 13.0625 8.265625 \r\nQ 6.59375 17.96875 6.59375 36.375 \r\nQ 6.59375 54.828125 13.0625 64.515625 \r\nQ 19.53125 74.21875 31.78125 74.21875 \r\nz\r\n\" id=\"DejaVuSans-48\"/>\r\n       <path d=\"M 10.6875 12.40625 \r\nL 21 12.40625 \r\nL 21 0 \r\nL 10.6875 0 \r\nz\r\n\" id=\"DejaVuSans-46\"/>\r\n      </defs>\r\n      <g transform=\"translate(45.749432 239.238437)scale(0.1 -0.1)\">\r\n       <use xlink:href=\"#DejaVuSans-48\"/>\r\n       <use x=\"63.623047\" xlink:href=\"#DejaVuSans-46\"/>\r\n       <use x=\"95.410156\" xlink:href=\"#DejaVuSans-48\"/>\r\n      </g>\r\n     </g>\r\n    </g>\r\n    <g id=\"xtick_2\">\r\n     <g id=\"line2d_2\">\r\n      <g>\r\n       <use style=\"stroke:#000000;stroke-width:0.8;\" x=\"104.428267\" xlink:href=\"#m4d006952be\" y=\"224.64\"/>\r\n      </g>\r\n     </g>\r\n     <g id=\"text_2\">\r\n      <!-- 0.5 -->\r\n      <defs>\r\n       <path d=\"M 10.796875 72.90625 \r\nL 49.515625 72.90625 \r\nL 49.515625 64.59375 \r\nL 19.828125 64.59375 \r\nL 19.828125 46.734375 \r\nQ 21.96875 47.46875 24.109375 47.828125 \r\nQ 26.265625 48.1875 28.421875 48.1875 \r\nQ 40.625 48.1875 47.75 41.5 \r\nQ 54.890625 34.8125 54.890625 23.390625 \r\nQ 54.890625 11.625 47.5625 5.09375 \r\nQ 40.234375 -1.421875 26.90625 -1.421875 \r\nQ 22.3125 -1.421875 17.546875 -0.640625 \r\nQ 12.796875 0.140625 7.71875 1.703125 \r\nL 7.71875 11.625 \r\nQ 12.109375 9.234375 16.796875 8.0625 \r\nQ 21.484375 6.890625 26.703125 6.890625 \r\nQ 35.15625 6.890625 40.078125 11.328125 \r\nQ 45.015625 15.765625 45.015625 23.390625 \r\nQ 45.015625 31 40.078125 35.4375 \r\nQ 35.15625 39.890625 26.703125 39.890625 \r\nQ 22.75 39.890625 18.8125 39.015625 \r\nQ 14.890625 38.140625 10.796875 36.28125 \r\nz\r\n\" id=\"DejaVuSans-53\"/>\r\n      </defs>\r\n      <g transform=\"translate(96.476705 239.238437)scale(0.1 -0.1)\">\r\n       <use xlink:href=\"#DejaVuSans-48\"/>\r\n       <use x=\"63.623047\" xlink:href=\"#DejaVuSans-46\"/>\r\n       <use x=\"95.410156\" xlink:href=\"#DejaVuSans-53\"/>\r\n      </g>\r\n     </g>\r\n    </g>\r\n    <g id=\"xtick_3\">\r\n     <g id=\"line2d_3\">\r\n      <g>\r\n       <use style=\"stroke:#000000;stroke-width:0.8;\" x=\"155.15554\" xlink:href=\"#m4d006952be\" y=\"224.64\"/>\r\n      </g>\r\n     </g>\r\n     <g id=\"text_3\">\r\n      <!-- 1.0 -->\r\n      <defs>\r\n       <path d=\"M 12.40625 8.296875 \r\nL 28.515625 8.296875 \r\nL 28.515625 63.921875 \r\nL 10.984375 60.40625 \r\nL 10.984375 69.390625 \r\nL 28.421875 72.90625 \r\nL 38.28125 72.90625 \r\nL 38.28125 8.296875 \r\nL 54.390625 8.296875 \r\nL 54.390625 0 \r\nL 12.40625 0 \r\nz\r\n\" id=\"DejaVuSans-49\"/>\r\n      </defs>\r\n      <g transform=\"translate(147.203977 239.238437)scale(0.1 -0.1)\">\r\n       <use xlink:href=\"#DejaVuSans-49\"/>\r\n       <use x=\"63.623047\" xlink:href=\"#DejaVuSans-46\"/>\r\n       <use x=\"95.410156\" xlink:href=\"#DejaVuSans-48\"/>\r\n      </g>\r\n     </g>\r\n    </g>\r\n    <g id=\"xtick_4\">\r\n     <g id=\"line2d_4\">\r\n      <g>\r\n       <use style=\"stroke:#000000;stroke-width:0.8;\" x=\"205.882812\" xlink:href=\"#m4d006952be\" y=\"224.64\"/>\r\n      </g>\r\n     </g>\r\n     <g id=\"text_4\">\r\n      <!-- 1.5 -->\r\n      <g transform=\"translate(197.93125 239.238437)scale(0.1 -0.1)\">\r\n       <use xlink:href=\"#DejaVuSans-49\"/>\r\n       <use x=\"63.623047\" xlink:href=\"#DejaVuSans-46\"/>\r\n       <use x=\"95.410156\" xlink:href=\"#DejaVuSans-53\"/>\r\n      </g>\r\n     </g>\r\n    </g>\r\n    <g id=\"xtick_5\">\r\n     <g id=\"line2d_5\">\r\n      <g>\r\n       <use style=\"stroke:#000000;stroke-width:0.8;\" x=\"256.610085\" xlink:href=\"#m4d006952be\" y=\"224.64\"/>\r\n      </g>\r\n     </g>\r\n     <g id=\"text_5\">\r\n      <!-- 2.0 -->\r\n      <defs>\r\n       <path d=\"M 19.1875 8.296875 \r\nL 53.609375 8.296875 \r\nL 53.609375 0 \r\nL 7.328125 0 \r\nL 7.328125 8.296875 \r\nQ 12.9375 14.109375 22.625 23.890625 \r\nQ 32.328125 33.6875 34.8125 36.53125 \r\nQ 39.546875 41.84375 41.421875 45.53125 \r\nQ 43.3125 49.21875 43.3125 52.78125 \r\nQ 43.3125 58.59375 39.234375 62.25 \r\nQ 35.15625 65.921875 28.609375 65.921875 \r\nQ 23.96875 65.921875 18.8125 64.3125 \r\nQ 13.671875 62.703125 7.8125 59.421875 \r\nL 7.8125 69.390625 \r\nQ 13.765625 71.78125 18.9375 73 \r\nQ 24.125 74.21875 28.421875 74.21875 \r\nQ 39.75 74.21875 46.484375 68.546875 \r\nQ 53.21875 62.890625 53.21875 53.421875 \r\nQ 53.21875 48.921875 51.53125 44.890625 \r\nQ 49.859375 40.875 45.40625 35.40625 \r\nQ 44.1875 33.984375 37.640625 27.21875 \r\nQ 31.109375 20.453125 19.1875 8.296875 \r\nz\r\n\" id=\"DejaVuSans-50\"/>\r\n      </defs>\r\n      <g transform=\"translate(248.658523 239.238437)scale(0.1 -0.1)\">\r\n       <use xlink:href=\"#DejaVuSans-50\"/>\r\n       <use x=\"63.623047\" xlink:href=\"#DejaVuSans-46\"/>\r\n       <use x=\"95.410156\" xlink:href=\"#DejaVuSans-48\"/>\r\n      </g>\r\n     </g>\r\n    </g>\r\n    <g id=\"xtick_6\">\r\n     <g id=\"line2d_6\">\r\n      <g>\r\n       <use style=\"stroke:#000000;stroke-width:0.8;\" x=\"307.337358\" xlink:href=\"#m4d006952be\" y=\"224.64\"/>\r\n      </g>\r\n     </g>\r\n     <g id=\"text_6\">\r\n      <!-- 2.5 -->\r\n      <g transform=\"translate(299.385795 239.238437)scale(0.1 -0.1)\">\r\n       <use xlink:href=\"#DejaVuSans-50\"/>\r\n       <use x=\"63.623047\" xlink:href=\"#DejaVuSans-46\"/>\r\n       <use x=\"95.410156\" xlink:href=\"#DejaVuSans-53\"/>\r\n      </g>\r\n     </g>\r\n    </g>\r\n    <g id=\"xtick_7\">\r\n     <g id=\"line2d_7\">\r\n      <g>\r\n       <use style=\"stroke:#000000;stroke-width:0.8;\" x=\"358.064631\" xlink:href=\"#m4d006952be\" y=\"224.64\"/>\r\n      </g>\r\n     </g>\r\n     <g id=\"text_7\">\r\n      <!-- 3.0 -->\r\n      <defs>\r\n       <path d=\"M 40.578125 39.3125 \r\nQ 47.65625 37.796875 51.625 33 \r\nQ 55.609375 28.21875 55.609375 21.1875 \r\nQ 55.609375 10.40625 48.1875 4.484375 \r\nQ 40.765625 -1.421875 27.09375 -1.421875 \r\nQ 22.515625 -1.421875 17.65625 -0.515625 \r\nQ 12.796875 0.390625 7.625 2.203125 \r\nL 7.625 11.71875 \r\nQ 11.71875 9.328125 16.59375 8.109375 \r\nQ 21.484375 6.890625 26.8125 6.890625 \r\nQ 36.078125 6.890625 40.9375 10.546875 \r\nQ 45.796875 14.203125 45.796875 21.1875 \r\nQ 45.796875 27.640625 41.28125 31.265625 \r\nQ 36.765625 34.90625 28.71875 34.90625 \r\nL 20.21875 34.90625 \r\nL 20.21875 43.015625 \r\nL 29.109375 43.015625 \r\nQ 36.375 43.015625 40.234375 45.921875 \r\nQ 44.09375 48.828125 44.09375 54.296875 \r\nQ 44.09375 59.90625 40.109375 62.90625 \r\nQ 36.140625 65.921875 28.71875 65.921875 \r\nQ 24.65625 65.921875 20.015625 65.03125 \r\nQ 15.375 64.15625 9.8125 62.3125 \r\nL 9.8125 71.09375 \r\nQ 15.4375 72.65625 20.34375 73.4375 \r\nQ 25.25 74.21875 29.59375 74.21875 \r\nQ 40.828125 74.21875 47.359375 69.109375 \r\nQ 53.90625 64.015625 53.90625 55.328125 \r\nQ 53.90625 49.265625 50.4375 45.09375 \r\nQ 46.96875 40.921875 40.578125 39.3125 \r\nz\r\n\" id=\"DejaVuSans-51\"/>\r\n      </defs>\r\n      <g transform=\"translate(350.113068 239.238437)scale(0.1 -0.1)\">\r\n       <use xlink:href=\"#DejaVuSans-51\"/>\r\n       <use x=\"63.623047\" xlink:href=\"#DejaVuSans-46\"/>\r\n       <use x=\"95.410156\" xlink:href=\"#DejaVuSans-48\"/>\r\n      </g>\r\n     </g>\r\n    </g>\r\n   </g>\r\n   <g id=\"matplotlib.axis_2\">\r\n    <g id=\"ytick_1\">\r\n     <g id=\"line2d_8\">\r\n      <defs>\r\n       <path d=\"M 0 0 \r\nL -3.5 0 \r\n\" id=\"m6287f56e7e\" style=\"stroke:#000000;stroke-width:0.8;\"/>\r\n      </defs>\r\n      <g>\r\n       <use style=\"stroke:#000000;stroke-width:0.8;\" x=\"38.482813\" xlink:href=\"#m6287f56e7e\" y=\"204.762658\"/>\r\n      </g>\r\n     </g>\r\n     <g id=\"text_8\">\r\n      <!-- −1.0 -->\r\n      <defs>\r\n       <path d=\"M 10.59375 35.5 \r\nL 73.1875 35.5 \r\nL 73.1875 27.203125 \r\nL 10.59375 27.203125 \r\nz\r\n\" id=\"DejaVuSans-8722\"/>\r\n      </defs>\r\n      <g transform=\"translate(7.2 208.561876)scale(0.1 -0.1)\">\r\n       <use xlink:href=\"#DejaVuSans-8722\"/>\r\n       <use x=\"83.789062\" xlink:href=\"#DejaVuSans-49\"/>\r\n       <use x=\"147.412109\" xlink:href=\"#DejaVuSans-46\"/>\r\n       <use x=\"179.199219\" xlink:href=\"#DejaVuSans-48\"/>\r\n      </g>\r\n     </g>\r\n    </g>\r\n    <g id=\"ytick_2\">\r\n     <g id=\"line2d_9\">\r\n      <g>\r\n       <use style=\"stroke:#000000;stroke-width:0.8;\" x=\"38.482813\" xlink:href=\"#m6287f56e7e\" y=\"175.910968\"/>\r\n      </g>\r\n     </g>\r\n     <g id=\"text_9\">\r\n      <!-- −0.5 -->\r\n      <g transform=\"translate(7.2 179.710187)scale(0.1 -0.1)\">\r\n       <use xlink:href=\"#DejaVuSans-8722\"/>\r\n       <use x=\"83.789062\" xlink:href=\"#DejaVuSans-48\"/>\r\n       <use x=\"147.412109\" xlink:href=\"#DejaVuSans-46\"/>\r\n       <use x=\"179.199219\" xlink:href=\"#DejaVuSans-53\"/>\r\n      </g>\r\n     </g>\r\n    </g>\r\n    <g id=\"ytick_3\">\r\n     <g id=\"line2d_10\">\r\n      <g>\r\n       <use style=\"stroke:#000000;stroke-width:0.8;\" x=\"38.482813\" xlink:href=\"#m6287f56e7e\" y=\"147.059278\"/>\r\n      </g>\r\n     </g>\r\n     <g id=\"text_10\">\r\n      <!-- 0.0 -->\r\n      <g transform=\"translate(15.579688 150.858497)scale(0.1 -0.1)\">\r\n       <use xlink:href=\"#DejaVuSans-48\"/>\r\n       <use x=\"63.623047\" xlink:href=\"#DejaVuSans-46\"/>\r\n       <use x=\"95.410156\" xlink:href=\"#DejaVuSans-48\"/>\r\n      </g>\r\n     </g>\r\n    </g>\r\n    <g id=\"ytick_4\">\r\n     <g id=\"line2d_11\">\r\n      <g>\r\n       <use style=\"stroke:#000000;stroke-width:0.8;\" x=\"38.482813\" xlink:href=\"#m6287f56e7e\" y=\"118.207588\"/>\r\n      </g>\r\n     </g>\r\n     <g id=\"text_11\">\r\n      <!-- 0.5 -->\r\n      <g transform=\"translate(15.579688 122.006807)scale(0.1 -0.1)\">\r\n       <use xlink:href=\"#DejaVuSans-48\"/>\r\n       <use x=\"63.623047\" xlink:href=\"#DejaVuSans-46\"/>\r\n       <use x=\"95.410156\" xlink:href=\"#DejaVuSans-53\"/>\r\n      </g>\r\n     </g>\r\n    </g>\r\n    <g id=\"ytick_5\">\r\n     <g id=\"line2d_12\">\r\n      <g>\r\n       <use style=\"stroke:#000000;stroke-width:0.8;\" x=\"38.482813\" xlink:href=\"#m6287f56e7e\" y=\"89.355898\"/>\r\n      </g>\r\n     </g>\r\n     <g id=\"text_12\">\r\n      <!-- 1.0 -->\r\n      <g transform=\"translate(15.579688 93.155117)scale(0.1 -0.1)\">\r\n       <use xlink:href=\"#DejaVuSans-49\"/>\r\n       <use x=\"63.623047\" xlink:href=\"#DejaVuSans-46\"/>\r\n       <use x=\"95.410156\" xlink:href=\"#DejaVuSans-48\"/>\r\n      </g>\r\n     </g>\r\n    </g>\r\n    <g id=\"ytick_6\">\r\n     <g id=\"line2d_13\">\r\n      <g>\r\n       <use style=\"stroke:#000000;stroke-width:0.8;\" x=\"38.482813\" xlink:href=\"#m6287f56e7e\" y=\"60.504208\"/>\r\n      </g>\r\n     </g>\r\n     <g id=\"text_13\">\r\n      <!-- 1.5 -->\r\n      <g transform=\"translate(15.579688 64.303427)scale(0.1 -0.1)\">\r\n       <use xlink:href=\"#DejaVuSans-49\"/>\r\n       <use x=\"63.623047\" xlink:href=\"#DejaVuSans-46\"/>\r\n       <use x=\"95.410156\" xlink:href=\"#DejaVuSans-53\"/>\r\n      </g>\r\n     </g>\r\n    </g>\r\n    <g id=\"ytick_7\">\r\n     <g id=\"line2d_14\">\r\n      <g>\r\n       <use style=\"stroke:#000000;stroke-width:0.8;\" x=\"38.482813\" xlink:href=\"#m6287f56e7e\" y=\"31.652518\"/>\r\n      </g>\r\n     </g>\r\n     <g id=\"text_14\">\r\n      <!-- 2.0 -->\r\n      <g transform=\"translate(15.579688 35.451737)scale(0.1 -0.1)\">\r\n       <use xlink:href=\"#DejaVuSans-50\"/>\r\n       <use x=\"63.623047\" xlink:href=\"#DejaVuSans-46\"/>\r\n       <use x=\"95.410156\" xlink:href=\"#DejaVuSans-48\"/>\r\n      </g>\r\n     </g>\r\n    </g>\r\n   </g>\r\n   <g id=\"line2d_15\">\r\n    <path clip-path=\"url(#pbb879d5ab3)\" d=\"M 53.700994 214.756364 \r\nL 56.775374 214.493451 \r\nL 59.849755 214.189915 \r\nL 62.924135 213.84042 \r\nL 65.998515 213.439134 \r\nL 69.072895 212.979727 \r\nL 72.147275 212.455383 \r\nL 75.221655 211.858814 \r\nL 78.296036 211.1823 \r\nL 81.370416 210.417737 \r\nL 84.444796 209.556701 \r\nL 87.519176 208.59054 \r\nL 90.593556 207.510469 \r\nL 93.667936 206.307701 \r\nL 96.742317 204.973576 \r\nL 99.816697 203.499722 \r\nL 102.891077 201.878216 \r\nL 105.965457 200.101765 \r\nL 109.039837 198.163877 \r\nL 112.114217 196.059051 \r\nL 115.188598 193.782938 \r\nL 118.262978 191.332512 \r\nL 121.337358 188.706202 \r\nL 124.411738 185.90402 \r\nL 127.486118 182.927644 \r\nL 130.560498 179.780474 \r\nL 133.634879 176.467659 \r\nL 136.709259 172.99607 \r\nL 139.783639 169.374249 \r\nL 142.858019 165.612316 \r\nL 145.932399 161.721834 \r\nL 149.006779 157.715655 \r\nL 152.08116 153.607735 \r\nL 155.15554 149.412921 \r\nL 158.22992 145.146737 \r\nL 161.3043 140.825153 \r\nL 164.37868 136.464357 \r\nL 167.45306 132.080531 \r\nL 170.527441 127.689639 \r\nL 173.601821 123.307226 \r\nL 176.676201 118.948246 \r\nL 179.750581 114.626901 \r\nL 182.824961 110.35651 \r\nL 185.899341 106.149409 \r\nL 188.973722 102.016861 \r\nL 192.048102 97.969011 \r\nL 195.122482 94.014845 \r\nL 198.196862 90.162186 \r\nL 201.271242 86.417698 \r\nL 204.345622 82.786916 \r\nL 207.420003 79.274286 \r\nL 210.494383 75.883215 \r\nL 213.568763 72.616136 \r\nL 216.643143 69.474574 \r\nL 219.717523 66.45922 \r\nL 222.791903 63.570008 \r\nL 225.866284 60.806191 \r\nL 228.940664 58.166416 \r\nL 232.015044 55.648803 \r\nL 235.089424 53.251009 \r\nL 238.163804 50.970306 \r\nL 241.238184 48.803637 \r\nL 244.312565 46.747679 \r\nL 247.386945 44.798898 \r\nL 250.461325 42.953598 \r\nL 253.535705 41.207965 \r\nL 256.610085 39.558112 \r\nL 259.684465 38.000107 \r\nL 262.758846 36.530011 \r\nL 265.833226 35.143904 \r\nL 268.907606 33.837906 \r\nL 271.981986 32.608197 \r\nL 275.056366 31.451037 \r\nL 278.130746 30.362775 \r\nL 281.205127 29.339866 \r\nL 284.279507 28.378872 \r\nL 287.353887 27.476476 \r\nL 290.428267 26.629481 \r\nL 293.502647 25.834819 \r\nL 296.577027 25.089546 \r\nL 299.651408 24.390847 \r\nL 302.725788 23.736036 \r\nL 305.800168 23.122552 \r\nL 308.874548 22.547958 \r\nL 311.948928 22.009938 \r\nL 315.023308 21.506297 \r\nL 318.097689 21.034951 \r\nL 321.172069 20.593931 \r\nL 324.246449 20.181373 \r\nL 327.320829 19.795517 \r\nL 330.395209 19.434702 \r\nL 333.469589 19.09736 \r\nL 336.54397 18.782017 \r\nL 339.61835 18.487282 \r\nL 342.69273 18.211847 \r\nL 345.76711 17.954482 \r\nL 348.84149 17.714032 \r\nL 351.91587 17.48941 \r\nL 354.990251 17.279597 \r\nL 358.064631 17.083636 \r\n\" style=\"fill:none;stroke:#1f77b4;stroke-linecap:square;stroke-width:1.5;\"/>\r\n   </g>\r\n   <g id=\"line2d_16\">\r\n    <path clip-path=\"url(#pbb879d5ab3)\" d=\"M 53.700994 214.756364 \r\nL 56.775374 214.493451 \r\nL 59.849755 214.189915 \r\nL 62.924135 213.84042 \r\nL 65.998515 213.439134 \r\nL 69.072895 212.979727 \r\nL 72.147275 212.455383 \r\nL 75.221655 211.858814 \r\nL 78.296036 211.1823 \r\nL 81.370416 210.417737 \r\nL 84.444796 209.556701 \r\nL 87.519176 208.59054 \r\nL 90.593556 207.510469 \r\nL 93.667936 206.307701 \r\nL 96.742317 204.973576 \r\nL 99.816697 203.499722 \r\nL 102.891077 201.878216 \r\nL 105.965457 200.101765 \r\nL 109.039837 198.163877 \r\nL 112.114217 196.059051 \r\nL 115.188598 193.782938 \r\nL 118.262978 191.332512 \r\nL 121.337358 188.706202 \r\nL 124.411738 185.90402 \r\nL 127.486118 182.927644 \r\nL 130.560498 179.780474 \r\nL 133.634879 176.467659 \r\nL 136.709259 172.99607 \r\nL 139.783639 169.374249 \r\nL 142.858019 165.612316 \r\nL 145.932399 161.721834 \r\nL 149.006779 157.715655 \r\nL 152.08116 153.607735 \r\nL 155.15554 149.412921 \r\nL 158.22992 145.146737 \r\nL 161.3043 140.825153 \r\nL 164.37868 136.464357 \r\nL 167.45306 132.080531 \r\nL 170.527441 127.689639 \r\nL 173.601821 123.307226 \r\nL 176.676201 118.948246 \r\nL 179.750581 114.626901 \r\nL 182.824961 110.35651 \r\nL 185.899341 106.149409 \r\nL 188.973722 102.016861 \r\nL 192.048102 97.969011 \r\nL 195.122482 94.014845 \r\nL 198.196862 90.162186 \r\nL 201.271242 86.417698 \r\nL 204.345622 82.786916 \r\nL 207.420003 79.274286 \r\nL 210.494383 75.883215 \r\nL 213.568763 72.616136 \r\nL 216.643143 69.474574 \r\nL 219.717523 66.45922 \r\nL 222.791903 63.570008 \r\nL 225.866284 60.806191 \r\nL 228.940664 58.166416 \r\nL 232.015044 55.648803 \r\nL 235.089424 53.251009 \r\nL 238.163804 50.970306 \r\nL 241.238184 48.803637 \r\nL 244.312565 46.747679 \r\nL 247.386945 44.798898 \r\nL 250.461325 42.953598 \r\nL 253.535705 41.207965 \r\nL 256.610085 39.558112 \r\nL 259.684465 38.000107 \r\nL 262.758846 36.530011 \r\nL 265.833226 35.143904 \r\nL 268.907606 33.837906 \r\nL 271.981986 32.608197 \r\nL 275.056366 31.451037 \r\nL 278.130746 30.362775 \r\nL 281.205127 29.339866 \r\nL 284.279507 28.378872 \r\nL 287.353887 27.476476 \r\nL 290.428267 26.629481 \r\nL 293.502647 25.834819 \r\nL 296.577027 25.089546 \r\nL 299.651408 24.390847 \r\nL 302.725788 23.736036 \r\nL 305.800168 23.122552 \r\nL 308.874548 22.547958 \r\nL 311.948928 22.009938 \r\nL 315.023308 21.506297 \r\nL 318.097689 21.034951 \r\nL 321.172069 20.593931 \r\nL 324.246449 20.181373 \r\nL 327.320829 19.795517 \r\nL 330.395209 19.434702 \r\nL 333.469589 19.09736 \r\nL 336.54397 18.782017 \r\nL 339.61835 18.487282 \r\nL 342.69273 18.211847 \r\nL 345.76711 17.954482 \r\nL 348.84149 17.714032 \r\nL 351.91587 17.48941 \r\nL 354.990251 17.279597 \r\nL 358.064631 17.083636 \r\n\" style=\"fill:none;stroke:#ff7f0e;stroke-linecap:square;stroke-width:1.5;\"/>\r\n   </g>\r\n   <g id=\"line2d_17\">\r\n    <path clip-path=\"url(#pbb879d5ab3)\" d=\"M 53.700994 214.756364 \r\nL 56.775374 214.493451 \r\nL 59.849755 214.189915 \r\nL 62.924135 213.84042 \r\nL 65.998515 213.439134 \r\nL 69.072895 212.979727 \r\nL 72.147275 212.455383 \r\nL 75.221655 211.858814 \r\nL 78.296036 211.1823 \r\nL 81.370416 210.417737 \r\nL 84.444796 209.556701 \r\nL 87.519176 208.59054 \r\nL 90.593556 207.510469 \r\nL 93.667936 206.307701 \r\nL 96.742317 204.973576 \r\nL 99.816697 203.499722 \r\nL 102.891077 201.878216 \r\nL 105.965457 200.101765 \r\nL 109.039837 198.163877 \r\nL 112.114217 196.059051 \r\nL 115.188598 193.782938 \r\nL 118.262978 191.332512 \r\nL 121.337358 188.706202 \r\nL 124.411738 185.90402 \r\nL 127.486118 182.927644 \r\nL 130.560498 179.780474 \r\nL 133.634879 176.467659 \r\nL 136.709259 172.99607 \r\nL 139.783639 169.374249 \r\nL 142.858019 165.612316 \r\nL 145.932399 161.721834 \r\nL 149.006779 157.715655 \r\nL 152.08116 153.607735 \r\nL 155.15554 149.412921 \r\nL 158.22992 145.146737 \r\nL 161.3043 140.825153 \r\nL 164.37868 136.464357 \r\nL 167.45306 132.080531 \r\nL 170.527441 127.689639 \r\nL 173.601821 123.307226 \r\nL 176.676201 118.948246 \r\nL 179.750581 114.626901 \r\nL 182.824961 110.35651 \r\nL 185.899341 106.149409 \r\nL 188.973722 102.016861 \r\nL 192.048102 97.969011 \r\nL 195.122482 94.014845 \r\nL 198.196862 90.162186 \r\nL 201.271242 86.417698 \r\nL 204.345622 82.786916 \r\nL 207.420003 79.274286 \r\nL 210.494383 75.883215 \r\nL 213.568763 72.616136 \r\nL 216.643143 69.474574 \r\nL 219.717523 66.45922 \r\nL 222.791903 63.570008 \r\nL 225.866284 60.806191 \r\nL 228.940664 58.166416 \r\nL 232.015044 55.648803 \r\nL 235.089424 53.251009 \r\nL 238.163804 50.970306 \r\nL 241.238184 48.803637 \r\nL 244.312565 46.747679 \r\nL 247.386945 44.798898 \r\nL 250.461325 42.953598 \r\nL 253.535705 41.207965 \r\nL 256.610085 39.558112 \r\nL 259.684465 38.000107 \r\nL 262.758846 36.530011 \r\nL 265.833226 35.143904 \r\nL 268.907606 33.837906 \r\nL 271.981986 32.608197 \r\nL 275.056366 31.451037 \r\nL 278.130746 30.362775 \r\nL 281.205127 29.339866 \r\nL 284.279507 28.378872 \r\nL 287.353887 27.476476 \r\nL 290.428267 26.629481 \r\nL 293.502647 25.834819 \r\nL 296.577027 25.089546 \r\nL 299.651408 24.390847 \r\nL 302.725788 23.736036 \r\nL 305.800168 23.122552 \r\nL 308.874548 22.547958 \r\nL 311.948928 22.009938 \r\nL 315.023308 21.506297 \r\nL 318.097689 21.034951 \r\nL 321.172069 20.593931 \r\nL 324.246449 20.181373 \r\nL 327.320829 19.795517 \r\nL 330.395209 19.434702 \r\nL 333.469589 19.09736 \r\nL 336.54397 18.782017 \r\nL 339.61835 18.487282 \r\nL 342.69273 18.211847 \r\nL 345.76711 17.954482 \r\nL 348.84149 17.714032 \r\nL 351.91587 17.48941 \r\nL 354.990251 17.279597 \r\nL 358.064631 17.083636 \r\n\" style=\"fill:none;stroke:#2ca02c;stroke-linecap:square;stroke-width:1.5;\"/>\r\n   </g>\r\n   <g id=\"patch_3\">\r\n    <path d=\"M 38.482813 224.64 \r\nL 38.482813 7.2 \r\n\" style=\"fill:none;stroke:#000000;stroke-linecap:square;stroke-linejoin:miter;stroke-width:0.8;\"/>\r\n   </g>\r\n   <g id=\"patch_4\">\r\n    <path d=\"M 373.282813 224.64 \r\nL 373.282813 7.2 \r\n\" style=\"fill:none;stroke:#000000;stroke-linecap:square;stroke-linejoin:miter;stroke-width:0.8;\"/>\r\n   </g>\r\n   <g id=\"patch_5\">\r\n    <path d=\"M 38.482813 224.64 \r\nL 373.282813 224.64 \r\n\" style=\"fill:none;stroke:#000000;stroke-linecap:square;stroke-linejoin:miter;stroke-width:0.8;\"/>\r\n   </g>\r\n   <g id=\"patch_6\">\r\n    <path d=\"M 38.482813 7.2 \r\nL 373.282813 7.2 \r\n\" style=\"fill:none;stroke:#000000;stroke-linecap:square;stroke-linejoin:miter;stroke-width:0.8;\"/>\r\n   </g>\r\n   <g id=\"legend_1\">\r\n    <g id=\"patch_7\">\r\n     <path d=\"M 45.482813 59.234375 \r\nL 106.982812 59.234375 \r\nQ 108.982812 59.234375 108.982812 57.234375 \r\nL 108.982812 14.2 \r\nQ 108.982812 12.2 106.982812 12.2 \r\nL 45.482813 12.2 \r\nQ 43.482813 12.2 43.482813 14.2 \r\nL 43.482813 57.234375 \r\nQ 43.482813 59.234375 45.482813 59.234375 \r\nz\r\n\" style=\"fill:#ffffff;opacity:0.8;stroke:#cccccc;stroke-linejoin:miter;\"/>\r\n    </g>\r\n    <g id=\"line2d_18\">\r\n     <path d=\"M 47.482813 20.298437 \r\nL 67.482812 20.298437 \r\n\" style=\"fill:none;stroke:#1f77b4;stroke-linecap:square;stroke-width:1.5;\"/>\r\n    </g>\r\n    <g id=\"line2d_19\"/>\r\n    <g id=\"text_15\">\r\n     <!-- $a, b, c$ -->\r\n     <defs>\r\n      <path d=\"M 53.71875 31.203125 \r\nL 47.609375 0 \r\nL 38.625 0 \r\nL 40.28125 8.296875 \r\nQ 36.328125 3.421875 31.265625 1 \r\nQ 26.21875 -1.421875 20.015625 -1.421875 \r\nQ 13.03125 -1.421875 8.5625 2.84375 \r\nQ 4.109375 7.125 4.109375 13.8125 \r\nQ 4.109375 23.390625 11.75 28.953125 \r\nQ 19.390625 34.515625 32.8125 34.515625 \r\nL 45.3125 34.515625 \r\nL 45.796875 36.921875 \r\nQ 45.90625 37.3125 45.953125 37.765625 \r\nQ 46 38.234375 46 39.203125 \r\nQ 46 43.5625 42.453125 45.96875 \r\nQ 38.921875 48.390625 32.515625 48.390625 \r\nQ 28.125 48.390625 23.5 47.265625 \r\nQ 18.890625 46.140625 14.015625 43.890625 \r\nL 15.578125 52.203125 \r\nQ 20.65625 54.109375 25.515625 55.046875 \r\nQ 30.375 56 34.90625 56 \r\nQ 44.578125 56 49.625 51.796875 \r\nQ 54.6875 47.609375 54.6875 39.59375 \r\nQ 54.6875 37.984375 54.4375 35.8125 \r\nQ 54.203125 33.640625 53.71875 31.203125 \r\nz\r\nM 44 27.484375 \r\nL 35.015625 27.484375 \r\nQ 23.96875 27.484375 18.671875 24.53125 \r\nQ 13.375 21.578125 13.375 15.375 \r\nQ 13.375 11.078125 16.078125 8.640625 \r\nQ 18.796875 6.203125 23.578125 6.203125 \r\nQ 30.90625 6.203125 36.375 11.453125 \r\nQ 41.84375 16.703125 43.609375 25.484375 \r\nz\r\n\" id=\"DejaVuSans-Oblique-97\"/>\r\n      <path d=\"M 11.71875 12.40625 \r\nL 22.015625 12.40625 \r\nL 22.015625 4 \r\nL 14.015625 -11.625 \r\nL 7.71875 -11.625 \r\nL 11.71875 4 \r\nz\r\n\" id=\"DejaVuSans-44\"/>\r\n      <path d=\"M 49.515625 33.40625 \r\nQ 49.515625 40.484375 46.265625 44.484375 \r\nQ 43.015625 48.484375 37.3125 48.484375 \r\nQ 33.15625 48.484375 29.515625 46.453125 \r\nQ 25.875 44.4375 23.1875 40.578125 \r\nQ 20.359375 36.53125 18.71875 31.171875 \r\nQ 17.09375 25.828125 17.09375 20.515625 \r\nQ 17.09375 13.765625 20.28125 9.9375 \r\nQ 23.484375 6.109375 29.109375 6.109375 \r\nQ 33.34375 6.109375 36.953125 8.078125 \r\nQ 40.578125 10.0625 43.3125 13.921875 \r\nQ 46.09375 17.921875 47.796875 23.234375 \r\nQ 49.515625 28.5625 49.515625 33.40625 \r\nz\r\nM 21.578125 46.390625 \r\nQ 24.90625 50.875 29.90625 53.4375 \r\nQ 34.90625 56 40.375 56 \r\nQ 48.78125 56 53.734375 50.328125 \r\nQ 58.6875 44.671875 58.6875 35.015625 \r\nQ 58.6875 27.09375 55.78125 19.671875 \r\nQ 52.875 12.25 47.515625 6.5 \r\nQ 44 2.6875 39.40625 0.625 \r\nQ 34.8125 -1.421875 29.78125 -1.421875 \r\nQ 24.46875 -1.421875 20.5625 1.015625 \r\nQ 16.65625 3.46875 14.203125 8.296875 \r\nL 12.59375 0 \r\nL 3.609375 0 \r\nL 18.40625 75.984375 \r\nL 27.390625 75.984375 \r\nz\r\n\" id=\"DejaVuSans-Oblique-98\"/>\r\n      <path d=\"M 53.609375 52.59375 \r\nL 51.8125 43.703125 \r\nQ 48.578125 46.046875 44.9375 47.21875 \r\nQ 41.3125 48.390625 37.40625 48.390625 \r\nQ 33.109375 48.390625 29.21875 46.875 \r\nQ 25.34375 45.359375 22.703125 42.578125 \r\nQ 18.5 38.328125 16.203125 32.609375 \r\nQ 13.921875 26.90625 13.921875 20.796875 \r\nQ 13.921875 13.421875 17.609375 9.8125 \r\nQ 21.296875 6.203125 28.8125 6.203125 \r\nQ 32.515625 6.203125 36.6875 7.328125 \r\nQ 40.875 8.453125 45.40625 10.6875 \r\nL 43.703125 1.8125 \r\nQ 39.796875 0.203125 35.671875 -0.609375 \r\nQ 31.546875 -1.421875 27.203125 -1.421875 \r\nQ 16.3125 -1.421875 10.453125 4.015625 \r\nQ 4.59375 9.46875 4.59375 19.578125 \r\nQ 4.59375 28.078125 7.640625 35.234375 \r\nQ 10.6875 42.390625 16.703125 48.09375 \r\nQ 20.796875 52 26.3125 54 \r\nQ 31.84375 56 38.375 56 \r\nQ 42.1875 56 45.9375 55.140625 \r\nQ 49.703125 54.296875 53.609375 52.59375 \r\nz\r\n\" id=\"DejaVuSans-Oblique-99\"/>\r\n     </defs>\r\n     <g transform=\"translate(75.482812 23.798437)scale(0.1 -0.1)\">\r\n      <use transform=\"translate(0 0.015625)\" xlink:href=\"#DejaVuSans-Oblique-97\"/>\r\n      <use transform=\"translate(61.279297 0.015625)\" xlink:href=\"#DejaVuSans-44\"/>\r\n      <use transform=\"translate(112.548828 0.015625)\" xlink:href=\"#DejaVuSans-Oblique-98\"/>\r\n      <use transform=\"translate(176.025391 0.015625)\" xlink:href=\"#DejaVuSans-44\"/>\r\n      <use transform=\"translate(227.294922 0.015625)\" xlink:href=\"#DejaVuSans-Oblique-99\"/>\r\n     </g>\r\n    </g>\r\n    <g id=\"line2d_20\">\r\n     <path d=\"M 47.482813 34.976562 \r\nL 67.482812 34.976562 \r\n\" style=\"fill:none;stroke:#ff7f0e;stroke-linecap:square;stroke-width:1.5;\"/>\r\n    </g>\r\n    <g id=\"line2d_21\"/>\r\n    <g id=\"text_16\">\r\n     <!-- $I_x, b, c$ -->\r\n     <defs>\r\n      <path d=\"M 16.890625 72.90625 \r\nL 26.8125 72.90625 \r\nL 12.59375 0 \r\nL 2.6875 0 \r\nz\r\n\" id=\"DejaVuSans-Oblique-73\"/>\r\n      <path d=\"M 60.015625 54.6875 \r\nL 34.90625 27.875 \r\nL 50.296875 0 \r\nL 39.984375 0 \r\nL 28.421875 21.6875 \r\nL 8.296875 0 \r\nL -2.59375 0 \r\nL 24.3125 28.8125 \r\nL 10.015625 54.6875 \r\nL 20.3125 54.6875 \r\nL 30.8125 34.90625 \r\nL 49.125 54.6875 \r\nz\r\n\" id=\"DejaVuSans-Oblique-120\"/>\r\n     </defs>\r\n     <g transform=\"translate(75.482812 38.476562)scale(0.1 -0.1)\">\r\n      <use transform=\"translate(0 0.015625)\" xlink:href=\"#DejaVuSans-Oblique-73\"/>\r\n      <use transform=\"translate(29.492188 -16.390625)scale(0.7)\" xlink:href=\"#DejaVuSans-Oblique-120\"/>\r\n      <use transform=\"translate(73.652344 0.015625)\" xlink:href=\"#DejaVuSans-44\"/>\r\n      <use transform=\"translate(124.921875 0.015625)\" xlink:href=\"#DejaVuSans-Oblique-98\"/>\r\n      <use transform=\"translate(188.398438 0.015625)\" xlink:href=\"#DejaVuSans-44\"/>\r\n      <use transform=\"translate(239.667969 0.015625)\" xlink:href=\"#DejaVuSans-Oblique-99\"/>\r\n     </g>\r\n    </g>\r\n    <g id=\"line2d_22\">\r\n     <path d=\"M 47.482813 49.654687 \r\nL 67.482812 49.654687 \r\n\" style=\"fill:none;stroke:#2ca02c;stroke-linecap:square;stroke-width:1.5;\"/>\r\n    </g>\r\n    <g id=\"line2d_23\"/>\r\n    <g id=\"text_17\">\r\n     <!-- $I_x, S, c$ -->\r\n     <defs>\r\n      <path d=\"M 60.296875 70.515625 \r\nL 58.40625 60.890625 \r\nQ 53.46875 63.53125 48.609375 64.875 \r\nQ 43.75 66.21875 39.203125 66.21875 \r\nQ 30.375 66.21875 25.140625 62.359375 \r\nQ 19.921875 58.5 19.921875 52.09375 \r\nQ 19.921875 48.578125 21.84375 46.703125 \r\nQ 23.78125 44.828125 31.78125 42.671875 \r\nL 37.703125 41.21875 \r\nQ 47.703125 38.625 51.609375 34.640625 \r\nQ 55.515625 30.671875 55.515625 23.484375 \r\nQ 55.515625 12.453125 46.84375 5.515625 \r\nQ 38.1875 -1.421875 24.03125 -1.421875 \r\nQ 18.21875 -1.421875 12.359375 -0.265625 \r\nQ 6.5 0.875 0.59375 3.21875 \r\nL 2.59375 13.375 \r\nQ 8.015625 10.015625 13.453125 8.296875 \r\nQ 18.890625 6.59375 24.3125 6.59375 \r\nQ 33.546875 6.59375 39.109375 10.6875 \r\nQ 44.671875 14.796875 44.671875 21.390625 \r\nQ 44.671875 25.78125 42.453125 28.046875 \r\nQ 40.234375 30.328125 32.90625 32.171875 \r\nL 27 33.6875 \r\nQ 16.890625 36.328125 13.203125 39.765625 \r\nQ 9.515625 43.21875 9.515625 49.421875 \r\nQ 9.515625 60.296875 17.890625 67.25 \r\nQ 26.265625 74.21875 39.703125 74.21875 \r\nQ 44.921875 74.21875 50.046875 73.28125 \r\nQ 55.171875 72.359375 60.296875 70.515625 \r\nz\r\n\" id=\"DejaVuSans-Oblique-83\"/>\r\n     </defs>\r\n     <g transform=\"translate(75.482812 53.154687)scale(0.1 -0.1)\">\r\n      <use transform=\"translate(0 0.78125)\" xlink:href=\"#DejaVuSans-Oblique-73\"/>\r\n      <use transform=\"translate(29.492188 -15.625)scale(0.7)\" xlink:href=\"#DejaVuSans-Oblique-120\"/>\r\n      <use transform=\"translate(73.652344 0.78125)\" xlink:href=\"#DejaVuSans-44\"/>\r\n      <use transform=\"translate(124.921875 0.78125)\" xlink:href=\"#DejaVuSans-Oblique-83\"/>\r\n      <use transform=\"translate(188.398438 0.78125)\" xlink:href=\"#DejaVuSans-44\"/>\r\n      <use transform=\"translate(239.667969 0.78125)\" xlink:href=\"#DejaVuSans-Oblique-99\"/>\r\n     </g>\r\n    </g>\r\n   </g>\r\n  </g>\r\n </g>\r\n <defs>\r\n  <clipPath id=\"pbb879d5ab3\">\r\n   <rect height=\"217.44\" width=\"334.8\" x=\"38.482813\" y=\"7.2\"/>\r\n  </clipPath>\r\n </defs>\r\n</svg>\r\n",
      "image/png": "[encoded data removed]"
     },
     "metadata": {
      "needs_background": "light"
     }
    }
   ],
   "source": [
    "pyplot.plot(X, asymmetric_logistic_a_b_c(X, (L_L, L_U, a, b, c)), label='$a, b, c$')\n",
    "pyplot.plot(X, asymmetric_logistic_I_x_b_c(X, (L_L, L_U, I_x, b, c)), label='$I_x, b, c$')\n",
    "pyplot.plot(X, asymmetric_logistic_I_x_S_c(X, (L_L, L_U, I_x, S, c)), label='$I_x, S, c$')\n",
    "pyplot.legend()\n",
    "pyplot.show()"
   ]
  },
  {
   "cell_type": "code",
   "execution_count": 31,
   "metadata": {},
   "outputs": [
    {
     "output_type": "stream",
     "name": "stdout",
     "text": "9.66 µs ± 310 ns per loop (mean ± std. dev. of 7 runs, 100000 loops each)\n"
    }
   ],
   "source": [
    "%timeit asymmetric_logistic_a_b_c(X, (L_L, L_U, a, b, c))"
   ]
  },
  {
   "cell_type": "code",
   "execution_count": 32,
   "metadata": {},
   "outputs": [
    {
     "output_type": "stream",
     "name": "stdout",
     "text": "10.1 µs ± 77.2 ns per loop (mean ± std. dev. of 7 runs, 100000 loops each)\n"
    }
   ],
   "source": [
    "%timeit asymmetric_logistic_I_x_b_c(X, (L_L, L_U, I_x, b, c))"
   ]
  },
  {
   "cell_type": "code",
   "execution_count": 33,
   "metadata": {},
   "outputs": [
    {
     "output_type": "stream",
     "name": "stdout",
     "text": "13.3 µs ± 92 ns per loop (mean ± std. dev. of 7 runs, 100000 loops each)\n"
    }
   ],
   "source": [
    "%timeit asymmetric_logistic_I_x_S_c(X, (L_L, L_U, I_x, S, c))"
   ]
  },
  {
   "cell_type": "code",
   "execution_count": null,
   "metadata": {},
   "outputs": [],
   "source": []
  }
 ],
 "metadata": {
  "kernelspec": {
   "display_name": "Python 3",
   "language": "python",
   "name": "python3"
  },
  "language_info": {
   "codemirror_mode": {
    "name": "ipython",
    "version": 3
   },
   "file_extension": ".py",
   "mimetype": "text/x-python",
   "name": "python",
   "nbconvert_exporter": "python",
   "pygments_lexer": "ipython3",
   "version": "3.6.10-final"
  },
  "widgets": {
   "application/vnd.jupyter.widget-state+json": {
    "state": {
     "00040f0934ea48d5bf7fe932ed2c4410": {
      "model_module": "@jupyter-widgets/base",
      "model_module_version": "1.2.0",
      "model_name": "LayoutModel",
      "state": {}
     },
     "01aa18713d024ec0933942bcb05c33ac": {
      "model_module": "@jupyter-widgets/base",
      "model_module_version": "1.2.0",
      "model_name": "LayoutModel",
      "state": {}
     },
     "0375134cf091496b8d0ed5ee1fc2e905": {
      "model_module": "@jupyter-widgets/controls",
      "model_module_version": "1.5.0",
      "model_name": "FloatSliderModel",
      "state": {
       "description": "L_L",
       "layout": "IPY_MODEL_51c8ac8cb50c45a39cf6e8d42210206a",
       "max": 0,
       "min": -5,
       "step": 0.1,
       "style": "IPY_MODEL_ab54b11b9e744b14a5dbd8bc302b1ff1"
      }
     },
     "05740e7176334614b892fa882b00f189": {
      "model_module": "@jupyter-widgets/controls",
      "model_module_version": "1.5.0",
      "model_name": "SliderStyleModel",
      "state": {
       "description_width": ""
      }
     },
     "0776996b13c2402b9939f1032c1daba7": {
      "model_module": "@jupyter-widgets/base",
      "model_module_version": "1.2.0",
      "model_name": "LayoutModel",
      "state": {}
     },
     "087ec23bde8547a4b18fc5e12548ef82": {
      "model_module": "@jupyter-widgets/controls",
      "model_module_version": "1.5.0",
      "model_name": "FloatSliderModel",
      "state": {
       "description": "L_U",
       "layout": "IPY_MODEL_7930632f61854a03b312953e1ef24b89",
       "max": 5,
       "step": 0.1,
       "style": "IPY_MODEL_a581cd6d585949d7a6277525597a8bca",
       "value": 1
      }
     },
     "08ee25c619314d35a956ae61373b158e": {
      "model_module": "@jupyter-widgets/controls",
      "model_module_version": "1.5.0",
      "model_name": "FloatSliderModel",
      "state": {
       "description": "L_L",
       "layout": "IPY_MODEL_51d4913a5c22416dbc46d244de9ebd1a",
       "max": 0,
       "min": -5,
       "step": 0.1,
       "style": "IPY_MODEL_6a7fec68598046f69e8ccfd2f97710f5"
      }
     },
     "096a4d34cffc4660a0556bee189074fa": {
      "model_module": "@jupyter-widgets/base",
      "model_module_version": "1.2.0",
      "model_name": "LayoutModel",
      "state": {}
     },
     "09ebd883fbd54c3dbee66d3c691c86d8": {
      "model_module": "@jupyter-widgets/base",
      "model_module_version": "1.2.0",
      "model_name": "LayoutModel",
      "state": {}
     },
     "0b534dca1ccc4cc6a3ab4fe10025ae76": {
      "model_module": "@jupyter-widgets/base",
      "model_module_version": "1.2.0",
      "model_name": "LayoutModel",
      "state": {}
     },
     "1077446e572c447aa6a4d59231af1f11": {
      "model_module": "@jupyter-widgets/controls",
      "model_module_version": "1.5.0",
      "model_name": "FloatSliderModel",
      "state": {
       "description": "L_U",
       "layout": "IPY_MODEL_2c8b8419786246cbac92481223d674b9",
       "max": 5,
       "step": 0.1,
       "style": "IPY_MODEL_8a6112423eb34615a340ee6fa4262b46",
       "value": 1
      }
     },
     "110ea236b0c445dba4728402f297788f": {
      "model_module": "@jupyter-widgets/base",
      "model_module_version": "1.2.0",
      "model_name": "LayoutModel",
      "state": {}
     },
     "1afafc85b2064a6f857b8cb83d5059ee": {
      "model_module": "@jupyter-widgets/base",
      "model_module_version": "1.2.0",
      "model_name": "LayoutModel",
      "state": {}
     },
     "1e1946fa81eb4f189e76c9ebd8bde56c": {
      "model_module": "@jupyter-widgets/output",
      "model_module_version": "1.0.0",
      "model_name": "OutputModel",
      "state": {
       "layout": "IPY_MODEL_ff1b589551e74eafb1e2e9baa467aa59",
       "outputs": [
        {
         "data": {
          "image/png": "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\n",
          "text/plain": "<Figure size 1152x432 with 1 Axes>"
         },
         "metadata": {
          "needs_background": "light"
         },
         "output_type": "display_data"
        }
       ]
      }
     },
     "1e995a4641ea455a9fbe0b21e6106772": {
      "model_module": "@jupyter-widgets/controls",
      "model_module_version": "1.5.0",
      "model_name": "VBoxModel",
      "state": {
       "_dom_classes": [
        "widget-interact"
       ],
       "children": [
        "IPY_MODEL_634df38a2ff945929f158093c5ab81e5",
        "IPY_MODEL_1077446e572c447aa6a4d59231af1f11",
        "IPY_MODEL_2a7acaafd7e5491c815f1667c906d4a8",
        "IPY_MODEL_40d688ec3ec84bb298d7650af90ac47c",
        "IPY_MODEL_25818e92619c4a19a7ee8d3c718afb7d",
        "IPY_MODEL_25dac40a411642388d0b2949c0fd9c7a"
       ],
       "layout": "IPY_MODEL_669f038468da4a2bbea73bd81bf84b04"
      }
     },
     "1eb9f525795b498487cf1bdc9d52333e": {
      "model_module": "@jupyter-widgets/controls",
      "model_module_version": "1.5.0",
      "model_name": "SliderStyleModel",
      "state": {
       "description_width": ""
      }
     },
     "1efffc3cea904aed843b98decf90069c": {
      "model_module": "@jupyter-widgets/controls",
      "model_module_version": "1.5.0",
      "model_name": "FloatSliderModel",
      "state": {
       "description": "L_L",
       "layout": "IPY_MODEL_2d6c0dea43b646a7868fe188e5549d18",
       "max": 0,
       "min": -5,
       "step": 0.1,
       "style": "IPY_MODEL_6923ff306a3142728dbfa69a7467db98"
      }
     },
     "22137513e0154ea6bc072609d9a92111": {
      "model_module": "@jupyter-widgets/base",
      "model_module_version": "1.2.0",
      "model_name": "LayoutModel",
      "state": {}
     },
     "2325efb46ade49108817226fc6a9a1f0": {
      "model_module": "@jupyter-widgets/controls",
      "model_module_version": "1.5.0",
      "model_name": "FloatSliderModel",
      "state": {
       "description": "L_U",
       "layout": "IPY_MODEL_941280f1229d4f78bd0d2795845dce8a",
       "max": 5,
       "step": 0.1,
       "style": "IPY_MODEL_61f6793c1a95445f8c8cabce58132307",
       "value": 1
      }
     },
     "2486cc39c54149b3a671c5fbb14e08fb": {
      "model_module": "@jupyter-widgets/base",
      "model_module_version": "1.2.0",
      "model_name": "LayoutModel",
      "state": {}
     },
     "2563875e10a341689295ad195ed86651": {
      "model_module": "@jupyter-widgets/controls",
      "model_module_version": "1.5.0",
      "model_name": "FloatSliderModel",
      "state": {
       "description": "c",
       "layout": "IPY_MODEL_7c7be9f709854e3995d12500eae022cc",
       "max": 2,
       "min": -2,
       "step": 0.1,
       "style": "IPY_MODEL_480f52bf62b24d0588a59e2b3728716f",
       "value": 1
      }
     },
     "25779dea8df04f55a5bce3398ad06367": {
      "model_module": "@jupyter-widgets/base",
      "model_module_version": "1.2.0",
      "model_name": "LayoutModel",
      "state": {}
     },
     "25818e92619c4a19a7ee8d3c718afb7d": {
      "model_module": "@jupyter-widgets/controls",
      "model_module_version": "1.5.0",
      "model_name": "FloatSliderModel",
      "state": {
       "description": "c",
       "layout": "IPY_MODEL_3ae18cb728fa4e229937f7331a2c369f",
       "max": 2,
       "min": -2,
       "step": 0.1,
       "style": "IPY_MODEL_fc39fcb8fe0a4456b49ebe1d8e80c8c4",
       "value": 1
      }
     },
     "25dac40a411642388d0b2949c0fd9c7a": {
      "model_module": "@jupyter-widgets/output",
      "model_module_version": "1.0.0",
      "model_name": "OutputModel",
      "state": {
       "layout": "IPY_MODEL_e24feecb859e4a8bb5f5a588dc9ed4eb",
       "outputs": [
        {
         "data": {
          "image/png": "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\n",
          "text/plain": "<Figure size 1152x432 with 1 Axes>"
         },
         "metadata": {
          "needs_background": "light"
         },
         "output_type": "display_data"
        }
       ]
      }
     },
     "294731c323e744db9e4f452cf3934073": {
      "model_module": "@jupyter-widgets/base",
      "model_module_version": "1.2.0",
      "model_name": "LayoutModel",
      "state": {}
     },
     "2a7acaafd7e5491c815f1667c906d4a8": {
      "model_module": "@jupyter-widgets/controls",
      "model_module_version": "1.5.0",
      "model_name": "FloatSliderModel",
      "state": {
       "description": "a",
       "layout": "IPY_MODEL_60b0982b33cb4c29b94afec498f108e2",
       "max": 5,
       "min": -5,
       "step": 0.1,
       "style": "IPY_MODEL_40014a153fc942cc8adfe659bf91bbcc"
      }
     },
     "2c5e44ed5b714f01949b6dd6c5f58b2d": {
      "model_module": "@jupyter-widgets/base",
      "model_module_version": "1.2.0",
      "model_name": "LayoutModel",
      "state": {}
     },
     "2c8b8419786246cbac92481223d674b9": {
      "model_module": "@jupyter-widgets/base",
      "model_module_version": "1.2.0",
      "model_name": "LayoutModel",
      "state": {}
     },
     "2d6c0dea43b646a7868fe188e5549d18": {
      "model_module": "@jupyter-widgets/base",
      "model_module_version": "1.2.0",
      "model_name": "LayoutModel",
      "state": {}
     },
     "2ee58955357d4f458e76f09fb95b5899": {
      "model_module": "@jupyter-widgets/controls",
      "model_module_version": "1.5.0",
      "model_name": "SliderStyleModel",
      "state": {
       "description_width": ""
      }
     },
     "313d27a464954e9ebed18e5b3782c47d": {
      "model_module": "@jupyter-widgets/controls",
      "model_module_version": "1.5.0",
      "model_name": "FloatSliderModel",
      "state": {
       "description": "L_U",
       "layout": "IPY_MODEL_e10fec79a85744e086d81c09cd484400",
       "max": 5,
       "step": 0.1,
       "style": "IPY_MODEL_49201be9ead64948b0c44d66727abca4",
       "value": 1
      }
     },
     "32e0ed06105449a0b7b79e4afb788d22": {
      "model_module": "@jupyter-widgets/base",
      "model_module_version": "1.2.0",
      "model_name": "LayoutModel",
      "state": {}
     },
     "32e1124b4535406aa3f22e15cc7f66b7": {
      "model_module": "@jupyter-widgets/controls",
      "model_module_version": "1.5.0",
      "model_name": "VBoxModel",
      "state": {
       "_dom_classes": [
        "widget-interact"
       ],
       "children": [
        "IPY_MODEL_08ee25c619314d35a956ae61373b158e",
        "IPY_MODEL_087ec23bde8547a4b18fc5e12548ef82",
        "IPY_MODEL_5d36a2e8dafb42f3844e52c91ae05d04",
        "IPY_MODEL_7bff2b08aaf54b2ca203ebd86fef92ab",
        "IPY_MODEL_68c7d97b691346e991342fd0cb6918a6",
        "IPY_MODEL_1e1946fa81eb4f189e76c9ebd8bde56c"
       ],
       "layout": "IPY_MODEL_8eab72167d9f4cd5a3161551c6b49772"
      }
     },
     "32f3263944834a38981ae25d69727003": {
      "model_module": "@jupyter-widgets/controls",
      "model_module_version": "1.5.0",
      "model_name": "SliderStyleModel",
      "state": {
       "description_width": ""
      }
     },
     "33f199c4547343169b51b519df88e71a": {
      "model_module": "@jupyter-widgets/base",
      "model_module_version": "1.2.0",
      "model_name": "LayoutModel",
      "state": {}
     },
     "343bb812786c4167930eaad7f136c21c": {
      "model_module": "@jupyter-widgets/controls",
      "model_module_version": "1.5.0",
      "model_name": "FloatSliderModel",
      "state": {
       "description": "L_U",
       "layout": "IPY_MODEL_0b534dca1ccc4cc6a3ab4fe10025ae76",
       "max": 5,
       "step": 0.1,
       "style": "IPY_MODEL_f1b645693f4b4cee8f31a4562af6fdcd",
       "value": 1
      }
     },
     "3637887fde3b46b89fd5a3d5bc7176dc": {
      "model_module": "@jupyter-widgets/controls",
      "model_module_version": "1.5.0",
      "model_name": "SliderStyleModel",
      "state": {
       "description_width": ""
      }
     },
     "365ea85db3d7488ba9bd49f61861af9e": {
      "model_module": "@jupyter-widgets/controls",
      "model_module_version": "1.5.0",
      "model_name": "VBoxModel",
      "state": {
       "_dom_classes": [
        "widget-interact"
       ],
       "children": [
        "IPY_MODEL_3f61845ba4074cd8ad3c552f74d5a6ee",
        "IPY_MODEL_bdcf978361bc41e48ad40fdf30eed17b",
        "IPY_MODEL_d2e824bb9c9b4aefb1f9142a2930fc46",
        "IPY_MODEL_dadd7b6cbd9748818e92bbcb82e9a18e",
        "IPY_MODEL_834e9bff56584102887ef5115cc6043c",
        "IPY_MODEL_cca9c66cce32465782ab67fc7612d30a"
       ],
       "layout": "IPY_MODEL_a1a07a80cb7e44b284c06d6f282f62eb"
      }
     },
     "37ceb65f48a7499d823c02553f70cc29": {
      "model_module": "@jupyter-widgets/base",
      "model_module_version": "1.2.0",
      "model_name": "LayoutModel",
      "state": {}
     },
     "39a35e294d104a02aef072a2e948b71c": {
      "model_module": "@jupyter-widgets/controls",
      "model_module_version": "1.5.0",
      "model_name": "SliderStyleModel",
      "state": {
       "description_width": ""
      }
     },
     "3a52134a639f4cb6a12560363f953c09": {
      "model_module": "@jupyter-widgets/output",
      "model_module_version": "1.0.0",
      "model_name": "OutputModel",
      "state": {
       "layout": "IPY_MODEL_09ebd883fbd54c3dbee66d3c691c86d8",
       "outputs": [
        {
         "data": {
          "image/png": "iVBORw0KGgoAAAANSUhEUgAAA7AAAAFpCAYAAAClE8QMAAAABHNCSVQICAgIfAhkiAAAAAlwSFlzAAALEgAACxIB0t1+/AAAADh0RVh0U29mdHdhcmUAbWF0cGxvdGxpYiB2ZXJzaW9uMy4xLjEsIGh0dHA6Ly9tYXRwbG90bGliLm9yZy8QZhcZAAAgAElEQVR4nOzdd3hW5f3H8fedDSTMsPdQRMKSKCIq1DpA6wItiFBFLWrx12rdbVEQW6nirFrBgQNkyBIUsCJDUFQIIwkbwkgIAZJAIHs89++PEyBhifIk5yR8Xtd1rvv5nvkBH4FvzjLWWkRERERERES8LsDtACIiIiIiIiJnQg2siIiIiIiIVAhqYEVERERERKRCUAMrIiIiIiIiFYIaWBEREREREakQ1MCKiIiIiIhIheCXBtYY84ExZp8xJv4Uy3sZYzKMMWuKp2dKLOttjNlkjNlqjHnKH3lERERERESk8jH+eA+sMeZKIBP42FobdZLlvYDHrLW/O25+ILAZuAZIAlYAd1hr1591KBEREREREalU/HIG1lr7LZD+Kza9BNhqrU2w1uYDk4Gb/ZFJREREREREKpfyvAe2uzFmrTFmnjGmffG8xkBiiXWSiueJiIiIiIiIlBJUTsdZBTS31mYaY64HZgHnAeYk6570mmZjzFBgKEC1atW6XnDBBWWVVURExDt8PmcM0HMXRUTk3BETE5Nqra17/PxyaWCttYdKfJ5rjHnbGBOJc8a1aYlVmwDJp9jHOGAcQHR0tF25cmUZJhYRERERERG3GGN2nmx+ufw41xjTwBhjij9fUnzcNJyHNp1njGlpjAkBBgCzyyOTiIhIhTBhgjOJiIiIf87AGmMmAb2ASGNMEvAsEAxgrX0HuA140BhTCOQAA6zz+ONCY8xDwFdAIPCBtXadPzKJiIhUCu+954yDBrmbQ0RExAP88hqd8qZLiEVE5JxRUOCMwcHu5hARESlHxpgYa2308fPL6yFOIiIi8muocRURETlKjzQUERHxsg8/dCYRERFRAysiIuJpamBFRESO0iXEIiIiXrZ4sdsJREREPENnYEVERERERKRCUAMrIiLiZe++60wiIiKiBlZERMTTpkxxJhEREdE9sCIiIp62YIHbCURERDxDZ2BFRERERESkQlADKyIi4mVvv+1MIiIiogZWRETE0+bMcSYRERHRPbAiIiKeNm+e2wlEREQ8Q2dgRUREREREpEJQAysiIuJlr7/uTCIiIqIGVkRExNO++caZRERERPfAioiIeNrs2W4nEBER8QydgRUREREREZEKQQ2siIiIl40Z40wiIiKiS4hFREQ8bflytxOIiIh4hhpYERERL5s+3e0EIiIinqFLiEVERERERKRCUAMrIiLiZaNHO5OIiIjoEmIRERFPW7PG7QQiIiKeoQZWRETEyyZPdjuBiIiIZ+gSYhEREREREakQ1MCKiIh42ahRziQiIiK6hFhERMTTNm1yO4GIiIhnqIEVERHxsgkT3E4gIiLiGbqEWERERERERCoENbAiIiJe9swzziQiIiK6hFhERMTTEhPdTiAiIuIZamBFRES8bPx4txOIiIh4hl8uITbGfGCM2WeMiT/F8juNMbHF0/fGmE4llu0wxsQZY9YYY1b6I4+IiIiIiIhUPv66B/ZDoPdplm8HelprOwKjgHHHLf+NtbaztTbaT3lEREQqh6efdiYRERHxzyXE1tpvjTEtTrP8+xLlD0ATfxxXRESk0ktLczuBiIiIZ7hxD+y9wLwStQX+Z4yxwFhr7fFnZwEwxgwFhgI0a9aszEOKiIh4wriT/rUoIiJyTirXBtYY8xucBvbyErN7WGuTjTH1gK+NMRuttd8ev21xYzsOIDo62pZLYBEREREREfGMcnsPrDGmI/AecLO19uj1UNba5OJxHzATuKS8MomIiHjeY485k4iIiJRPA2uMaQbMAAZbazeXmF/NGBNx5DNwLXDSJxmLiIick3JynElERET8cwmxMWYS0AuINMYkAc8CwQDW2neAZ4A6wNvGGIDC4icO1wdmFs8LAj611s73RyYREZFK4a233E4gIiLiGf56CvEdP7P8PuC+k8xPADqduIWIiIiIiIhIaeV2D6yIiIj8Cg8/7EwiIiKiBlZEREREREQqBjfeAysiIiJn6rXX3E4gIiLiGToDKyIiIiIiIhWCGlgREREvGzbMmURERESXEIuIiHhalSpuJxAREfEMNbAiIiJeNmaM2wlEREQ8Q5cQi4iIiIiISIWgBlZERMTLhg51JhEREdElxCIiIp5Wp47bCURERDxDDayIiIiXvfCC2wlEREQ8Q5cQi4iIiIiISIWgBlZERMTLhgxxJhEREdElxCIiIp7WtKnbCURERDxDDayIiIiXPfec2wlEREQ8Q5cQi4iIiIiISIWgBlZERMTLBg1yJhEREdElxCIiIp7Wtq3bCURERDxDDayIiIiXDR/udgIRERHP0CXEIiIiIiIiUiGogRUREfGyAQOcSURERHQJsYiIiKd17ux2AhEREc9QAysiIuJlTz3ldgIRERHP0CXEIiIiIiIiUiGogRUREfGyfv2cSURERHQJsYiIiKd17+52AhEREc9QAysiIuJljz3mdgIRERHP0CXEIiIiIiIiUiGogRUREfGym25yJhEREdElxCIiIp7229+6nUBERMQz1MCKiIh42V/+4nYCERERz9AlxCIiIiIiIlIh+KWBNcZ8YIzZZ4yJP8VyY4x5wxiz1RgTa4y5qMSyu4wxW4qnu/yRR0REpNLo08eZRERExG+XEH8IvAl8fIrlfYDziqduwH+BbsaY2sCzQDRggRhjzGxr7QE/5RIREanYbrzR7QQiIiKeEThixIiz3smIESN2jhw5MhQYOGLEiLePXz5y5MjHgM+ttXEjRoxIGjly5OMjR46cDlwN+Ky1n40YMSJ35MiRFwJBI0aMOOmZ3COe+uerI1pdcTPtG9WgoMjHwHd/ICjQ0K5hdXLyixj03o+EBQfStkEEh3IL+MP7PxERFkSbehGkZ+Vz9/ifqFU1hFZ1w9l3OJd7PlxB3YhQWkRWI/lgDvd9tJKGNarQrE5VdqVlM/STlTStXZUmtaqybX8mD06IoVXdajSqWYVNKYcZNnEV59ePoEGNMNYlZ/B/n67mwkbVqRcRxtrEg/xl8mo6NqlJZHgoMTvTeWTKGi5qXova1UL4ISGNR6eupVvLOtSoGsyyLak8Pm0tPdpEEhEWzOJN+3hyeiw929alWmgQC9bv5ekZcfy2XX2qhAQyP34Pf58Zz3VRDQgNCmTO2mSe+Tye33VsRHBgADNXJzFi9jpu6dKYwADDZysTeW7Oem6PbgrApJ92MXreBvpd1ASAT5bv4JWvN3Nrl8YAfLBsO28t2spNnZ163LfbePfb7fyuUyMA3l68lY++38H1HRoC8MY3W5j00y56Rzn1K//bxPRVu7m2fQMA/j1/I1/GJnN1u/oA/PPL9Xy9fi9XXVDP+a7MWceSzfvp1daph8+KZ/m2VK48vy4AT8+IJWbnAS5vEwnAY5+tJX53Bt1bO/XDk1ezeW8m3VrVAeChT1exIy2Li1vUBuCBT2JIzsiha3Onvu+jFaRm5tOlWS0A7vrgJzJzC+jUtCYAd773A/mFPjo0rgFA/7HLAfTd03dP3z1998rvu5cYSky9NvruleV3r1EgEV8/xuKCC3ly1iZ99/Tnnqt/7lUNCeTr4u/e5W0iMcYwJzaZ4bPi6dayNvlFPmau3s2zn6+ja/NaZOUVMWXlLp6bs54uTWuQllXApz/u4vkv19OxSU1SDuXy4fc7+Pe8jZxfP5ykAzm8vyyBV77eTPPaVdmZls3Yb7fxn4VbqV8jjO2pmby9aBvvLNlGraohbNmXyZsLt/Du0u2EhwaxKeUwr3+zhQ++205oUAAbUg7xyteb+WT5DgKMIT45gzFfbeLTH3dS5LPE7c7g3/M2MmVFInmFPtYmZTB67gamxSSRlVfEml0HeH7uBmauSuJQTiGrdh1k1Jz1zF6bzIHsfGJ2HmDk7HV8EZdM6uE8Vu48wLOz1zEvLoWUQ7ms2JHO8Fnx/G9dCskZufy0PY2/z4xnwfq9JB3I4cft6Tw9I46FG/exKy2bHxPSeXJ6LN9u3s+OtCyWb0vjiWlr+W5rKtv2Z7E8IY3HPlvD8m1pbNmXybItqTwxbS0/bEtn897DLN7s/Lf6MSGdjSmHWLhxL09Pj+OnHels2HOIBev38rcZcazceYB1yYf4el0Kf5sZx6pdB4nbncH8+BT+PiuO1YkHiE3KYG7cHobPimdt4kHWJh7ki7XJPPP5OuKSMlideJDP1yTz7Ox1xCdnsGrXQWauSmLEnPWsT85g5c4DTI9JYuSc9axPPsSKHelH/9zZuOcQP21PZ8qKXYz6YgOb9h7mx4R0Jv20i+e/2MCWfZn8kJDGpz/u5J9fbmDb/kyWb0tjwvKd/GvuBranZvH9tjQ+/n4HL8zdyM60bJZtSWX8d9sZPW8ju9KyWbollfeXbeff8zeSlJ7Dt1tSeXfpNl6cv5HdB3NYsnk/475NYMz/Nh2t31myjVe/3kLSgWyWbN7P24u38cY3W0gsrt9ctJW3Fm1lV3o2iye9vWfEiBHjOE55PcSpMZBYok4qnneq+ScwxgwFhgKEN2xdNilFRETk3FKYB1MGQdY6qNMfqOJ2IvEjn7Vk5RVyICuf/EIfKRm5bNhziKQDORzOLSR+dwb5RUUkpeeQlpnHok372Lovk+SDOezJyGFaTBJLNqeSkpHDzrRsxn27jRpVQ9h/KJet+zJ5Yd5GqoUEkp6Zz+Z9mTw5fS0hQYEczM5n94Echn68kqCAAA7nFpCWlc/vx36PMYbs/CKy8gq59tUlWAv5RT4KiyyX/usbfPZY/u6jF5b69fQas7hUfc2r35aqe7++rFT9u/+Urm97Z3mpeuB7P5aqh4xfUaoe+klMqTpm54HT1it2lK5/Oq7+cXt6qfqHhNL18uPq77ellaq/21q6XrY19ejnjSmH+XbLsXrLvsxSdUJqFks27z9a70zLZtGmY3XigRy+2bjvaL37YK5TW+cy0eSDuSzctA9rLT4LKRm5LNx4rN57+Fhd5IN9h/cSYAzWWgp9lv+tSyEgoLgusnwVv5fA4rqgyDJ/XQqBAQZfcT0vfk/x+lBQ5GNerLO9s9zH3DinLvI59by4PUfr/CIfX8btIcCUqGOdutDnI7/Qx5y1yaXqz9cU10U+8ot8zFq9G1OinrEq6WhdUKIuKK6nxSQeVycBkF/oo9Bnf1FdVKI+GWOtPeXCX8IY0wL4wlobdZJlXwIvWGuXFdffAE8AVwGh1trni+cPB7KttS+f7ljR0dF25cqVfsktIiLiaVdf7YwLFribozLatxE+uRXys2DgZGh+mduJzknWWnIKisjMKyQrz2nsnM+FpeZl5ReSk19EdvGUW1BEdn4h2flF5BQUkVM85hb4yCsoIrewiIIi//w7NzjQEBwYcHQKCTQEBQYQFGgIDnDGoMAAggIMQQHOukGBprgOILD4c2DAkTHgaH1kCjDOsoAAQ6AxBAZAQPH6AcaZAouXBxgINEc+F69rSq4H5mhdvCzAYIDA4tEcWXZcfXTEYAyY4u2PjlA8/9h2R+YFGAMnLC+xL4Dj6pLrOYudBcfqY+tQYn+U2Ibjti+5LcXbl6xP3LbkEvEKY0yMtTb6+PnldQY2CWhaom4CJBfP73Xc/MXllElERMT7+vd3O0HllPgTTLwdgsJgyFxocMLP3+UXONKEHsgu4EBWPgey849+zsgp4FBOAYdyCziUU8jhPGd06gIO5RZS5DuzRjMsOIAqwYFUDQmiSkggVUMCCQsOpHa1EKrWcj6HBQcSFhRIaHAAYUGBhAUHEBYcSGjQsTE0OICQwEBCggKcKfDIvABCg4qb1KAjDatRgyPiIeXVwM4GHjLGTMZ5iFOGtXaPMeYr4F/GmFrF610LPF1OmURERLzvj390O0Hls+VrmDIYqjeEwTOhVgu3E3lSkc+SlpVH6uF8UjPz2H84j9TMvBKf80nLyj/asOYV+k65ryrBgVSvEkT1sGCqVwkmMjyEVnWrFddBRIQFUy00iPDQQKqFBBEeGkS14ik8NIjwsCCqBgcSEKBGUuRc55cG1hgzCedMaqQxJgnnycLBANbad4C5wPXAViAbGFK8LN0YMwo4csH9c9ba0he/i4iIiPjL2inw+Z+gfnu4czqE13U7kSsKinzsPZTLnozi6WAOezJyScnIZU+G8zk1M4+TnRgNDQqgbkQodSNCaVwzjKhG1alVLYSaVYOpXTWEmlVDqFU1mNrVnM81qgQTEuSXNzeKiPjvHtjypHtgRUTknNGrlzMuXuxmisph+Vvw1d+g5ZXQfyKEVXc7UZmx1pKamc+u9GwS07PZdWRKc8a9h3M5/p+A1UICaVizCg1rhNGwRhj1q4dRNyKUyHBncj6HEB4apEtqRaTMuX0PrIiIiPwad9/tdoKKz1r4ZiQsexUuvBn6vgtBoW6n8ovs/EIS9mexdV8mW/dlsmXfYXYWN6nZ+UWl1m1QPYxmtavSo00kTWpVoVHNMBrUONawRoQFu/SrEBE5c2pgRUREvEwN7NkpKoQv/gKrJ0DXIXDDyxAQ6HaqXywnv4gNKYfYnHK4uFF1GtbdB3OOrhMYYGhepyqtIqtxWetImtV23nHarPjdpmHBFe/XLSJyPDWwIiIiXlZQ4IzBOjv2ixXkwLR7YdOX0PNJ6PV06XdneFRGdgHrkjNYl3yIdckZxCcfImF/5tH7UcOCA2gVGU7X5rXof3FT2tQLp029cFrUqaZ7TUWk0lMDKyIi4mXXXOOMugf2l8k5CJPugF3Loc9L0G2o24lOKregiLWJB1m58wCxSQdZl3yIpAPHzqo2rBFG+0bVub5DQ6IaVeeCBtVpUquKnsYrIucsNbAiIiJedt99bieoeA6nwIR+sH8T9HsPOtzmdqKj9h3OJWbHAVbudKZ1uzMoLD612qJOVTo1rcnAbs2IalSD9o2qUye8ctyrKyLiL2pgRUREvGzQILcTVCxp2+CTWyErFe6cCq2vcjXO7oM5LN28n5+2p7Ny5wF2pWcDzqtoOjWpyR+vbEV081pc1KwWtaqFuJpVRKQiUAMrIiLiZdlOw0PVqu7mqAj2rHXOvPqK4O450LhruUfIyivkh4Q0lm5J5dst+0nYnwVAZHgIXZvXYvClzenaohZRjWroflURkV9BDayIiIiXXX+9M+oe2NPbvtS557VKTRg0A+qeXy6HLfJZ1iVnOA3r5v2s2nWAgiJLWHAAl7aqw53dmnPleZG0qReud6eKiPiBGlgREREve/BBtxN43/rZMP1eqN3KaV5rNC7Tw+UX+liekMb8+BS+Xp9CamY+AO0bVefey1tx5XmRdG1Ri9AgvbZGRMTf1MCKiIh4Wf/+bifwtpgP4YtHoHE0DJwCVWuXyWFyC4r4dvN+5sensGDDXg7lFlItJJDfXFCPq9vV5/LzIonUA5dERMqcGlgREREvy8hwxho13M3hNdbC0jGw8Hk471q4/SMI8e99wpl5hSzauI/58Sks2rSP7PwialQJ5poLG9AnqgGXnxdJWLDOsoqIlCc1sCIiIl52883OqHtgj/H54Kun4cd3oGN/uPktCAz2064tP2xPY9rKJObFp5BTUERkeAi3dGlMn6gGXNqqDsGBeviSiIhb1MCKiIh42Z//7HYCbynMh1kPQvw06P4QXDMKAs6+oUxMz2ZaTBLTVyWRdCCHiNAgbunSmFu7NKZr81oEBugBTCIiXqAGVkRExMv69nU7gXfkZcLUwbBtIVw9Enr8Bc7iyb7Z+YXMi0thWkwSyxPSMAZ6tI7k8evacl37Bro8WETEg9TAioiIeFlqqjNGRrqbw21ZafDp7ZC8Gm56Ey4a/Kt3tXnvYcZ/t4M5a5PJzCukeZ2qPHrN+fTt2oTGNav4MbSIiPibGlgREREvu+02ZzyX74E9mAgT+sLBXdB/Alxwwy/ehc9nWbJlPx8s287SLamEBgVwY6dG3N61CZe0rK13tIqIVBBqYEVERLzs0UfdTuCufRud5jUv03nHa4sev2jznPwipq9KYvx329m2P4t6EaE8fl1b7rikGbWrhZRRaBERKStqYEVERLzsxhvdTuCexBXOZcOBITDkS2jQ4Yw33ZORw8fLd/Lpj7vIyCmgQ+MavNa/M9d3aEhIkJ4iLCJSUamBFRER8bKUFGds0MDdHOVtywLngU3h9WHwTKjd8ow227Y/kzcXbmXO2mR81nJd+wbcc3lLopvX0mXCIiKVgBpYERERLxswwBnPpXtgY6c6r8qpdyEMmg7h9X52k+2pWbzxzRY+X7ObsOBA7rqsBXdf1oKmtauWQ2ARESkvamBFRES87Kmn3E5Qvn74L8x/ClpcAQM+hbDqp119Z1oWb3yzlZmrkwgJCuCPV7Ri6JWtqBMeWk6BRUSkPKmBFRER8bLevd1OUD6shYWjYOnL0O5G6PseBIedcvXE9Gz+s3AL01ftJijAcE+PltzfszV1I9S4iohUZmpgRUREvCwx0RmbNnU3R1kqKoQvH4FVH0PXu+GGVyAg8KSrJh3I5s2FW5kWk0RAgOEP3ZvzYM/W1Kt+6mZXREQqDzWwIiIiXjZ4sDNW1ntgC3Jh+r2w8Qu48gn4zd/gJA9byswr5O1FW3lv6XYA7uzWjAd7taFBDTWuIiLnEjWwIiIiXvaPf7idoOzkZsCkgbBzGfR5Ebrdf8IqPp9l+qokXvxqE/sP59G3S2Meu64tjWpWcSGwiIi4TQ2siIiIl119tdsJysbhvTChH+zfCP3ehw63nbDKyh3pPPfFemKTMujctCbjBnelS7NaLoQVERGvUAMrIiLiZQkJztiqlbs5/Ck9AT65FTL3w8Ap0Oa3pRbvPpjD6HkbmbM2mfrVQ3m1fydu7tSYgAC9x1VE5FxXaRrYgoICkpKSyM3NdTtKhRAWFkaTJk0IDg52O4qIiJzOPfc4Y2W5B3ZPrHPm1VcId82GJtFHF+XkF/HOkm2M/XYb1sKfr2rDA71aUzWk0vxzRUREzlKl+RshKSmJiIgIWrRogTnJwx/kGGstaWlpJCUl0bJlS7fjiIjI6Ywc6XYC/9mxDCbdAaHV4e4voG7bo4sWbdrHP2bGs/tgDr/r2JCn+lxAk1pVXQwrIiJeVGka2NzcXDWvZ8gYQ506ddi/f7/bUURE5Of07Ol2Av/YMAem3Qu1WsDgGVCjCQDpWfmM+mI9M1fvpk29cKbe351LWtZ2N6uIiHhWpWlgATWvv4B+r0REKohNm5yxbdvTr+dlMR/BFw9D464wcCpUrY21ltlrkxk5Zz2Hcgr482/PY9hvWhMadPL3v4qIiEAla2BFREQqnfuLXy1TEe+BtRaWvQLfPAdtrobffwwh1Ug+mMPwWfF8s3EfnZrU4N9/7MYFDaq7nVZERCoAvzSwxpjewOtAIPCetXb0cctfBX5TXFYF6llraxYvKwLiipftstbe5I9MIiIilcK//uV2gl/H54Ov/gY//hc6/B5ueRufCWLiDzv597yNFPp8/OOGdgzp0ZJAPV1YRETO0Fk3sMaYQOAt4BogCVhhjJltrV1/ZB1r7SMl1v8/oEuJXeRYazufbQ6vSEpK4rvvvqN///5uR/FUFhER+ZUuu8ztBL9cYT58/ieI+wwu/RNc+08S0rJ5avpKftqRTo82dXjh1o40q6OHNImIyC8T4Id9XAJstdYmWGvzgcnAzadZ/w5gkh+O60nffPMNq1atcjsG4K0sIiLyK8XHO1NFkZ8Fk+9wmtffPou99p988lMifV5fysaUQ7x4W0cm3NtNzauIiPwq/mhgGwOJJeqk4nknMMY0B1oCC0vMDjPGrDTG/GCMueVUBzHGDC1eb6VXn567bNky/vrXvzJt2jQ6d+7MSy+9xKWXXkqnTp24/PLLSz3199Zbb+Uf//gHV1xxBQ0aNGDBggUAbNiwgSuvvJKOHTvy0ksv0aZNGwC2b9/OzTffTHR0NJdccgmbih/qcar9HJ9l+/bt5fy7ISIifvHQQ85UEWSnw0c3wbaFcOMbpHUZxh8/WcXwWfF0a1WHBX/tye+jm+pBgiIi8qv54x7Yk/0tZE+x7gBgmrW2qMS8ZtbaZGNMK2ChMSbOWrvthB1aOw4YBxAdHX2q/TvmPQUpcadd5Rdr0AH6jD7tKpdffjkXX3wxY8aMISoqirS0NB5//HEARo4cydSpUxk2bBgA8fHx9OjRg6VLlzJjxgwmTpxIr169uPPOO3n//ffp0qULDz74IFFRURQUFHDfffcxbtw4Wrduzdy5cxk9ejTjx48/6X6uvvrqE7KIiEgF9dJLbic4MxlJ8ElfOLADfv8JS4O68dfXl5KRXcDw313IkMtaEKB7XUVE5Cz5o4FNApqWqJsAyadYdwAwrOQMa21y8ZhgjFmMc3/sCQ1sRbFp0ybaFr/q4MMPP2TKlCnk5eWRkpLCv4ofxJGdnU1GRgaPPOLcGlxYWEjNmjWZMWMGnTp1oksX5xbhCy+8kHr16jFr1izWrVtHv379jq5/xRVXnHI/J8siIiIV1MUXu53g5+3fBJ/cCnmHyR84jRc3RPLesp84r144Hw25hAsb6QnDIiLiH/5oYFcA5xljWgK7cZrUgcevZIxpC9QClpeYVwvIttbmGWMigR7Ai2ed6GfOlJaVtLQ0atSoQXBwMB9//DE//fQTCxcuJDw8nCuvvJL27dsDsG7dOrp27UpgoPOuu9jYWKKiooiNjaVz52PPs4qPj6d3797ExMTwz3/+k3vvvbfU8VasWHHS/RyfRUREKrA1a5yxs0efd5i0EibeBgHB7Lr5Mx74ooD1e7Yz+NLm/P2GdoQF672uIiLiP2d9D6y1thB4CPgK2ABMtdauM8Y8Z4wp+UqcO4DJ1tqSl/+2A1YaY9YCi4DRJZ9eXNFs376dRo0aARAXF8dll11GeHg406dP5/vvv6dDhw6A05iWbFRjY2Pp2LEjderUYfPmzQCsWbOGCRMm0KlTJxo2bMhXX32Fz+c7um9r7Sn3c3wWERGpwB5+2Jm8aOsC+GIbFEgAACAASURBVOhGbFhNZnUdz7WTDpByKJf3/hDNqFui1LyKiIjf+eU9sNbaucDc4+Y9c1w94iTbfQ908EcGL7jgggtITU0lKiqKt99+myFDhjBt2jSuv/56WrVqRbVq1QCnAe3WrdvR7eLj44mKiqJly5bccMMNXHzxxXTv3p0WLVrQqlUr7rnnHhYtWkS7du2oUqUKUVFRTJgw4ZT7OT7LuHHjuKwivoZBRETgtdfcTnBycdNg5v0URbbjybBnmPa/DK44L5KXb+9EvephbqcTEZFKypQ+IVoxREdH25UrV5aat2HDBtq1a+dSIv/IzMwkPDwcgJdeeomMjAyef/75MjteZfg9ExERF/zwDsx/kqyGl3J7xv+x+WAAT/W5gHt6tNSDmkRExC+MMTHW2ujj5/vlDKz4x6uvvsrkyZMJDg6mR48evPLKK25HEhERt61Y4YxeeJiTtbDweVg6ht0NrqZP0h+oUiWMKfdfRNfmtd1OJyIi5wA1sB4yfPhwhg8f7nYMERHxkuLXsbF4sasx8BXBF4/Aqo9YUedG+u/ozyWtIvnPHRdRNyLU3WwiInLOUAMrIiLiZW++6XYCKMiFGffBhjlMrdqfJ3bfxP1Xtubx69oSFHjWz4MUERE5Y2pgRUREvKz44Xyuyc2AyXfCjqW8ZIbwUVYf3hnUkd5RDd3NJSIi5yQ1sCIiIl72/ffO6MbT5DP3YSf0xbd3PY8WDGNdnev4fHBXWtcNL/8sIiIiqIEVERHxtr/9zRnL+x7Y9O34Pr6Vgow9DM17jOod+jCrbweqheqfDiIi4h79LSQiIuJlY8eW/zFT4ij6uC9ZOTncnf93fnf9jQzp0QJj9IocERFxlxpYERERL2vbtnyPt2MZhRMHkFoQwv2M5LG7b+KK8+qWbwYREZFTUAMrIiLiZUuWOGPPnmV/rI1fUjT1bnYWRfJ0ted4ZUgf3e8qIiKeogZWRETEy5591hnL+B5YX8zHMOcvxPpa8U7jFxg3uBc1q4aU6TFFRER+KTWwfjZ27FhWr17NO++843YUERGpDD74oGz3by15S14mdPEolhR1ZHHnl3nzlmiC9X5XERHxIDWwfhYbG0uHDh3cjiEiIpVFq1Zlt2+fj8OznyRizTg+L+rB4d6v82yP88rueCIiImdJP171s7i4ODp27Oh2DBERqSwWLHAmfysqIG3CECLWjGMCfag9eDyD1LyKiIjHVd4Gtlcv+PBD53NBgVNPmODU2dlOPWWKU2dkOPWMGU6dmurUc+Y4dUrKGR82Pj5eZ2BFRMR/nn/emfwpP4u9426lTsIs3g2+k0sffJcrzq/v32OIiIiUAV1C7EeJiYmEh4dTs2ZNt6OIiEhl8cknft2dzU5n3zs3EZkRzzs1/syAB4brYU0iIlJhVN4GtuTTGoODS9dVq5aua9QoXUdGlq4bNDijQx65/3X//v088cQTjBo1imeeeYaxY8cSHBz8y38NIiIiTZv6bVdFB5NIe+cGaubs5v1GI7n7nocICw702/5FRETKWuVtYF1w5P7XunXr0qxZMx599FHef/99Na8iIvLrzZ/vjL17n9VucpLXk/3+TVQpzGRau9e47/d3EhBg/BBQRESk/KiB9aO4uDhuuOEGMjMzSUhIICgoiPBwvQBeRETOwujRzngWDeyBzcsJnPR7fD7DksvGc+d1ffwUTkREpHypgfWjiRMnUlhYyNChQ3n++eeZOnUqixcvplevXm5HExGRimry5LPaPDnmS2rOuYdUW52d10/kd90u8VMwERGR8qcG1s+CgoL4oPil848//rjLaUREpMI7w+cwnEzCwg9p+u1fSaApBQOnckXbtn4MJiIiUv7UwIqIiHjZkVe63XjjL9ps3cwXabfmX8QFXkjt+6bTtFHDMggnIiJSvtTAioiIeNnLLzvjmTaw1rLm4yfovH0cP4Z15/wHp1CrZo2yyyciIlKO1MCKiIh42bRpZ7yqLSpk7dj76LxvJksj+nDxQx8RFhpahuFERETKlxpYERERL4uMPKPVCvOyWf/WADofWsKiuoO54v7XCQrSO15FRKRyUQMrIiLiZTNmOGPfvqdcJefwAXa8dQsdc9ewuOUj9PrDsxijd7yKiEjlowZWRETEy954wxlP0cAe3JdE+ribaFOwg2WdXqBX3z+VYzgREZHypQZWRETEyz7//JSL9u7cSMFHt9CwKI21l/+Xy6/pX47BREREyp8aWBERES+rcfInCO9Y/yPhU39PmC1g2/WfEt3tmnIOJiIiUv7UwIqIiHjZlCnO2P/Y2dUNP86n8bwh5FCFjP7Tibow2qVwIiIi5SvA7QCVzdixY3nggQfcjiEiIpXFf//rTMXWfP0pLecO4qCpRdGQ+bRW8yoiIucQvzSwxpjexphNxpitxpinTrL8bmPMfmPMmuLpvhLL7jLGbCme7vJHHjfFxsbSoUMHt2OIiEhlMXeuMwErZrxOh2V/YldwSyL+9A2Nmp/vcjgREZHyddaXEBtjAoG3gGuAJGCFMWa2tXb9catOsdY+dNy2tYFngWjAAjHF2x4421xuiYuLY8CAAW7HEBGRyqJqVazPx48fD+fShDeIrdKV1sNmUC2iptvJREREyp0/zsBeAmy11iZYa/OBycDNZ7jtdcDX1tr04qb1a6C3HzJBr17w4YfO54ICp54wwamzs536yH1FGRlOfeRde6mpTj1njlOnpJzxYePj43UGVkRE/Mb38cdsu+dqLk14g5iIq7jgkblqXkVE5Jzljwa2MZBYok4qnne8fsaYWGPMNGNM01+4bWmbNp3YnGZmOnVRkbO8sNCpCwtL1wUFsHlz6XrLlmN1fj5s3ersByAvz6kPH3bq3Fxnf0eOl5Pj1FlZJCYmEl6tGjX37nWaZICsLGd5To5TZ2Y6dW6uUx8+7NR5eU596JBT5+c7dUaGUxcUOPXBg6XrAwdK//rS0536SP60NKf2+Zw6NdWpj3j3Xbj66mP1229Dnz7H6tdfh5tuOlaPGQP9+h2rR4+GkmecR42CQYOO1c88A0OGHKuffhqGDj1WP/YYDBt2rH74YWc6YtgwZ50jhg519nHEkCHOMY4YNMjJcMSAAU7GI/r1c34NR9x0k/NrPKJPH+f34Iirr3Z+j47w9w9GevWC+fOdOjHRqRcscOqEBKdessSpN21y6u+/d+r4eKdescKp16xx6jVrnHrFCqeOj3fq77936iP//ZcsceqEBKdesMCpE4v/l5w/36mP/ABnzhynTk116hkznDojw6mnTHHqI9/9CROc+sh39cMPnfoIfff03dN3z3Ga715Bfh6FDw2lzczF/Fj3Nro8PI2QBx7Ud0/fPYf+3NN3T989h757lfe7dxL+eAqxOck8e1w9B5hkrc0zxjwAfARcdYbbOgcxZigwFKBjaOjPp5o9G2rXdhq74GDnP0atWs5vbpUq8MUXULOmU0dEwJdfOq8qyM931vvyS6he3Wks69b9+eNRfP9r+/aMnz6dBu3a0fuWW7j3wQd569FHqXJGexAREXFkZx1iy5v96NTGR3L9i7nkwXcxAXr2ooiInNuMtSftF898B8Z0B0ZYa68rrp8GsNa+cIr1A4F0a20NY8wdQC9r7f3Fy8YCi621k053zOjoaLty5cpS8zZs2EC7du3O6tdytkaPHk1GRgb33XcfH3zwAS1btqRp06Zcd911ruY6FS/8nomIyIky0vay552bOS9/IyujhtPt9kfdjiQiIlKujDEx1toTHrXvjx/lrgDOM8a0NMaEAAOA2ccdvGGJ8iZgQ/Hnr4BrjTG1jDG1gGuL51VIcXFxdOjQgdatW7N69WrWrFnj2eZVRES8aW/SNtLfuppW+VuI7f4a3bLqHLuUTURE5Bx31pcQW2sLjTEP4TSegcAH1tp1xpjngJXW2tnAn40xNwGFQDpwd/G26caYUThNMMBz1tr0s83klokTJx79HBQUxDMlr9UXERH5GTs3rSF00m3UtZlsvvZDuvS48di9RHff7WY0ERERT/DHPbBYa+cCc4+b90yJz08DTx+/XfGyD4AP/JHDCzIyMvj73//OXXfdRb169dyOIyIiFcTGmMXUmzMISwApfacT1amHs2DxYldziYiIeIlfGlg5pkaNGrz55ptuxxARkQpk9eIZnL/oATICasKgmbRp3d7tSCIiIp6kxxmKiIi4aPnscbRfdB/7ghoRev8CGh3fvL77bunXO4iIiJzD1MCKiIi4wFrLtxP/RbeYJ0gIa0fdP39DnQbNTlxxypRj7xsUERE5x+kSYhERkXLmK/Lx7buP0ivlA+IietB22GeEVKl28pWPvOxeRERE1MCKiIiUp7z8fH566156ZcxmTZ0b6PjgRwQEBbsdS0REpEJQAysiIlJODmdmsv6tAVyRs5TVze6m892vYgJ+5m6et992xj/9qewDioiIeJzugRURESkH+9NSSXitD91ylhJ74eN0uef1n29eAebMcSYRERHRGVgREZGylrB9O/kf96W9bwfru79Ex95Dz3zjefPKLpiIiEgFowZWRESkDK1eu4baM/vTgnSSen/Ahd1vdTuSiIhIhaVLiP1s7NixDBs2zO0YIiLiAQuXLKLRjFuoRSYZt0+nxa9pXl9/3ZlEREREDay/xcbG0qFDB7djiIiIi6y1zJw1ja4LBxIUGIi5Zz7121/563b2zTfOJCIiIrqE2N/i4uIYOHCg2zFERMQlhUU+Jn0yltu3DycjpAE17/+C0MgWv36Hs2f7LZuIiEhFpwbWz+Lj44mKinI7hoiIuCArr5DJ40ZzV+rL7Au/gAYPzCYgoq7bsURERCqNSnsJcf+xy/lsZSIABUU++o9dzszVSQDk5BfRf+xy5qxNBuBQbgH9xy5nfvweANKz8uk/djkL1u8FYN/h3DM6ZmJiIhEREdSoUePovJycHPr373+0vuWWW87+FyciIp6z73AuU15/nHvTXmJfZDca/flr/zSvY8Y4k4iIiOgMrD+d7P7XtWvX0qVLFwDy8vIIDQ11I5qIiJShTXsyiHn//7in8HP2Nr2eRnd9CEF++vN++XL/7EdERKQSqLQN7JT7ux/9HBwYUKquEhJYqq4eFlyqrl0tpFRdLyLsjI4ZFxd3QgMbExPDxRdffMrlIiJSsS1an0TGlD8x0Cwh9cK7qH/baxDgxwucpk/3375EREQquEp7CbEb4uLiGDduHC1atKBFixZ0796drVu30rx5cwC++OILfvvb37qcUkRE/MFay/jF6/BNGsQtZgmHuz9B5O2v+7d5FRERkVIq7RlYN0ycOPGEeUuWLOGRRx6hRYsW1KpVi+7du59kSxERqUjyC338c/r3/G7dI3QN3EJ+7zFEXPrHsjnY6NHO+NRTZbN/ERGRCkQNbBnr2bMnPXv2dDuGiIj4SXpWPk9/9BWPpDxNm8AU6PchIVFl+IC+NWvKbt8iIiIVjBpYERGRM7R572FGjJ/FizkjaBCSTdDA6dCqjH9IOXly2e5fRESkAlEDKyIicgYWbdzHO5Om8Y55gfAqwQT9YS406uJ2LBERkXOKGlgREZHTsNby/rLtLJk3lfEhrxFSPZKguz6HOq3LJ8CoUc44fHj5HE9ERMTD1MCKiIicQnZ+IU/PiKMwdgbjQ94moO75BAyeAdUbll+ITZvK71giIiIepwZWRETkJBL2Z/LghFVckjqD50I+hKaXYgZOhio1yzfIhAnlezwREREPUwMrIiJynPnxKTz+2RqGmWk8EPwZnN8Hbh8PwVXcjiYiInJOUwMrIiJSrLDIx5j/bWbcki28WXMS1+d+CZ3vhBvfgECX/sp85hlnfO45d44vIiLiIWpgRUREgNTMPP7v09XEJKQwq/5HdMxYCD3+AlePBGPcC5aY6N6xRUREPEYNrIiInPNW7TrAnyasIj87g6VNxlI/9Qe4ZhT0+LPb0WD8eLcTiIiIeEaA2wEqm7FjxzJs2DC3Y4iIyBmw1vLx8h30H7ucuoGH+K7BK9RPWwG3/NcbzauIiIiUojOwfhYbG0uHDh3cjiEiIj/jQFY+T82I5at1e7m9tY/R2aMIPJgMAz6Ftr3djnfM00874wsvuJtDRETEA9TA+llcXBwDBw50O4aIiJzGd1tT+evUNaRn5TPmyiD6bfgLpiAb/jALml3qdrzS0tLcTiAiIuIZlbaB7T92+QnzftexIYO7tyAnv4i7x/90wvLbujbh9uimpGfl8+CEmFLLptzf/YyOGx8fT1RU1K8LLSIiZSq/0MfL/9vEuKUJtIqsxqTroNXX90BwVRgyH+pf6HbEE40b53YCERERz/DLPbDGmN7GmE3GmK3GmKdOsvyvxpj1xphYY8w3xpjmJZYVGWPWFE+z/ZHHLYmJiURERFCjRo1S82+88UaXEomIyBHb9mfS97/fMfbbBO64pBlze2fTat6dUK0u3POVN5tXERERKeWsz8AaYwKBt4BrgCRghTFmtrV2fYnVVgPR1tpsY8yDwItA/+JlOdbazmeb43inO2NaJSTwtMtrVws54zOuJZ3s/tcdO3bQokWLX7wvERHxD2stk1ck8tyc9YQFBzB2cFeuK1gI0x6Chh3hzmlQLdLtmKf22GPOOGaMuzlEREQ8wB+XEF8CbLXWJgAYYyYDNwNHG1hr7aIS6/8ADPLDcT0nLi7uhAZ21apVXHTRRS4lEhE5t5V8UFOPNnV45fedqR83Dr4eDi17woCJEBrhdszTy8lxO4GIiIhn+KOBbQyUfMt6EtDtNOvfC8wrUYcZY1YChcBoa+2sk21kjBkKDAVo1qzZWQUuK3FxccyfP59JkyYB0LBhQ6666ir69+//M1uKiIi/LVi/l7/PiiM9K5+/XX8B9/VoScA3z8L3b0D7W+HWsRAU6nbMn/fWW24nEBER8Qx/NLDmJPPsSVc0ZhAQDfQsMbuZtTbZGNMKWGiMibPWbjthh9aOA8YBREdHn3T/bps4ceIJ8/r06UNaWhpBQUHcfvvt9OzZ8yRbioiIv6Rm5jFi9jq+iN1D2/oRvH/XxUQ1qAZzHoI1E+Hi+6DPixAQ6HZUERER+YX80cAmAU1L1E2A5ONXMsZcDfwd6GmtzTsy31qbXDwmGGMWA12AExrYimrevHk/v5KIiJw1ay0zV+/muS/Wk51XxF+vOZ8HerYmxJcLU+6EzfOh19PQ80kwJ/vZq0c9/LAzvvaauzlEREQ8wB8N7ArgPGNMS2A3MAAo9SJUY0wXYCzQ21q7r8T8WkC2tTbPGBMJ9MB5wJOIiMgZSzqQzd9mxvPt5v1c1Kwm/+7XkfPqR0DOAZh0B+z6Aa4fA5f80e2oIiIichbOuoG11hYaYx4CvgICgQ+steuMMc8BK621s4GXgHDgM+P81HuXtfYmoB0w1hjjw3mlz+jjnl4sIiJySkU+y8fLd/DSV5sAGHHjhQzu3oLAAAOH9sCEfpC6GW77AKL6uhv219KZVxERkaP8cQYWa+1cYO5x854p8fnqU2z3PdDhZMtEREROZ8vewzwxPZbVuw7S8/y6/PPWKJrUquosTN0KE26F7HS48zNo/Rt3w4qIiIhf+KWBFRERKS+Hcgt4c+FWxn+3nfDQIF7t34lbOjfGHLmvNXk1TLgNsHDXHGhcwV9lNmyYM+ppxCIiIpWrgbXWHvsHjJyWtZ58kLOIyCkV+SxTVyby8v82kZaVz20XNeHJPhcQGV7iVTgJS2DyQKhSGwbPhMg27gX2lypV3E4gIiLiGZWmgQ0LCyMtLY06deqoif0Z1lrS0tIICwtzO4qIyBn5ISGN5+asZ/2eQ0Q3r8X4uy+hQ5MapVdaNwtm/BHqtIFBM6B6Q3fC+tuYMW4nEBER8YxK08A2adKEpKQk9u/f73aUCiEsLIwmTZq4HUNE5LQS07N5Yd4G5sal0LhmFf5zRxd+17HhiT+oXPEefPkYNO0GAydDlVruBBYREZEyVWka2ODgYFq2bOl2DBER8YOsvELeXryVd5duJ9AY/nrN+Qy9shVhwYGlV7QWlrwIi/8F5/eG28ZDSFV3QpeVoUOdcdw4d3OIiIh4QKVpYEVEpOLLKyxiyopE3ly4lX2H87ilcyOe7HMBDWuc5D5QXxHMexJWvAudBsJNb0BgcPmHLmt16ridQERExDPUwIqIiOvyCouYujKJtxdtZU9GLhe3qMU7g7tyUbNTXApcmAcz74d1M+Gy/4NrRkFlff7BCy+4nUBERMQz1MCKiIhr8gt9TItJ4q1FW9l9MIeuzWvx0m2d6NHmNA/kyzsMUwZBwmK45jno8ZdyzSwiIiLuUQMrIiLlrqDIx4xVSfxn4VaSDuTQuWlN/tW3A1eeF3n6J8lnpcLE22HPWrj5behyZ/mFdsuQIc44fry7OURERDxADayIiJSb/EIfs9bs5s2FW9mVnk3HJjUYdUsUvc6v+/OvQDu4Cz65FTKSYMBEaNunfEK7rWlTtxOIiIh4hhpYEREpc+lZ+Xz6404+Xr6TfYfzaN+oOu/fFc1VF9Q7s3d379vgNK/52TB4FjTvXvahveK559xOICIi4hlqYEVEpMxs3nuY8d9tZ8aq3eQV+rjivEj+fVvHMzvjesSuH+HT30NQGNwzD+q3L9vQIiIi4llqYEVExK98PsuSLfv5YNl2lm5JJTQogL4XNWZIj5acXz/il+1s81cw9S6o3ggGz4RazcsmtJcNGuSMEya4m0NERMQD1MCKiIhfHM4t4PM1yYz/bjvb9mdRLyKUx649n4HdmlO7Wsgv3+GaSfD5MGgQBXdOh/C6/g9dEbRt63YCERERz1ADKyIiv5rPZ/khIY3PYpKYF7+H3AIfHRrX4LX+nbm+Q0NCggJ+3Y6/fxP+93doeSX0nwhh1f0bvCIZPtztBCIiIp6hBlZERH6xxPRsPotJYnpMErsP5hARFkTfi5pwe9cmdG5a88zvbz2etbDgWfjudbjwZuj7LgSF+je8iIiIVFhqYEVE5Ixk5xcyLy6Fz2IS+SEhHWPg8jaRPNG7Lde1b0BYcODZHaCoEOb8BdZMgOh74PoxEHCW+6wMBgxwxsmT3c0hIiLiAWpgRUTklLLyClm8aT/z4vewaOM+svKLaF6nKo9ecz59uzahcc0q/jlQQQ5Muwc2zYWeT0Gvp+DXnsWtbDp3djuBiIiIZ6iBFRGRUjKyC1iwYS/z16Xw7eb95BX6qFMthJs6N+LWLk24uEWtX3+J8MnkHIRJd8Cu5c5Z10v+6L99VwZPPeV2AhEREc9QAysiIqRm5vG/dXuZF7+H5dvSKPRZGlQP445LmtE7qgEXt6hNYEAZnBE9nAKf9IXUzXDb+xDVz//HEBERkUpDDayIyDkov9DHql0HWLplP0u3pBK3OwNroXmdqtx7RUt6t29ApyY1CSiLpvWItG3wyS2QlQZ3ToXWV5XdsSqyfsVN/fTp7uYQERHxADWwIiLnAGstCalZLN3sNKzLE9LIzi8iMMDQpWlNHv7t+Vzbvj4XNIjw7+XBp5K8BibeBtYHd8+Bxl3L/pgVVffubicQERHxDDWwIiKVkLWWnWnZrNx5gBXb01m2NZXdB3MAaFGnKv0uasIV50Vyaes6VA8LLt9wCUtg8p1QpSYMngmR55Xv8Suaxx5zO4GIiIhnqIEVEakE8gt9xCdnELPjACt3phPz/+3deZhddZ3n8fc3taaSVHaykJCwhC2A0ERaxBZbQk9cID0MGMaHDLQyuDQK02qL6DOOdOvg+HTLOPrQMkpDA/0QmmUAW7EJaDczihAwLGExIQJJKitJKkullnvvb/44t4pKKguhQs6pyvv1PIffued3zr2fqhwu+fI7v3Ne28yGbR0ANDfW8t6jx/HZPz6aPzpmPEeMbcov6Av3wz2Xw5ijYf690Dw5vyySJGnAsYCVpAEmpcTrG9tY0rKF51ZlReszKzfTUaoAcMSYJt4/YxynTx/NrGljmHHY8Hd2Lutbtehm+MlfwJR3w8cXQNOYvBMNDOefn7UPPJBvDkmSCsACVpIKrFSu8Mr67SxpaeX5VVtY0tLKC6u3sLW9BEDtkGDm4SO55D3TmDVtNKdPG81hzY05p95FSvBv34FffBNm/AlcdCvU5zgKPNCcc07eCSRJKgwLWEkqgHIlsXJTG0vXbmPZ+m0sW7eNpWu38tKarT0jq411Qzh+YjNzT53MzMkjmTm5mWMnjKCxribn9HtRqcBDX4YnboJTLoa534eagzzndqC76qq8E0iSVBgWsJJ0ELXu6GLFxjZefWM7y9Zt61mWb9hOZ7VQBRg/ooEZhw1n/numMfPwZk6aPJIjxw2jtmZIjun3U6kT/s+n4fl74Mwr4dy/giEDKL8kSSocC1hJOoC6yhXWtLazYmMbr21s4/Xu5Y2sbd3R1bNvBEwZPZRjxg/n/ceO55jxwzn6sOEcM344I5sG+Chlxza4az688ijM/gacdVX2A2v/fehDWfuzn+WbQ5KkArCAlaS3qL2rzPqtHaxubWd16w7WtLbvtN7S2s6GbR2k9OYxdTXBlNFNTB3TxLumjuSIMU3VZRhHjhvG0PoCX/77dm1/I3vG6+rFMPcHcNoleSca2M47L+8EkiQVhgWspENWpZLY0t7Fxu2dbGrrYtP2TjZs62D91o6s3dbBhq1vbtvaUerzHiMaapk0qpGJI4dy/MRmJo1qZNLIRqZWC9VJI4dSU4Q7AB8sm1fAbf8eWlfAvDvg+A/nnWjg++xn804gSVJhWMBKGtAqlcS2zhJb20ts2dGVLd3r7V1s2VGqtl1saqsWqm2dbNreSeuOLipp9+/b3FjLuBENjB/ewAmTm3n/8AbGV19PHNnI5FGNTGhuZETjAL/U90Ba91JWvHZuh/n3wbT35p1IkiQNMgekgI2IOcD/BGqAH6WUrt+lvwH4B+B04A1gXkrp1WrfV4BPAmXg8ymlnx+ITJKKo1JJdJQqtHeVaS+VToKckgAAEiNJREFUae+qrneV2dFZpq2zzI6e9RJtXWXaq9u3d5bZ3lFie0eJbR0ltneW2N5RztY7SrR1lvf5+cPqa2geWseopnpGN9VxwsRmRg+rY3RTPaOa6hkzrLuvnvEjGhg7rL7Yd/YtohVPwB0XQW0D/NlPYeJJeScaPGbPztqFC/PNIUlSAfS7gI2IGuAHwLnASuDJiHggpfRCr90+CWxKKR0TERcD3wbmRcSJwMXATGAysDAijk0p7ftvpNIhIqVEJWWPWamkRKmSsvVKopyytntbudd6qVLZ+XU5a7sqFUrlRKlcoauStaVytl+pUqGrnOgqV+gqVegqV+js3re63lWu0FmqLr3WO0plOnpt6y5YO7qybfsrAobW1dBUX8OwhlqG1dcyvKGW8cMbmD42Wx9WXUY01NI8tJbmxjqah9ZV2+z1iMbagXXn3oFo6cOwYD40T8pGXkdPzzvR4DJvXt4JJEkqjAMxAnsGsCyltBwgIu4E5gK9C9i5wH+rrt8NfD8iorr9zpRSB/D7iFhWfb9f7+0DX1qzlbOuf3SnbTMmDOddU0bRVa5w/+KWPsecOKmZEyc3s6OzzD8/t7pP/8lTRnLshBFsbe/iX5asrW5989rC044YzVHjhrFpeyePvryuz/Gzpo/hiDFNrN/awWNL1+/Ul4AzjxrLpJFDWd26g18vf6PP8e87ZhzjRzSwYmMbi17b1Kf/A8eNZ9TQel7dsJ3FKzb36T/nhAkMb6xl6dptLGlp7dN/7swJDK2r4eU1W3l5zdY+/R86aSK1NUNYsqqV5Ru2Z7l7XVr5kVMmAfDcylZe39i2009XM2QI5544AYBnVmympXXHTu/dUFvD2ceOB+Dp1zexfmvHTv1N9TWcefQ4IPHUa5vY1NbV/dYAjGisZdb00aQEi17bxNb2rp2Ob26s4+QpIwFY9Oom2rvK9L4qdFRTHcdNGEFK8NvXN/UUU937jGmqZ/q4YVRS4pkVm6uXlKaen390Uz2TRjVSSfBiy5ZexyYSMGpoHWOGNVCuVHj1jbZev7esf0S1yOoqJ9Zv64DU3ZP9jhvqhlBXM4SucoUd1dHElGAPV7YedHVDgvrarADsLFcIgggYEhARHD1+OMMbauksV1i7pZ2IYEjAkAia6mu44A+mMLqpjt+t3cqSli0M6dU/JIJrP3I8o4bWs/DFtTy2dAM1Q97sB1jwqTMBuOnfXuGRF9fRVh2ZXb+1g8a6Gm79xBkAfO+Rpdz79Kqdso9uqufv5p8OwLcfeomnd/l3a9LIRm64+DQAvvHgEl6o/vl2O2r8MP77BacA8JV7n2X5+u079Z84uZmvnzcTgKvv/C2rW9t36v+DaaP58pzjAfj0bU+xqa1zp/6zjhnH58+ZAcClNz9Be9fO/+/unBMO44r3Hw3AvB/2/Vr86CmTmH/mdHZ0lrns75/o03/h6VO4aNZUNm7v5DO3P9Wn/5L3TOO8d02mZfMO/suCxX36//MfHcXsEyfwyvptXHvvc336P/fBGbyv7RGW3Hc916WvQ+1MuGs1kH3H/uWc4zh92hieem0j/+Ohl/sc/1/PO5GZk0fyf5du4H89urRP/7cuOJmjxw9n4Qtr+d+PLe/T/915pzJ51FAefKaF2x9/rU//jZeczphh9fzTohXc/dTKPv23/NkZDK2v4bZfv8pPnu3734Vdz73edj33/t+yDTv1H9Bzb+wfZuder3PAc28G75sxjiUtrVz34At9+j33/N7z3PPc89zb2UA+93Z1IArYw4EVvV6vBP5wT/uklEoR0QqMrW5/fJdjD9/dh0TEFcAVAPUTj2HV5p2LpFWbd/DLl9fv7tCe/odfXLvX/oeeX7OX/tVE7FzU9dayuKWnf3e73PfbVUREz2jaru5+aiVDIqjsoX/BEyuy40lUdjOYdecTrxMRPaN0ffp/82Z/uZKg1z1lAvjHan+pXKG8u+Or799ZqlCqVNjpljQR3PP0SgLoKFUo7fIDDAn4ybMtRARtnSVK5Z37W3cED7+wlgjY1l6itMsPuK2jxGNLsy/J1rauN98/suwdXRUWr9hMAJvbOrOfr/sHAyopsWzdNiJge2e5p7/7iR5bO0qs39pBBJTKiUr1TzCq/yxX/0yi12d290UETfW1jBteT0rQ0tre87vp3n/yqKFMHzeMrnKFJ36/sacvqgGOnTCco8cPp62zzGNLN/TkimrG044YzYzDRtC6o7Pn90S1iAzgj48/jOMmjGDNlnYefCb7PXcfG8B/OH0KJ0xq5pX127jryZU92yOy9/jcB4/hhEnNPP3aZm751e8ZUt3e/T79/UK76pwZPV9ob2zr7NN/xvSxDK2v4dmVm2modaR0QKmU4Tc3wsRTIJ0MQ7zsWpIkvbMi7akie6tvEHER8O9SSpdXX88Hzkgpfa7XPkuq+6ysvn6FbKT1OuDXKaXbq9t/DPw0pXTP3j5z1qxZadGiRf3KLUk6ALa/AfXDoK4x7ySD1wc+kLW//GWeKSRJOqgi4qmU0qxdtx+IEdiVwNRer6cAu17D273PyoioBUYCG9/isZKkoho2Nu8Eg99ll+WdQJKkwjgQBeyTwIyIOBJYRXZTpo/vss8DwKVkc1svBB5NKaWIeAD4x4j4W7KbOM0A+l5ULknSocoCVpKkHv0uYKtzWq8Efk72GJ2bU0pLIuI6YFFK6QHgx8Bt1Zs0bSQrcqnudxfZDZ9KwJ97B2JJknrpqt64rs5nDkuS1O85sHlwDqwk6ZDhHFhJ0iHonZwDK0mS3imXX553AkmSCsMCVpKkIrvkkrwTSJJUGD50UZKkImtryxZJkuQIrCRJhfbhD2etc2AlSbKAlSSp0D7zmbwTSJJUGBawkiQV2bx5eSeQJKkwnAMrSVKRtbZmiyRJcgRWkqRCmzs3a50DK0mSBawkSYX2+c/nnUCSpMKwgJUkqcguuCDvBJIkFYZzYCVJKrING7JFkiQ5AitJUqFdeGHWOgdWkiQLWEmSCu0LX8g7gSRJhWEBK0lSkZ13Xt4JJEkqDOfASpJUZGvWZIskSXIEVpKkQrv44qx1DqwkSRawkiQV2jXX5J1AkqTCsICVJKnI5szJO4EkSYXhHFhJkopsxYpskSRJjsBKklRo8+dnrXNgJUmygJUkqdC+9rW8E0iSVBgWsJIkFdns2XknkCSpMJwDK0lSkS1fni2SJMkRWEmSCu0Tn8ha58BKkmQBK0lSoX3jG3knkCSpMCxgJUkqsrPPzjuBJEmF4RxYSZKK7OWXs0WSJDkCK0lSoX3qU1nrHFhJkixgJUkqtG99K+8EkiQVhgWsJElF9t735p1AkqTCcA6sJElF9vzz2SJJkhyBlSSp0K68MmudAytJUv8K2IgYAywApgOvAh9LKW3aZZ9TgRuBZqAMfDOltKDadwtwNtBa3f2ylNLi/mSSJGlQ+c538k4gSVJh9PcS4muAR1JKM4BHqq931Qb8p5TSTGAOcENEjOrV/6WU0qnVxeJVkqTe3v3ubJEkSf0uYOcCt1bXbwX+dNcdUkq/Syktra63AOuA8f38XEmSDg2LF2eLJEnqdwE7IaW0GqDaHra3nSPiDKAeeKXX5m9GxLMR8d2IaNjLsVdExKKIWLR+/fp+xpYkaYC4+upskSRJ+54DGxELgYm76frq/nxQREwCbgMuTSlVqpu/AqwhK2pvAr4MXLe741NKN1X3YdasWWl/PluSpAHrhhvyTiBJUmHss4BNKc3eU19ErI2ISSml1dUCdd0e9msG/hn4Wkrp8V7vvbq62hERfw98cb/SS5I02J16at4JJEkqjP5eQvwAcGl1/VLg/l13iIh64D7gH1JK/7RL36RqG2TzZ33QnSRJvT35ZLZIkqR+Pwf2euCuiPgk8DpwEUBEzAI+nVK6HPgY8H5gbERcVj2u+3E5d0TEeCCAxcCn+5lHkqTB5UtfylqfAytJEpHSwJtOOmvWrLRo0aK8Y0iS9M57vnpx0kkn5ZtDkqSDKCKeSinN2nV7f0dgJUnSO8nCVZKkHv2dAytJkt5Jv/pVtkiSJEdgJUkqtGuvzVrnwEqSZAErSVKh/fCHeSeQJKkwLGAlSSqy447LO4EkSYXhHFhJkorsX/81WyRJkiOwkiQV2te/nrXOgZUkyQJWkqRCu/nmvBNIklQYFrCSJBXZUUflnUCSpMJwDqwkSUW2cGG2SJIkR2AlSSq0v/7rrJ09O98ckiQVgAWsJElFdttteSeQJKkwLGAlSSqyqVPzTiBJUmE4B1aSpCJ76KFskSRJjsBKklRo11+ftXPm5JtDkqQCsICVJKnI7rwz7wSSJBWGBawkSUU2cWLeCSRJKgznwEqSVGQPPpgtkiTJEVhJkgrtb/4ma887L98ckiQVgAWsJElFdvfdeSeQJKkwLGAlSSqycePyTiBJUmE4B1aSpCK7995skSRJjsBKklRo3/te1l5wQb45JEkqAAtYSZKK7P77804gSVJhWMBKklRkI0fmnUCSpMJwDqwkSUW2YEG2SJIkR2AlSSq0G2/M2nnz8s0hSVIBWMBKklRkP/1p3gkkSSoMC1hJkoqsqSnvBJIkFYZzYCVJKrLbb88WSZLkCKwkSYX2ox9l7SWX5JtDkqQC6FcBGxFjgAXAdOBV4GMppU272a8MPFd9+XpK6fzq9iOBO4ExwNPA/JRSZ38ySZI0qDz8cN4JJEkqjP5eQnwN8EhKaQbwSPX17uxIKZ1aXc7vtf3bwHerx28CPtnPPJIkDS51ddkiSZL6XcDOBW6trt8K/OlbPTAiAvggcPfbOV6SpEPCLbdkiyRJ6ncBOyGltBqg2h62h/0aI2JRRDweEd1F6lhgc0qpVH29Eji8n3kkSRpcLGAlSeqxzzmwEbEQmLibrq/ux+cckVJqiYijgEcj4jlgy272S3vJcQVwRfXltoh4eT8+X/tvHLAh7xDSAeC5rMFgHBGexxoM/E7WYOB5fHBM293GfRawKaXZe+qLiLURMSmltDoiJgHr9vAeLdV2eUT8EjgNuAcYFRG11VHYKUDLXnLcBNy0r7w6MCJiUUppVt45pP7yXNZg4HmswcJzWYOB53G++nsJ8QPApdX1S4H7d90hIkZHREN1fRxwFvBCSikBvwAu3NvxkiRJkiRB/wvY64FzI2IpcG71NRExKyKqD67jBGBRRDxDVrBen1J6odr3ZeAvImIZ2ZzYH/czjyRJkiRpkOrXc2BTSm8A5+xm+yLg8ur6r4CT93D8cuCM/mTQO8bLtTVYeC5rMPA81mDhuazBwPM4R5FdyStJkiRJUrH19xJiSZIkSZIOCgtY7VNEfDEiUvUmXNKAEhHfiYiXIuLZiLgvIkblnUnaHxExJyJejohlEXFN3nmk/RURUyPiFxHxYkQsiYir8s4k9UdE1ETEbyPiJ3lnORRZwGqvImIq2Q26Xs87i/Q2PQyclFI6Bfgd8JWc80hvWUTUAD8APgScCPzHiDgx31TSfisBX0gpnQC8B/hzz2MNcFcBL+Yd4lBlAat9+S7wl4CTpTUgpZT+pfqsaYDHyZ45LQ0UZwDLUkrLU0qdwJ3A3JwzSfslpbQ6pfR0dX0r2V/8D883lfT2RMQU4CPAj/a1r94ZFrDao4g4H1iVUnom7yzSAfIJ4Gd5h5D2w+HAil6vV+Jf/DWARcR04DTgN/kmkd62G8gGdyp5BzlU9esxOhr4ImIhMHE3XV8FrgX+5OAmkvbf3s7jlNL91X2+SnYZ2x0HM5vUT7GbbV4RowEpIoYD9wBXp5S25J1H2l8R8VFgXUrpqYj4QN55DlUWsIe4lNLs3W2PiJOBI4FnIgKyyy6fjogzUkprDmJEaZ/2dB53i4hLgY8C5ySfHaaBZSUwtdfrKUBLTlmkty0i6siK1ztSSvfmnUd6m84Czo+IDwONQHNE3J5SuiTnXIcUnwOrtyQiXgVmpZQ25J1F2h8RMQf4W+DslNL6vPNI+yMiasluPnYOsAp4Evh4SmlJrsGk/RDZ/wm/FdiYUro67zzSgVAdgf1iSumjeWc51DgHVtJg931gBPBwRCyOiL/LO5D0VlVvQHYl8HOyG9/cZfGqAegsYD7wwer38OLqCJYk7TdHYCVJkiRJA4IjsJIkSZKkAcECVpIkSZI0IFjASpIkSZIGBAtYSZIkSdKAYAErSZIkSRoQLGAlSZIkSQOCBawkSZIkaUCwgJUkSZIkDQj/H1cOQBsk9i+IAAAAAElFTkSuQmCC\n",
          "text/plain": "<Figure size 1152x432 with 1 Axes>"
         },
         "metadata": {
          "needs_background": "light"
         },
         "output_type": "display_data"
        }
       ]
      }
     },
     "3ae18cb728fa4e229937f7331a2c369f": {
      "model_module": "@jupyter-widgets/base",
      "model_module_version": "1.2.0",
      "model_name": "LayoutModel",
      "state": {}
     },
     "3b4f0e188db54903b9ab45f867a74378": {
      "model_module": "@jupyter-widgets/controls",
      "model_module_version": "1.5.0",
      "model_name": "FloatSliderModel",
      "state": {
       "description": "I_x",
       "layout": "IPY_MODEL_110ea236b0c445dba4728402f297788f",
       "max": 5,
       "min": -5,
       "step": 0.1,
       "style": "IPY_MODEL_2ee58955357d4f458e76f09fb95b5899"
      }
     },
     "3b50a4140dcd441bbc0783545f47fd17": {
      "model_module": "@jupyter-widgets/base",
      "model_module_version": "1.2.0",
      "model_name": "LayoutModel",
      "state": {}
     },
     "3c7c60404b614c829f7e8f87224d0e5c": {
      "model_module": "@jupyter-widgets/output",
      "model_module_version": "1.0.0",
      "model_name": "OutputModel",
      "state": {
       "layout": "IPY_MODEL_3e5918eae45d466f8d4b4fd0704033e3",
       "outputs": [
        {
         "data": {
          "image/png": "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\n",
          "text/plain": "<Figure size 1152x432 with 1 Axes>"
         },
         "metadata": {
          "needs_background": "light"
         },
         "output_type": "display_data"
        }
       ]
      }
     },
     "3e5918eae45d466f8d4b4fd0704033e3": {
      "model_module": "@jupyter-widgets/base",
      "model_module_version": "1.2.0",
      "model_name": "LayoutModel",
      "state": {}
     },
     "3f61845ba4074cd8ad3c552f74d5a6ee": {
      "model_module": "@jupyter-widgets/controls",
      "model_module_version": "1.5.0",
      "model_name": "FloatSliderModel",
      "state": {
       "description": "L_L",
       "layout": "IPY_MODEL_5a858d10df4d4498a6652c81f0ede1db",
       "max": 0,
       "min": -5,
       "step": 0.1,
       "style": "IPY_MODEL_32f3263944834a38981ae25d69727003"
      }
     },
     "40014a153fc942cc8adfe659bf91bbcc": {
      "model_module": "@jupyter-widgets/controls",
      "model_module_version": "1.5.0",
      "model_name": "SliderStyleModel",
      "state": {
       "description_width": ""
      }
     },
     "40d688ec3ec84bb298d7650af90ac47c": {
      "model_module": "@jupyter-widgets/controls",
      "model_module_version": "1.5.0",
      "model_name": "FloatSliderModel",
      "state": {
       "description": "b",
       "layout": "IPY_MODEL_7b6fe02ae2c74cfa9440bd88a9228c24",
       "max": 3,
       "min": -1,
       "step": 0.1,
       "style": "IPY_MODEL_8711f4a8824440caa27d84e15f13fca2",
       "value": 3
      }
     },
     "415ba4dc4dd144479e3b15b4e684bbcc": {
      "model_module": "@jupyter-widgets/controls",
      "model_module_version": "1.5.0",
      "model_name": "FloatSliderModel",
      "state": {
       "description": "L_U",
       "layout": "IPY_MODEL_d79f717b55f8454aad1815af1a0da45e",
       "max": 5,
       "step": 0.1,
       "style": "IPY_MODEL_7c0b11beccd444709c8da63012f10b27",
       "value": 1
      }
     },
     "444f9194cf4344fcbee48a8d5afd2c3f": {
      "model_module": "@jupyter-widgets/base",
      "model_module_version": "1.2.0",
      "model_name": "LayoutModel",
      "state": {}
     },
     "46bfa97d1ba64b2fb4947fdd4b1bf12f": {
      "model_module": "@jupyter-widgets/controls",
      "model_module_version": "1.5.0",
      "model_name": "VBoxModel",
      "state": {
       "_dom_classes": [
        "widget-interact"
       ],
       "children": [
        "IPY_MODEL_0375134cf091496b8d0ed5ee1fc2e905",
        "IPY_MODEL_313d27a464954e9ebed18e5b3782c47d",
        "IPY_MODEL_aecb164ed283451d9926579f3de73cc6",
        "IPY_MODEL_fe1b5db1e440429f9142467c188ebd56",
        "IPY_MODEL_5d5dd36f11c445bdb3e79ed104a8b2df",
        "IPY_MODEL_fe4d73454fdc4889b58c16e5e816aa94"
       ],
       "layout": "IPY_MODEL_a086a1b2a01e4977a3e888b0edad1a6f"
      }
     },
     "46c9b1e6ee3741cb99d8bc78555c66e7": {
      "model_module": "@jupyter-widgets/base",
      "model_module_version": "1.2.0",
      "model_name": "LayoutModel",
      "state": {}
     },
     "480f52bf62b24d0588a59e2b3728716f": {
      "model_module": "@jupyter-widgets/controls",
      "model_module_version": "1.5.0",
      "model_name": "SliderStyleModel",
      "state": {
       "description_width": ""
      }
     },
     "488d337c026c423d826795b4c0c69256": {
      "model_module": "@jupyter-widgets/controls",
      "model_module_version": "1.5.0",
      "model_name": "SliderStyleModel",
      "state": {
       "description_width": ""
      }
     },
     "49201be9ead64948b0c44d66727abca4": {
      "model_module": "@jupyter-widgets/controls",
      "model_module_version": "1.5.0",
      "model_name": "SliderStyleModel",
      "state": {
       "description_width": ""
      }
     },
     "4b7672e3a28f45f4bbb75a1ed53cefd3": {
      "model_module": "@jupyter-widgets/base",
      "model_module_version": "1.2.0",
      "model_name": "LayoutModel",
      "state": {}
     },
     "4f2641b7bd7940b1b12b28b457b7fead": {
      "model_module": "@jupyter-widgets/controls",
      "model_module_version": "1.5.0",
      "model_name": "FloatSliderModel",
      "state": {
       "description": "I_x",
       "layout": "IPY_MODEL_8fabb495d61d4d5aaa20be86cc0d7a87",
       "max": 5,
       "min": -5,
       "step": 0.1,
       "style": "IPY_MODEL_5a6a86c4fb9d477f9df91d9b0200f62d"
      }
     },
     "4fde5ecbdd784234bc6841178011ca29": {
      "model_module": "@jupyter-widgets/controls",
      "model_module_version": "1.5.0",
      "model_name": "SliderStyleModel",
      "state": {
       "description_width": ""
      }
     },
     "500c9f938894408f91655b662055de4b": {
      "model_module": "@jupyter-widgets/base",
      "model_module_version": "1.2.0",
      "model_name": "LayoutModel",
      "state": {}
     },
     "517cf7589693436e95715b98c369616e": {
      "model_module": "@jupyter-widgets/controls",
      "model_module_version": "1.5.0",
      "model_name": "SliderStyleModel",
      "state": {
       "description_width": ""
      }
     },
     "51c8ac8cb50c45a39cf6e8d42210206a": {
      "model_module": "@jupyter-widgets/base",
      "model_module_version": "1.2.0",
      "model_name": "LayoutModel",
      "state": {}
     },
     "51d4913a5c22416dbc46d244de9ebd1a": {
      "model_module": "@jupyter-widgets/base",
      "model_module_version": "1.2.0",
      "model_name": "LayoutModel",
      "state": {}
     },
     "54966e0c4e4a4f3e929b2d4e401aad75": {
      "model_module": "@jupyter-widgets/controls",
      "model_module_version": "1.5.0",
      "model_name": "FloatSliderModel",
      "state": {
       "description": "L_L",
       "layout": "IPY_MODEL_76f9dd74400c4e8d8d9575e56d3c5f49",
       "max": 0,
       "min": -5,
       "step": 0.1,
       "style": "IPY_MODEL_6fd9740a0b334b268c7d9d1cb1484c13"
      }
     },
     "5615f7323b2249279ccde9a2c05b66fe": {
      "model_module": "@jupyter-widgets/base",
      "model_module_version": "1.2.0",
      "model_name": "LayoutModel",
      "state": {}
     },
     "57872d3f37ce49faa7a1c73c4471b53c": {
      "model_module": "@jupyter-widgets/controls",
      "model_module_version": "1.5.0",
      "model_name": "VBoxModel",
      "state": {
       "_dom_classes": [
        "widget-interact"
       ],
       "children": [
        "IPY_MODEL_1efffc3cea904aed843b98decf90069c",
        "IPY_MODEL_89a6a3be16f54ae4adfcaf193c7cef52",
        "IPY_MODEL_3b4f0e188db54903b9ab45f867a74378",
        "IPY_MODEL_965ef8a40d9d4107a52295e0382e29fe",
        "IPY_MODEL_5e8d92ad81fb4e2189657c35740a809e",
        "IPY_MODEL_3a52134a639f4cb6a12560363f953c09"
       ],
       "layout": "IPY_MODEL_096a4d34cffc4660a0556bee189074fa"
      }
     },
     "5a36de739e464f789ff663b0cc8d6326": {
      "model_module": "@jupyter-widgets/base",
      "model_module_version": "1.2.0",
      "model_name": "LayoutModel",
      "state": {}
     },
     "5a6a86c4fb9d477f9df91d9b0200f62d": {
      "model_module": "@jupyter-widgets/controls",
      "model_module_version": "1.5.0",
      "model_name": "SliderStyleModel",
      "state": {
       "description_width": ""
      }
     },
     "5a718f6279ed4fcb96e7def212551419": {
      "model_module": "@jupyter-widgets/output",
      "model_module_version": "1.0.0",
      "model_name": "OutputModel",
      "state": {
       "layout": "IPY_MODEL_37ceb65f48a7499d823c02553f70cc29",
       "outputs": [
        {
         "data": {
          "image/png": "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\n",
          "text/plain": "<Figure size 1152x432 with 1 Axes>"
         },
         "metadata": {
          "needs_background": "light"
         },
         "output_type": "display_data"
        }
       ]
      }
     },
     "5a858d10df4d4498a6652c81f0ede1db": {
      "model_module": "@jupyter-widgets/base",
      "model_module_version": "1.2.0",
      "model_name": "LayoutModel",
      "state": {}
     },
     "5cd9a657b8cd42aca0cd074d2664dd95": {
      "model_module": "@jupyter-widgets/base",
      "model_module_version": "1.2.0",
      "model_name": "LayoutModel",
      "state": {}
     },
     "5d36a2e8dafb42f3844e52c91ae05d04": {
      "model_module": "@jupyter-widgets/controls",
      "model_module_version": "1.5.0",
      "model_name": "FloatSliderModel",
      "state": {
       "description": "I_x",
       "layout": "IPY_MODEL_500c9f938894408f91655b662055de4b",
       "max": 5,
       "min": -5,
       "step": 0.1,
       "style": "IPY_MODEL_99dcb7e2c8fe4396b9108a4093d53ddd"
      }
     },
     "5d5dd36f11c445bdb3e79ed104a8b2df": {
      "model_module": "@jupyter-widgets/controls",
      "model_module_version": "1.5.0",
      "model_name": "FloatSliderModel",
      "state": {
       "description": "c",
       "layout": "IPY_MODEL_b8e95fe129144ace8226939ef00c3faf",
       "max": 2,
       "min": -2,
       "step": 0.1,
       "style": "IPY_MODEL_83cb214a09464ccdb0e15f89c449c323"
      }
     },
     "5da87c0b80df4390be9ceb90a9b2ec7a": {
      "model_module": "@jupyter-widgets/controls",
      "model_module_version": "1.5.0",
      "model_name": "SliderStyleModel",
      "state": {
       "description_width": ""
      }
     },
     "5e8d92ad81fb4e2189657c35740a809e": {
      "model_module": "@jupyter-widgets/controls",
      "model_module_version": "1.5.0",
      "model_name": "FloatSliderModel",
      "state": {
       "description": "c",
       "layout": "IPY_MODEL_444f9194cf4344fcbee48a8d5afd2c3f",
       "max": 2,
       "min": -2,
       "step": 0.1,
       "style": "IPY_MODEL_39a35e294d104a02aef072a2e948b71c"
      }
     },
     "60642d432ed143f4957ac4152887aa8a": {
      "model_module": "@jupyter-widgets/controls",
      "model_module_version": "1.5.0",
      "model_name": "SliderStyleModel",
      "state": {
       "description_width": ""
      }
     },
     "60b0982b33cb4c29b94afec498f108e2": {
      "model_module": "@jupyter-widgets/base",
      "model_module_version": "1.2.0",
      "model_name": "LayoutModel",
      "state": {}
     },
     "614813e27bd241969239ec649c66eb6e": {
      "model_module": "@jupyter-widgets/base",
      "model_module_version": "1.2.0",
      "model_name": "LayoutModel",
      "state": {}
     },
     "61f6793c1a95445f8c8cabce58132307": {
      "model_module": "@jupyter-widgets/controls",
      "model_module_version": "1.5.0",
      "model_name": "SliderStyleModel",
      "state": {
       "description_width": ""
      }
     },
     "634df38a2ff945929f158093c5ab81e5": {
      "model_module": "@jupyter-widgets/controls",
      "model_module_version": "1.5.0",
      "model_name": "FloatSliderModel",
      "state": {
       "description": "L_L",
       "layout": "IPY_MODEL_294731c323e744db9e4f452cf3934073",
       "max": 0,
       "min": -5,
       "step": 0.1,
       "style": "IPY_MODEL_a3c6ee1d21e243509379bc6b26ad3cd6"
      }
     },
     "6386c1789f9949e683413266632fe184": {
      "model_module": "@jupyter-widgets/base",
      "model_module_version": "1.2.0",
      "model_name": "LayoutModel",
      "state": {}
     },
     "65b24a9432c343f6bba71a0e86a06845": {
      "model_module": "@jupyter-widgets/base",
      "model_module_version": "1.2.0",
      "model_name": "LayoutModel",
      "state": {}
     },
     "6600122a284d42efa3aef8e423a7ac0e": {
      "model_module": "@jupyter-widgets/controls",
      "model_module_version": "1.5.0",
      "model_name": "SliderStyleModel",
      "state": {
       "description_width": ""
      }
     },
     "669f038468da4a2bbea73bd81bf84b04": {
      "model_module": "@jupyter-widgets/base",
      "model_module_version": "1.2.0",
      "model_name": "LayoutModel",
      "state": {}
     },
     "68c7d97b691346e991342fd0cb6918a6": {
      "model_module": "@jupyter-widgets/controls",
      "model_module_version": "1.5.0",
      "model_name": "FloatSliderModel",
      "state": {
       "description": "c",
       "layout": "IPY_MODEL_2486cc39c54149b3a671c5fbb14e08fb",
       "max": 2,
       "min": -2,
       "step": 0.1,
       "style": "IPY_MODEL_8da07f95701b45fb943a54ea290a2850"
      }
     },
     "6923ff306a3142728dbfa69a7467db98": {
      "model_module": "@jupyter-widgets/controls",
      "model_module_version": "1.5.0",
      "model_name": "SliderStyleModel",
      "state": {
       "description_width": ""
      }
     },
     "69ec497b4f4c4264b715309bd64e0e87": {
      "model_module": "@jupyter-widgets/base",
      "model_module_version": "1.2.0",
      "model_name": "LayoutModel",
      "state": {}
     },
     "6a7fec68598046f69e8ccfd2f97710f5": {
      "model_module": "@jupyter-widgets/controls",
      "model_module_version": "1.5.0",
      "model_name": "SliderStyleModel",
      "state": {
       "description_width": ""
      }
     },
     "6fd9740a0b334b268c7d9d1cb1484c13": {
      "model_module": "@jupyter-widgets/controls",
      "model_module_version": "1.5.0",
      "model_name": "SliderStyleModel",
      "state": {
       "description_width": ""
      }
     },
     "71cdec3542f1434bace5d3642cf460fc": {
      "model_module": "@jupyter-widgets/controls",
      "model_module_version": "1.5.0",
      "model_name": "SliderStyleModel",
      "state": {
       "description_width": ""
      }
     },
     "732e14df1ab44668adbe01529ec84ee3": {
      "model_module": "@jupyter-widgets/controls",
      "model_module_version": "1.5.0",
      "model_name": "VBoxModel",
      "state": {
       "_dom_classes": [
        "widget-interact"
       ],
       "children": [
        "IPY_MODEL_d13a184321dc4c6a92fb855dfaa42a92",
        "IPY_MODEL_ca97fc7654dd4b6c9508b8fe5cc3d764",
        "IPY_MODEL_e7ca0ad09616475db9fd47881af2340f",
        "IPY_MODEL_83c88674d5224abe8cb4c38a70b4bcae",
        "IPY_MODEL_2563875e10a341689295ad195ed86651",
        "IPY_MODEL_3c7c60404b614c829f7e8f87224d0e5c"
       ],
       "layout": "IPY_MODEL_943b67728fed40938afb2c28eba1ec27"
      }
     },
     "73bdf5f67495415b9f6e965fa93ce0fb": {
      "model_module": "@jupyter-widgets/controls",
      "model_module_version": "1.5.0",
      "model_name": "SliderStyleModel",
      "state": {
       "description_width": ""
      }
     },
     "76f9dd74400c4e8d8d9575e56d3c5f49": {
      "model_module": "@jupyter-widgets/base",
      "model_module_version": "1.2.0",
      "model_name": "LayoutModel",
      "state": {}
     },
     "771bf2bb9a5d4f56ab8b1b095ccf5c0b": {
      "model_module": "@jupyter-widgets/controls",
      "model_module_version": "1.5.0",
      "model_name": "VBoxModel",
      "state": {
       "_dom_classes": [
        "widget-interact"
       ],
       "children": [
        "IPY_MODEL_80d6bb44b1ef48d8a25f7c36eef9e1c1",
        "IPY_MODEL_415ba4dc4dd144479e3b15b4e684bbcc",
        "IPY_MODEL_4f2641b7bd7940b1b12b28b457b7fead",
        "IPY_MODEL_c479279594104a7da0afe6e29a04a679",
        "IPY_MODEL_d3860216e4854b10a66635002d6b934f",
        "IPY_MODEL_8e39785f167040038adfd96ea097da68"
       ],
       "layout": "IPY_MODEL_79faf2fca78840d1826007b05dd4f0a6"
      }
     },
     "7930632f61854a03b312953e1ef24b89": {
      "model_module": "@jupyter-widgets/base",
      "model_module_version": "1.2.0",
      "model_name": "LayoutModel",
      "state": {}
     },
     "7981268b36214b249c80e5a4a2f7b5be": {
      "model_module": "@jupyter-widgets/controls",
      "model_module_version": "1.5.0",
      "model_name": "FloatSliderModel",
      "state": {
       "description": "a",
       "layout": "IPY_MODEL_0776996b13c2402b9939f1032c1daba7",
       "max": 5,
       "min": -5,
       "step": 0.1,
       "style": "IPY_MODEL_05740e7176334614b892fa882b00f189"
      }
     },
     "79faf2fca78840d1826007b05dd4f0a6": {
      "model_module": "@jupyter-widgets/base",
      "model_module_version": "1.2.0",
      "model_name": "LayoutModel",
      "state": {}
     },
     "7b6fe02ae2c74cfa9440bd88a9228c24": {
      "model_module": "@jupyter-widgets/base",
      "model_module_version": "1.2.0",
      "model_name": "LayoutModel",
      "state": {}
     },
     "7bff2b08aaf54b2ca203ebd86fef92ab": {
      "model_module": "@jupyter-widgets/controls",
      "model_module_version": "1.5.0",
      "model_name": "FloatSliderModel",
      "state": {
       "description": "b",
       "layout": "IPY_MODEL_bbd696af2d1b4a5eb9944235ed49936e",
       "max": 3,
       "min": -1,
       "step": 0.1,
       "style": "IPY_MODEL_60642d432ed143f4957ac4152887aa8a",
       "value": 2
      }
     },
     "7c0b11beccd444709c8da63012f10b27": {
      "model_module": "@jupyter-widgets/controls",
      "model_module_version": "1.5.0",
      "model_name": "SliderStyleModel",
      "state": {
       "description_width": ""
      }
     },
     "7c7be9f709854e3995d12500eae022cc": {
      "model_module": "@jupyter-widgets/base",
      "model_module_version": "1.2.0",
      "model_name": "LayoutModel",
      "state": {}
     },
     "7df44ec8c0764c7b869074fc63de2efb": {
      "model_module": "@jupyter-widgets/controls",
      "model_module_version": "1.5.0",
      "model_name": "FloatSliderModel",
      "state": {
       "description": "c",
       "layout": "IPY_MODEL_ea9223b8de4e40c899dc5a80600a0ed3",
       "max": 2,
       "min": -2,
       "step": 0.1,
       "style": "IPY_MODEL_5da87c0b80df4390be9ceb90a9b2ec7a",
       "value": 1
      }
     },
     "7f1f7b304eec4f0898dd5596622b80ac": {
      "model_module": "@jupyter-widgets/base",
      "model_module_version": "1.2.0",
      "model_name": "LayoutModel",
      "state": {}
     },
     "80d6bb44b1ef48d8a25f7c36eef9e1c1": {
      "model_module": "@jupyter-widgets/controls",
      "model_module_version": "1.5.0",
      "model_name": "FloatSliderModel",
      "state": {
       "description": "L_L",
       "layout": "IPY_MODEL_1afafc85b2064a6f857b8cb83d5059ee",
       "max": 0,
       "min": -5,
       "step": 0.1,
       "style": "IPY_MODEL_f56d8a27c69f4310ae8ae342a3ca6caa"
      }
     },
     "81af9a5ff3534214b22566bc35fa906a": {
      "model_module": "@jupyter-widgets/controls",
      "model_module_version": "1.5.0",
      "model_name": "FloatSliderModel",
      "state": {
       "description": "b",
       "layout": "IPY_MODEL_65b24a9432c343f6bba71a0e86a06845",
       "max": 3,
       "min": -1,
       "step": 0.1,
       "style": "IPY_MODEL_4fde5ecbdd784234bc6841178011ca29",
       "value": 3
      }
     },
     "834e9bff56584102887ef5115cc6043c": {
      "model_module": "@jupyter-widgets/controls",
      "model_module_version": "1.5.0",
      "model_name": "FloatSliderModel",
      "state": {
       "description": "c",
       "layout": "IPY_MODEL_32e0ed06105449a0b7b79e4afb788d22",
       "max": 2,
       "min": -2,
       "step": 0.1,
       "style": "IPY_MODEL_c5cf3821e3294986a3dde033ea132889",
       "value": 1
      }
     },
     "83c88674d5224abe8cb4c38a70b4bcae": {
      "model_module": "@jupyter-widgets/controls",
      "model_module_version": "1.5.0",
      "model_name": "FloatSliderModel",
      "state": {
       "description": "S",
       "layout": "IPY_MODEL_c0017486d65349d7903e064344c3d6ba",
       "max": 3,
       "min": -2,
       "step": 0.1,
       "style": "IPY_MODEL_ee5f0a6bd4d140beb049e587fd252a82",
       "value": 2
      }
     },
     "83cb214a09464ccdb0e15f89c449c323": {
      "model_module": "@jupyter-widgets/controls",
      "model_module_version": "1.5.0",
      "model_name": "SliderStyleModel",
      "state": {
       "description_width": ""
      }
     },
     "8465faa91d1a4885b60469161dde97bc": {
      "model_module": "@jupyter-widgets/controls",
      "model_module_version": "1.5.0",
      "model_name": "SliderStyleModel",
      "state": {
       "description_width": ""
      }
     },
     "85f9594ba71c45ec9616c370dfbe7d20": {
      "model_module": "@jupyter-widgets/controls",
      "model_module_version": "1.5.0",
      "model_name": "SliderStyleModel",
      "state": {
       "description_width": ""
      }
     },
     "8711f4a8824440caa27d84e15f13fca2": {
      "model_module": "@jupyter-widgets/controls",
      "model_module_version": "1.5.0",
      "model_name": "SliderStyleModel",
      "state": {
       "description_width": ""
      }
     },
     "89a6a3be16f54ae4adfcaf193c7cef52": {
      "model_module": "@jupyter-widgets/controls",
      "model_module_version": "1.5.0",
      "model_name": "FloatSliderModel",
      "state": {
       "description": "L_U",
       "layout": "IPY_MODEL_5cd9a657b8cd42aca0cd074d2664dd95",
       "max": 5,
       "step": 0.1,
       "style": "IPY_MODEL_1eb9f525795b498487cf1bdc9d52333e",
       "value": 1
      }
     },
     "8a6112423eb34615a340ee6fa4262b46": {
      "model_module": "@jupyter-widgets/controls",
      "model_module_version": "1.5.0",
      "model_name": "SliderStyleModel",
      "state": {
       "description_width": ""
      }
     },
     "8d80c040a1034330ac6f1e6d3df2f577": {
      "model_module": "@jupyter-widgets/controls",
      "model_module_version": "1.5.0",
      "model_name": "SliderStyleModel",
      "state": {
       "description_width": ""
      }
     },
     "8da07f95701b45fb943a54ea290a2850": {
      "model_module": "@jupyter-widgets/controls",
      "model_module_version": "1.5.0",
      "model_name": "SliderStyleModel",
      "state": {
       "description_width": ""
      }
     },
     "8e39785f167040038adfd96ea097da68": {
      "model_module": "@jupyter-widgets/output",
      "model_module_version": "1.0.0",
      "model_name": "OutputModel",
      "state": {
       "layout": "IPY_MODEL_f448f9826bf24566a7b8d50cf8cc57ca",
       "outputs": [
        {
         "data": {
          "image/png": "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\n",
          "text/plain": "<Figure size 1152x432 with 1 Axes>"
         },
         "metadata": {
          "needs_background": "light"
         },
         "output_type": "display_data"
        }
       ]
      }
     },
     "8eab72167d9f4cd5a3161551c6b49772": {
      "model_module": "@jupyter-widgets/base",
      "model_module_version": "1.2.0",
      "model_name": "LayoutModel",
      "state": {}
     },
     "8ebb984b21604fa2b05f771407398256": {
      "model_module": "@jupyter-widgets/base",
      "model_module_version": "1.2.0",
      "model_name": "LayoutModel",
      "state": {}
     },
     "8fabb495d61d4d5aaa20be86cc0d7a87": {
      "model_module": "@jupyter-widgets/base",
      "model_module_version": "1.2.0",
      "model_name": "LayoutModel",
      "state": {}
     },
     "941280f1229d4f78bd0d2795845dce8a": {
      "model_module": "@jupyter-widgets/base",
      "model_module_version": "1.2.0",
      "model_name": "LayoutModel",
      "state": {}
     },
     "943b67728fed40938afb2c28eba1ec27": {
      "model_module": "@jupyter-widgets/base",
      "model_module_version": "1.2.0",
      "model_name": "LayoutModel",
      "state": {}
     },
     "9536507d6d51455b8d4b917a942a0c4c": {
      "model_module": "@jupyter-widgets/controls",
      "model_module_version": "1.5.0",
      "model_name": "FloatSliderModel",
      "state": {
       "description": "c",
       "layout": "IPY_MODEL_5615f7323b2249279ccde9a2c05b66fe",
       "max": 2,
       "min": -2,
       "step": 0.1,
       "style": "IPY_MODEL_73bdf5f67495415b9f6e965fa93ce0fb",
       "value": 1
      }
     },
     "965ef8a40d9d4107a52295e0382e29fe": {
      "model_module": "@jupyter-widgets/controls",
      "model_module_version": "1.5.0",
      "model_name": "FloatSliderModel",
      "state": {
       "description": "b",
       "layout": "IPY_MODEL_2c5e44ed5b714f01949b6dd6c5f58b2d",
       "max": 3,
       "min": -1,
       "step": 0.1,
       "style": "IPY_MODEL_b2812205476548b281925611abfa2b42",
       "value": 2
      }
     },
     "99dcb7e2c8fe4396b9108a4093d53ddd": {
      "model_module": "@jupyter-widgets/controls",
      "model_module_version": "1.5.0",
      "model_name": "SliderStyleModel",
      "state": {
       "description_width": ""
      }
     },
     "9e5ae9e9c15f43f8b4e4844a2f9145ea": {
      "model_module": "@jupyter-widgets/controls",
      "model_module_version": "1.5.0",
      "model_name": "VBoxModel",
      "state": {
       "_dom_classes": [
        "widget-interact"
       ],
       "children": [
        "IPY_MODEL_54966e0c4e4a4f3e929b2d4e401aad75",
        "IPY_MODEL_2325efb46ade49108817226fc6a9a1f0",
        "IPY_MODEL_7981268b36214b249c80e5a4a2f7b5be",
        "IPY_MODEL_b9beef2ed0e645dd9ef7190a6fbf30a6",
        "IPY_MODEL_7df44ec8c0764c7b869074fc63de2efb",
        "IPY_MODEL_ff22f53e32bd4497b1f26dc236bfec35"
       ],
       "layout": "IPY_MODEL_5a36de739e464f789ff663b0cc8d6326"
      }
     },
     "9f12ed18725443bd91fcbf54523f9d6a": {
      "model_module": "@jupyter-widgets/base",
      "model_module_version": "1.2.0",
      "model_name": "LayoutModel",
      "state": {}
     },
     "a086a1b2a01e4977a3e888b0edad1a6f": {
      "model_module": "@jupyter-widgets/base",
      "model_module_version": "1.2.0",
      "model_name": "LayoutModel",
      "state": {}
     },
     "a1a07a80cb7e44b284c06d6f282f62eb": {
      "model_module": "@jupyter-widgets/base",
      "model_module_version": "1.2.0",
      "model_name": "LayoutModel",
      "state": {}
     },
     "a1ede226c82d421a8e872b819b6775f8": {
      "model_module": "@jupyter-widgets/controls",
      "model_module_version": "1.5.0",
      "model_name": "SliderStyleModel",
      "state": {
       "description_width": ""
      }
     },
     "a3c6ee1d21e243509379bc6b26ad3cd6": {
      "model_module": "@jupyter-widgets/controls",
      "model_module_version": "1.5.0",
      "model_name": "SliderStyleModel",
      "state": {
       "description_width": ""
      }
     },
     "a3ca2b02fb02461e8dfaaaebfc381aa4": {
      "model_module": "@jupyter-widgets/base",
      "model_module_version": "1.2.0",
      "model_name": "LayoutModel",
      "state": {}
     },
     "a581cd6d585949d7a6277525597a8bca": {
      "model_module": "@jupyter-widgets/controls",
      "model_module_version": "1.5.0",
      "model_name": "SliderStyleModel",
      "state": {
       "description_width": ""
      }
     },
     "ab54b11b9e744b14a5dbd8bc302b1ff1": {
      "model_module": "@jupyter-widgets/controls",
      "model_module_version": "1.5.0",
      "model_name": "SliderStyleModel",
      "state": {
       "description_width": ""
      }
     },
     "aecb164ed283451d9926579f3de73cc6": {
      "model_module": "@jupyter-widgets/controls",
      "model_module_version": "1.5.0",
      "model_name": "FloatSliderModel",
      "state": {
       "description": "I_x",
       "layout": "IPY_MODEL_614813e27bd241969239ec649c66eb6e",
       "max": 5,
       "min": -5,
       "step": 0.1,
       "style": "IPY_MODEL_e63c5f370c354ecca033957ce473de59"
      }
     },
     "b01118bfeb0f48f3999a1630be6c970a": {
      "model_module": "@jupyter-widgets/controls",
      "model_module_version": "1.5.0",
      "model_name": "SliderStyleModel",
      "state": {
       "description_width": ""
      }
     },
     "b2812205476548b281925611abfa2b42": {
      "model_module": "@jupyter-widgets/controls",
      "model_module_version": "1.5.0",
      "model_name": "SliderStyleModel",
      "state": {
       "description_width": ""
      }
     },
     "b8e95fe129144ace8226939ef00c3faf": {
      "model_module": "@jupyter-widgets/base",
      "model_module_version": "1.2.0",
      "model_name": "LayoutModel",
      "state": {}
     },
     "b9beef2ed0e645dd9ef7190a6fbf30a6": {
      "model_module": "@jupyter-widgets/controls",
      "model_module_version": "1.5.0",
      "model_name": "FloatSliderModel",
      "state": {
       "description": "b",
       "layout": "IPY_MODEL_01aa18713d024ec0933942bcb05c33ac",
       "max": 3,
       "min": -1,
       "step": 0.1,
       "style": "IPY_MODEL_8d80c040a1034330ac6f1e6d3df2f577",
       "value": 3
      }
     },
     "bb2d2727bc1a4924908aeb67df7fce19": {
      "model_module": "@jupyter-widgets/controls",
      "model_module_version": "1.5.0",
      "model_name": "SliderStyleModel",
      "state": {
       "description_width": ""
      }
     },
     "bbd696af2d1b4a5eb9944235ed49936e": {
      "model_module": "@jupyter-widgets/base",
      "model_module_version": "1.2.0",
      "model_name": "LayoutModel",
      "state": {}
     },
     "bdcf978361bc41e48ad40fdf30eed17b": {
      "model_module": "@jupyter-widgets/controls",
      "model_module_version": "1.5.0",
      "model_name": "FloatSliderModel",
      "state": {
       "description": "L_U",
       "layout": "IPY_MODEL_4b7672e3a28f45f4bbb75a1ed53cefd3",
       "max": 5,
       "step": 0.1,
       "style": "IPY_MODEL_b01118bfeb0f48f3999a1630be6c970a",
       "value": 1
      }
     },
     "c0017486d65349d7903e064344c3d6ba": {
      "model_module": "@jupyter-widgets/base",
      "model_module_version": "1.2.0",
      "model_name": "LayoutModel",
      "state": {}
     },
     "c479279594104a7da0afe6e29a04a679": {
      "model_module": "@jupyter-widgets/controls",
      "model_module_version": "1.5.0",
      "model_name": "FloatSliderModel",
      "state": {
       "description": "S",
       "layout": "IPY_MODEL_00040f0934ea48d5bf7fe932ed2c4410",
       "max": 3,
       "min": -2,
       "step": 0.1,
       "style": "IPY_MODEL_3637887fde3b46b89fd5a3d5bc7176dc",
       "value": 2
      }
     },
     "c5cf3821e3294986a3dde033ea132889": {
      "model_module": "@jupyter-widgets/controls",
      "model_module_version": "1.5.0",
      "model_name": "SliderStyleModel",
      "state": {
       "description_width": ""
      }
     },
     "ca97fc7654dd4b6c9508b8fe5cc3d764": {
      "model_module": "@jupyter-widgets/controls",
      "model_module_version": "1.5.0",
      "model_name": "FloatSliderModel",
      "state": {
       "description": "L_U",
       "layout": "IPY_MODEL_9f12ed18725443bd91fcbf54523f9d6a",
       "max": 5,
       "step": 0.1,
       "style": "IPY_MODEL_488d337c026c423d826795b4c0c69256",
       "value": 1
      }
     },
     "cca9c66cce32465782ab67fc7612d30a": {
      "model_module": "@jupyter-widgets/output",
      "model_module_version": "1.0.0",
      "model_name": "OutputModel",
      "state": {
       "layout": "IPY_MODEL_d6326cc05eee4d95877265be49fbbbab",
       "outputs": [
        {
         "data": {
          "image/png": "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\n",
          "text/plain": "<Figure size 1152x432 with 1 Axes>"
         },
         "metadata": {
          "needs_background": "light"
         },
         "output_type": "display_data"
        }
       ]
      }
     },
     "d13a184321dc4c6a92fb855dfaa42a92": {
      "model_module": "@jupyter-widgets/controls",
      "model_module_version": "1.5.0",
      "model_name": "FloatSliderModel",
      "state": {
       "description": "L_L",
       "layout": "IPY_MODEL_8ebb984b21604fa2b05f771407398256",
       "max": 0,
       "min": -5,
       "step": 0.1,
       "style": "IPY_MODEL_85f9594ba71c45ec9616c370dfbe7d20"
      }
     },
     "d2e824bb9c9b4aefb1f9142a2930fc46": {
      "model_module": "@jupyter-widgets/controls",
      "model_module_version": "1.5.0",
      "model_name": "FloatSliderModel",
      "state": {
       "description": "I_x",
       "layout": "IPY_MODEL_6386c1789f9949e683413266632fe184",
       "max": 5,
       "min": -5,
       "step": 0.1,
       "style": "IPY_MODEL_a1ede226c82d421a8e872b819b6775f8"
      }
     },
     "d3860216e4854b10a66635002d6b934f": {
      "model_module": "@jupyter-widgets/controls",
      "model_module_version": "1.5.0",
      "model_name": "FloatSliderModel",
      "state": {
       "description": "c",
       "layout": "IPY_MODEL_3b50a4140dcd441bbc0783545f47fd17",
       "max": 2,
       "min": -2,
       "step": 0.1,
       "style": "IPY_MODEL_8465faa91d1a4885b60469161dde97bc",
       "value": 1
      }
     },
     "d3f0422214284fa1be0e2373311a8f74": {
      "model_module": "@jupyter-widgets/controls",
      "model_module_version": "1.5.0",
      "model_name": "FloatSliderModel",
      "state": {
       "description": "a",
       "layout": "IPY_MODEL_22137513e0154ea6bc072609d9a92111",
       "max": 5,
       "min": -5,
       "step": 0.1,
       "style": "IPY_MODEL_517cf7589693436e95715b98c369616e"
      }
     },
     "d520999c7a3b4ddeaa140490f66e67fa": {
      "model_module": "@jupyter-widgets/controls",
      "model_module_version": "1.5.0",
      "model_name": "FloatSliderModel",
      "state": {
       "description": "L_L",
       "layout": "IPY_MODEL_33f199c4547343169b51b519df88e71a",
       "max": 0,
       "min": -5,
       "step": 0.1,
       "style": "IPY_MODEL_6600122a284d42efa3aef8e423a7ac0e"
      }
     },
     "d6326cc05eee4d95877265be49fbbbab": {
      "model_module": "@jupyter-widgets/base",
      "model_module_version": "1.2.0",
      "model_name": "LayoutModel",
      "state": {}
     },
     "d79f717b55f8454aad1815af1a0da45e": {
      "model_module": "@jupyter-widgets/base",
      "model_module_version": "1.2.0",
      "model_name": "LayoutModel",
      "state": {}
     },
     "d9af60a3ecb9490a9821c7d8787b3fdd": {
      "model_module": "@jupyter-widgets/controls",
      "model_module_version": "1.5.0",
      "model_name": "VBoxModel",
      "state": {
       "_dom_classes": [
        "widget-interact"
       ],
       "children": [
        "IPY_MODEL_d520999c7a3b4ddeaa140490f66e67fa",
        "IPY_MODEL_343bb812786c4167930eaad7f136c21c",
        "IPY_MODEL_d3f0422214284fa1be0e2373311a8f74",
        "IPY_MODEL_81af9a5ff3534214b22566bc35fa906a",
        "IPY_MODEL_9536507d6d51455b8d4b917a942a0c4c",
        "IPY_MODEL_5a718f6279ed4fcb96e7def212551419"
       ],
       "layout": "IPY_MODEL_25779dea8df04f55a5bce3398ad06367"
      }
     },
     "dadd7b6cbd9748818e92bbcb82e9a18e": {
      "model_module": "@jupyter-widgets/controls",
      "model_module_version": "1.5.0",
      "model_name": "FloatSliderModel",
      "state": {
       "description": "S",
       "layout": "IPY_MODEL_7f1f7b304eec4f0898dd5596622b80ac",
       "max": 3,
       "min": -2,
       "step": 0.1,
       "style": "IPY_MODEL_bb2d2727bc1a4924908aeb67df7fce19",
       "value": 2
      }
     },
     "e10fec79a85744e086d81c09cd484400": {
      "model_module": "@jupyter-widgets/base",
      "model_module_version": "1.2.0",
      "model_name": "LayoutModel",
      "state": {}
     },
     "e24feecb859e4a8bb5f5a588dc9ed4eb": {
      "model_module": "@jupyter-widgets/base",
      "model_module_version": "1.2.0",
      "model_name": "LayoutModel",
      "state": {}
     },
     "e63c5f370c354ecca033957ce473de59": {
      "model_module": "@jupyter-widgets/controls",
      "model_module_version": "1.5.0",
      "model_name": "SliderStyleModel",
      "state": {
       "description_width": ""
      }
     },
     "e7ca0ad09616475db9fd47881af2340f": {
      "model_module": "@jupyter-widgets/controls",
      "model_module_version": "1.5.0",
      "model_name": "FloatSliderModel",
      "state": {
       "description": "I_x",
       "layout": "IPY_MODEL_a3ca2b02fb02461e8dfaaaebfc381aa4",
       "max": 5,
       "min": -5,
       "step": 0.1,
       "style": "IPY_MODEL_f33ce4ef4b534aedb47f722a8f3c131c"
      }
     },
     "ea9223b8de4e40c899dc5a80600a0ed3": {
      "model_module": "@jupyter-widgets/base",
      "model_module_version": "1.2.0",
      "model_name": "LayoutModel",
      "state": {}
     },
     "ee44adbebcb14b78bc2091fc2f7d6c01": {
      "model_module": "@jupyter-widgets/base",
      "model_module_version": "1.2.0",
      "model_name": "LayoutModel",
      "state": {}
     },
     "ee5f0a6bd4d140beb049e587fd252a82": {
      "model_module": "@jupyter-widgets/controls",
      "model_module_version": "1.5.0",
      "model_name": "SliderStyleModel",
      "state": {
       "description_width": ""
      }
     },
     "f1b645693f4b4cee8f31a4562af6fdcd": {
      "model_module": "@jupyter-widgets/controls",
      "model_module_version": "1.5.0",
      "model_name": "SliderStyleModel",
      "state": {
       "description_width": ""
      }
     },
     "f33ce4ef4b534aedb47f722a8f3c131c": {
      "model_module": "@jupyter-widgets/controls",
      "model_module_version": "1.5.0",
      "model_name": "SliderStyleModel",
      "state": {
       "description_width": ""
      }
     },
     "f448f9826bf24566a7b8d50cf8cc57ca": {
      "model_module": "@jupyter-widgets/base",
      "model_module_version": "1.2.0",
      "model_name": "LayoutModel",
      "state": {}
     },
     "f56d8a27c69f4310ae8ae342a3ca6caa": {
      "model_module": "@jupyter-widgets/controls",
      "model_module_version": "1.5.0",
      "model_name": "SliderStyleModel",
      "state": {
       "description_width": ""
      }
     },
     "fc39fcb8fe0a4456b49ebe1d8e80c8c4": {
      "model_module": "@jupyter-widgets/controls",
      "model_module_version": "1.5.0",
      "model_name": "SliderStyleModel",
      "state": {
       "description_width": ""
      }
     },
     "fe1b5db1e440429f9142467c188ebd56": {
      "model_module": "@jupyter-widgets/controls",
      "model_module_version": "1.5.0",
      "model_name": "FloatSliderModel",
      "state": {
       "description": "b",
       "layout": "IPY_MODEL_ee44adbebcb14b78bc2091fc2f7d6c01",
       "max": 3,
       "min": -1,
       "step": 0.1,
       "style": "IPY_MODEL_71cdec3542f1434bace5d3642cf460fc",
       "value": 2
      }
     },
     "fe4d73454fdc4889b58c16e5e816aa94": {
      "model_module": "@jupyter-widgets/output",
      "model_module_version": "1.0.0",
      "model_name": "OutputModel",
      "state": {
       "layout": "IPY_MODEL_69ec497b4f4c4264b715309bd64e0e87",
       "outputs": [
        {
         "data": {
          "image/png": "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\n",
          "text/plain": "<Figure size 1152x432 with 1 Axes>"
         },
         "metadata": {
          "needs_background": "light"
         },
         "output_type": "display_data"
        }
       ]
      }
     },
     "ff1b589551e74eafb1e2e9baa467aa59": {
      "model_module": "@jupyter-widgets/base",
      "model_module_version": "1.2.0",
      "model_name": "LayoutModel",
      "state": {}
     },
     "ff22f53e32bd4497b1f26dc236bfec35": {
      "model_module": "@jupyter-widgets/output",
      "model_module_version": "1.0.0",
      "model_name": "OutputModel",
      "state": {
       "layout": "IPY_MODEL_46c9b1e6ee3741cb99d8bc78555c66e7",
       "outputs": [
        {
         "data": {
          "image/png": "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\n",
          "text/plain": "<Figure size 1152x432 with 1 Axes>"
         },
         "metadata": {
          "needs_background": "light"
         },
         "output_type": "display_data"
        }
       ]
      }
     }
    },
    "version_major": 2,
    "version_minor": 0
   }
  }
 },
 "nbformat": 4,
 "nbformat_minor": 2
}